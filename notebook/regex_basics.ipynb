{
 "cells": [
  {
   "cell_type": "code",
   "execution_count": 1,
   "metadata": {},
   "outputs": [],
   "source": [
    "import re"
   ]
  },
  {
   "cell_type": "code",
   "execution_count": 2,
   "metadata": {},
   "outputs": [],
   "source": [
    "paragraph = '''Natural language processing (NLP) 879 is a subfield of linguistics, computer science,\n",
    "and artificial intelligence concerned with the interactions between computers and human language,\n",
    "in particular how to program computers to process and analyze large amounts of natural language data.\n",
    "The result is a computer capable of \"understanding\" the contents of documents, including the contextual\n",
    "nuances of the language within them.\n",
    "\n",
    "preamble\n",
    "cable\n",
    "table\n",
    "countable\n",
    "expandable\n",
    "\n",
    "123-456-78967\n",
    "321,654.98789\n",
    "\n",
    "Msc. Web and Data Science\n",
    "Msc Computer Science\n",
    "Msc; Web Science\n",
    "Msc X\n",
    "\n",
    "Mr. Praveen\n",
    "Mr Gadiyaram\n",
    "Ms. Xyz\n",
    "\n",
    "gsspraveen@uni-koblenz.de\n",
    "Praveen.gadiyaram96@gmail.com\n",
    "abc-DEF@xyz.net\n",
    "\n",
    "The technology can then accurately extract \n",
    "information and insights contained in the documents as well as categorize and organize the documents themselves.'''"
   ]
  },
  {
   "cell_type": "code",
   "execution_count": 3,
   "metadata": {},
   "outputs": [],
   "source": [
    "def findmatches(pattern):\n",
    "    matches = pattern.finditer(paragraph)\n",
    "\n",
    "    top_3 = 1\n",
    "    for match in matches:\n",
    "        print(match.group(0))\n",
    "        top_3 += 1\n",
    "        if top_3 > 3:\n",
    "            break"
   ]
  },
  {
   "cell_type": "code",
   "execution_count": 4,
   "metadata": {},
   "outputs": [],
   "source": [
    "def findall(pattern):\n",
    "    matches = pattern.findall(paragraph)\n",
    "\n",
    "    top_3 = 1\n",
    "    for match in matches:\n",
    "        print(match)\n",
    "        top_3 += 1\n",
    "        if top_3 > 3:\n",
    "            break"
   ]
  },
  {
   "cell_type": "code",
   "execution_count": 5,
   "metadata": {},
   "outputs": [
    {
     "name": "stdout",
     "output_type": "stream",
     "text": [
      "and\n",
      "and\n",
      "and\n"
     ]
    }
   ],
   "source": [
    "pattern = re.compile(r'and')\n",
    "findmatches(pattern)"
   ]
  },
  {
   "cell_type": "code",
   "execution_count": 6,
   "metadata": {},
   "outputs": [
    {
     "name": "stdout",
     "output_type": "stream",
     "text": [
      "N\n",
      "a\n",
      "t\n"
     ]
    }
   ],
   "source": [
    "pattern = re.compile(r'.')\n",
    "findmatches(pattern)"
   ]
  },
  {
   "cell_type": "code",
   "execution_count": 7,
   "metadata": {},
   "outputs": [
    {
     "name": "stdout",
     "output_type": "stream",
     "text": [
      "8\n",
      "7\n",
      "9\n"
     ]
    }
   ],
   "source": [
    "pattern = re.compile(r'\\d')\n",
    "findmatches(pattern)"
   ]
  },
  {
   "cell_type": "code",
   "execution_count": 8,
   "metadata": {},
   "outputs": [
    {
     "name": "stdout",
     "output_type": "stream",
     "text": [
      " \n",
      " \n",
      " \n"
     ]
    }
   ],
   "source": [
    "pattern = re.compile(r'\\W')\n",
    "findmatches(pattern)"
   ]
  },
  {
   "cell_type": "code",
   "execution_count": 9,
   "metadata": {},
   "outputs": [
    {
     "name": "stdout",
     "output_type": "stream",
     "text": [
      " \n",
      " \n",
      " \n"
     ]
    }
   ],
   "source": [
    "pattern = re.compile(r'\\s')\n",
    "findmatches(pattern)"
   ]
  },
  {
   "cell_type": "code",
   "execution_count": 10,
   "metadata": {},
   "outputs": [
    {
     "name": "stdout",
     "output_type": "stream",
     "text": [
      "as\n",
      "as\n"
     ]
    }
   ],
   "source": [
    "pattern = re.compile(r'\\bas')\n",
    "findmatches(pattern)"
   ]
  },
  {
   "cell_type": "code",
   "execution_count": 11,
   "metadata": {},
   "outputs": [
    {
     "name": "stdout",
     "output_type": "stream",
     "text": [
      "Natural\n"
     ]
    }
   ],
   "source": [
    "pattern = re.compile(r'^Natural')\n",
    "findmatches(pattern)"
   ]
  },
  {
   "cell_type": "code",
   "execution_count": 12,
   "metadata": {},
   "outputs": [
    {
     "name": "stdout",
     "output_type": "stream",
     "text": [
      "themselves.\n"
     ]
    }
   ],
   "source": [
    "pattern = re.compile(r'themselves.$')\n",
    "findmatches(pattern)"
   ]
  },
  {
   "cell_type": "code",
   "execution_count": 13,
   "metadata": {},
   "outputs": [
    {
     "name": "stdout",
     "output_type": "stream",
     "text": [
      "123-456-78967\n",
      "321,654.98789\n"
     ]
    }
   ],
   "source": [
    "pattern = re.compile(r'\\d\\d\\d.\\d\\d\\d.\\d\\d\\d\\d\\d')\n",
    "findmatches(pattern)"
   ]
  },
  {
   "cell_type": "code",
   "execution_count": 14,
   "metadata": {},
   "outputs": [
    {
     "name": "stdout",
     "output_type": "stream",
     "text": [
      "123-456-78967\n",
      "321,654.98789\n"
     ]
    }
   ],
   "source": [
    "pattern = re.compile(r'\\d\\d\\d[-,]\\d\\d\\d[-.]\\d\\d\\d\\d\\d')\n",
    "findmatches(pattern)"
   ]
  },
  {
   "cell_type": "code",
   "execution_count": 15,
   "metadata": {},
   "outputs": [
    {
     "name": "stdout",
     "output_type": "stream",
     "text": [
      "123-456-78967\n"
     ]
    }
   ],
   "source": [
    "pattern = re.compile(r'12\\d[-,]\\d\\d\\d[-.]\\d\\d\\d\\d\\d')\n",
    "findmatches(pattern)"
   ]
  },
  {
   "cell_type": "code",
   "execution_count": 16,
   "metadata": {},
   "outputs": [
    {
     "name": "stdout",
     "output_type": "stream",
     "text": [
      "N\n",
      "N\n",
      "L\n"
     ]
    }
   ],
   "source": [
    "pattern = re.compile(r'[A-Z]')\n",
    "findmatches(pattern)"
   ]
  },
  {
   "cell_type": "code",
   "execution_count": 17,
   "metadata": {},
   "outputs": [
    {
     "name": "stdout",
     "output_type": "stream",
     "text": [
      "N\n",
      "a\n",
      "t\n"
     ]
    }
   ],
   "source": [
    "pattern = re.compile(r'[a-zA-Z]')\n",
    "findmatches(pattern)"
   ]
  },
  {
   "cell_type": "code",
   "execution_count": 18,
   "metadata": {},
   "outputs": [
    {
     "name": "stdout",
     "output_type": "stream",
     "text": [
      " \n",
      " \n",
      " \n"
     ]
    }
   ],
   "source": [
    "pattern = re.compile(r'[^a-zA-Z]')\n",
    "findmatches(pattern)"
   ]
  },
  {
   "cell_type": "code",
   "execution_count": 19,
   "metadata": {},
   "outputs": [
    {
     "name": "stdout",
     "output_type": "stream",
     "text": [
      "pable\n",
      "table\n",
      "table\n"
     ]
    }
   ],
   "source": [
    "pattern = re.compile(r'[^c]able')\n",
    "findmatches(pattern)"
   ]
  },
  {
   "cell_type": "code",
   "execution_count": 20,
   "metadata": {},
   "outputs": [
    {
     "name": "stdout",
     "output_type": "stream",
     "text": [
      "123-456-78967\n",
      "321,654.98789\n"
     ]
    }
   ],
   "source": [
    "pattern = re.compile(r'\\d{3}.\\d{3}.\\d{5}')\n",
    "findmatches(pattern)"
   ]
  },
  {
   "cell_type": "code",
   "execution_count": 21,
   "metadata": {},
   "outputs": [
    {
     "name": "stdout",
     "output_type": "stream",
     "text": [
      "Msc. W\n",
      "Msc C\n",
      "Msc X\n"
     ]
    }
   ],
   "source": [
    "pattern = re.compile(r'Msc\\.?\\s[A-Z]')\n",
    "findmatches(pattern)"
   ]
  },
  {
   "cell_type": "code",
   "execution_count": 22,
   "metadata": {},
   "outputs": [
    {
     "name": "stdout",
     "output_type": "stream",
     "text": [
      "Msc. Web\n",
      "Msc Computer\n",
      "Msc X\n"
     ]
    }
   ],
   "source": [
    "pattern = re.compile(r'Msc\\.?\\s[A-Z]\\w*')\n",
    "findmatches(pattern)"
   ]
  },
  {
   "cell_type": "code",
   "execution_count": 23,
   "metadata": {},
   "outputs": [
    {
     "name": "stdout",
     "output_type": "stream",
     "text": [
      "Mr. Praveen\n",
      "Mr Gadiyaram\n",
      "Ms. Xyz\n"
     ]
    }
   ],
   "source": [
    "pattern = re.compile(r'(Mr|Ms|Mrs)\\.?\\s[A-Z]\\w*')\n",
    "findmatches(pattern)"
   ]
  },
  {
   "cell_type": "code",
   "execution_count": 24,
   "metadata": {},
   "outputs": [
    {
     "name": "stdout",
     "output_type": "stream",
     "text": [
      "gsspraveen@uni-koblenz.de\n",
      "Praveen.gadiyaram96@gmail.com\n",
      "abc-DEF@xyz.net\n"
     ]
    }
   ],
   "source": [
    "pattern = re.compile(r'([a-zA-Z0-9-.+_])+@([a-zA-Z0-9-])+(\\.)([a-zA-Z0-9-.])+')\n",
    "findmatches(pattern)"
   ]
  },
  {
   "cell_type": "code",
   "execution_count": 25,
   "metadata": {},
   "outputs": [
    {
     "name": "stdout",
     "output_type": "stream",
     "text": [
      "123-456-78967\n",
      "321,654.98789\n"
     ]
    }
   ],
   "source": [
    "pattern = re.compile(r'\\d{3}.\\d{3}.\\d{5}')\n",
    "findall(pattern)"
   ]
  }
 ],
 "metadata": {
  "kernelspec": {
   "display_name": "Python 3",
   "language": "python",
   "name": "python3"
  },
  "language_info": {
   "codemirror_mode": {
    "name": "ipython",
    "version": 3
   },
   "file_extension": ".py",
   "mimetype": "text/x-python",
   "name": "python",
   "nbconvert_exporter": "python",
   "pygments_lexer": "ipython3",
   "version": "3.8.8"
  }
 },
 "nbformat": 4,
 "nbformat_minor": 4
}
