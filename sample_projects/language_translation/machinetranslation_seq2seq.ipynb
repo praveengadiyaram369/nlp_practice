{
  "nbformat": 4,
  "nbformat_minor": 0,
  "metadata": {
    "colab": {
      "name": "machinetranslation_seq2seq.ipynb",
      "provenance": [],
      "collapsed_sections": []
    },
    "kernelspec": {
      "name": "python3",
      "display_name": "Python 3"
    },
    "language_info": {
      "name": "python"
    }
  },
  "cells": [
    {
      "cell_type": "code",
      "metadata": {
        "id": "f9ES9faYRvOx"
      },
      "source": [
        "!pip install -q kaggle"
      ],
      "execution_count": 1,
      "outputs": []
    },
    {
      "cell_type": "code",
      "metadata": {
        "id": "CTQfdbh2VHYa",
        "colab": {
          "base_uri": "https://localhost:8080/"
        },
        "outputId": "c6541f00-4b2b-461a-9996-947d215c8889"
      },
      "source": [
        "! mkdir ~/.kaggle\n",
        "! cp kaggle.json ~/.kaggle/\n",
        "! chmod 600 ~/.kaggle/kaggle.json"
      ],
      "execution_count": 2,
      "outputs": [
        {
          "output_type": "stream",
          "text": [
            "mkdir: cannot create directory ‘/root/.kaggle’: File exists\n"
          ],
          "name": "stdout"
        }
      ]
    },
    {
      "cell_type": "code",
      "metadata": {
        "colab": {
          "base_uri": "https://localhost:8080/"
        },
        "id": "BeSwyridZ7O2",
        "outputId": "75eacff6-9f04-4c9b-e3ff-8e5c02ba7f3a"
      },
      "source": [
        "! kaggle datasets download -d danielwillgeorge/glove6b100dtxt\n",
        "! kaggle datasets download -d anindya2906/english-to-french"
      ],
      "execution_count": 3,
      "outputs": [
        {
          "output_type": "stream",
          "text": [
            "glove6b100dtxt.zip: Skipping, found more recently modified local copy (use --force to force download)\n",
            "english-to-french.zip: Skipping, found more recently modified local copy (use --force to force download)\n"
          ],
          "name": "stdout"
        }
      ]
    },
    {
      "cell_type": "code",
      "metadata": {
        "colab": {
          "base_uri": "https://localhost:8080/"
        },
        "id": "RA_0z67QaTo9",
        "outputId": "8e26114e-3aec-407b-b6c5-91e4ca6148db"
      },
      "source": [
        "!unzip glove6b100dtxt.zip -d glove100\n",
        "!unzip english-to-french.zip -d eng2french"
      ],
      "execution_count": 4,
      "outputs": [
        {
          "output_type": "stream",
          "text": [
            "Archive:  glove6b100dtxt.zip\n",
            "replace glove100/glove.6B.100d.txt? [y]es, [n]o, [A]ll, [N]one, [r]ename: N\n",
            "Archive:  english-to-french.zip\n",
            "replace eng2french/_about.txt? [y]es, [n]o, [A]ll, [N]one, [r]ename: N\n"
          ],
          "name": "stdout"
        }
      ]
    },
    {
      "cell_type": "code",
      "metadata": {
        "id": "Rm069dVV1q6L"
      },
      "source": [
        "import os\n",
        "import sys\n",
        "import numpy as np\n",
        "import pandas as pd\n",
        "import matplotlib.pyplot as plt\n",
        "\n",
        "import tensorflow as tf"
      ],
      "execution_count": 1,
      "outputs": []
    },
    {
      "cell_type": "code",
      "metadata": {
        "id": "sxWonbZd12mO"
      },
      "source": [
        "max_seq_len = 100\n",
        "max_vocab_size = 20000\n",
        "epochs = 100\n",
        "batch_size = 64\n",
        "embedding_dim = 100\n",
        "validation_split = 0.2\n",
        "latent_dim = 256\n",
        "num_samples = 1000"
      ],
      "execution_count": 39,
      "outputs": []
    },
    {
      "cell_type": "code",
      "metadata": {
        "id": "m3I_wN8-_5tX"
      },
      "source": [
        "word_embeddings = {}\n",
        "with open(os.path.join('/content/glove100/glove.6B.100d.txt')) as f:\n",
        "    for line in f:\n",
        "        values = line.split()\n",
        "        word_key = values[0]\n",
        "        word_vector = np.array(values[1:], dtype='float32')\n",
        "        \n",
        "        word_embeddings[word_key] = word_vector"
      ],
      "execution_count": 30,
      "outputs": []
    },
    {
      "cell_type": "code",
      "metadata": {
        "id": "EF30tHVL2TAi"
      },
      "source": [
        "input_txts = []\n",
        "target_input_maptxts = []\n",
        "target_txts = []"
      ],
      "execution_count": 3,
      "outputs": []
    },
    {
      "cell_type": "code",
      "metadata": {
        "id": "RCtZJ1Ty3I4t"
      },
      "source": [
        "idx = 0\n",
        "for line in open('eng2french/fra-eng/fra.txt'):\n",
        "\n",
        "  eng, fre = line.strip().split('\\t')\n",
        "  \n",
        "  input_txts.append(eng)\n",
        "  target_txts.append(fre+' <eos>')\n",
        "  target_input_maptxts.append('<sos> '+eng)\n",
        "\n",
        "  idx += 1\n",
        "  if idx == num_samples:\n",
        "    break"
      ],
      "execution_count": 20,
      "outputs": []
    },
    {
      "cell_type": "code",
      "metadata": {
        "id": "b6zFLQht5rKa"
      },
      "source": [
        "tokenizer_eng = tf.keras.preprocessing.text.Tokenizer(num_words=max_vocab_size)\n",
        "tokenizer_eng.fit_on_texts(input_txts)\n",
        "input_sequences = tokenizer_eng.texts_to_sequences(input_txts)"
      ],
      "execution_count": 21,
      "outputs": []
    },
    {
      "cell_type": "code",
      "metadata": {
        "id": "Bx1fhG9h4lE7",
        "colab": {
          "base_uri": "https://localhost:8080/"
        },
        "outputId": "27a2e39c-fee8-429d-e090-2aa65ff7e9f8"
      },
      "source": [
        "word2index_eng = tokenizer_eng.word_index\n",
        "num_words_eng = len(word2index_eng)\n",
        "print(num_words_eng)"
      ],
      "execution_count": 22,
      "outputs": [
        {
          "output_type": "stream",
          "text": [
            "364\n"
          ],
          "name": "stdout"
        }
      ]
    },
    {
      "cell_type": "code",
      "metadata": {
        "colab": {
          "base_uri": "https://localhost:8080/"
        },
        "id": "JGfwa8QJ60Jw",
        "outputId": "7df902f9-31be-41e7-c4c6-3464bc2b49d8"
      },
      "source": [
        "max_input_txt_len = max(len(s) for s in input_txts)\n",
        "max_input_txt_len"
      ],
      "execution_count": 23,
      "outputs": [
        {
          "output_type": "execute_result",
          "data": {
            "text/plain": [
              "11"
            ]
          },
          "metadata": {
            "tags": []
          },
          "execution_count": 23
        }
      ]
    },
    {
      "cell_type": "code",
      "metadata": {
        "id": "TafLJgkI51vZ"
      },
      "source": [
        "tokenizer_fre = tf.keras.preprocessing.text.Tokenizer(num_words=max_vocab_size, filters='')\n",
        "tokenizer_fre.fit_on_texts(target_input_maptxts+target_txts)\n",
        "target_sequences = tokenizer_fre.texts_to_sequences(target_txts)\n",
        "target_input_map_sequences = tokenizer_fre.texts_to_sequences(target_input_maptxts)"
      ],
      "execution_count": 24,
      "outputs": []
    },
    {
      "cell_type": "code",
      "metadata": {
        "colab": {
          "base_uri": "https://localhost:8080/"
        },
        "id": "VXuks7066QvS",
        "outputId": "5d19b91e-26ed-486e-c943-30076be3e94f"
      },
      "source": [
        "max_target_txt_len = max(len(s) for s in target_txts)\n",
        "max_target_txt_len"
      ],
      "execution_count": 25,
      "outputs": [
        {
          "output_type": "execute_result",
          "data": {
            "text/plain": [
              "37"
            ]
          },
          "metadata": {
            "tags": []
          },
          "execution_count": 25
        }
      ]
    },
    {
      "cell_type": "code",
      "metadata": {
        "colab": {
          "base_uri": "https://localhost:8080/"
        },
        "id": "1Zksa8Rl76la",
        "outputId": "0475ef84-f2bc-4fe7-ff66-785173f68f11"
      },
      "source": [
        "word2index_fre = tokenizer_fre.word_index\n",
        "num_words_fre = len(word2index_fre)\n",
        "print(num_words_fre)\n"
      ],
      "execution_count": 26,
      "outputs": [
        {
          "output_type": "stream",
          "text": [
            "1346\n"
          ],
          "name": "stdout"
        }
      ]
    },
    {
      "cell_type": "code",
      "metadata": {
        "id": "lEELIRqWfdTL"
      },
      "source": [
        "num_words_fre = min(num_words_fre+1, max_vocab_size)\n",
        "num_words_eng = min(num_words_eng+1, max_vocab_size)"
      ],
      "execution_count": 27,
      "outputs": []
    },
    {
      "cell_type": "code",
      "metadata": {
        "id": "bt7JK8hY8vre"
      },
      "source": [
        "assert '<sos>' in word2index_fre\n",
        "assert '<eos>' in word2index_fre"
      ],
      "execution_count": 28,
      "outputs": []
    },
    {
      "cell_type": "code",
      "metadata": {
        "id": "2wI92fq19lbs"
      },
      "source": [
        "encoder_inputs = tf.keras.preprocessing.sequence.pad_sequences(input_sequences, maxlen=max_input_txt_len, padding='pre')\n",
        "decoder_inputs = tf.keras.preprocessing.sequence.pad_sequences(target_sequences, maxlen=max_target_txt_len, padding='pre')\n",
        "decoder_targets = tf.keras.preprocessing.sequence.pad_sequences(target_input_map_sequences, maxlen=max_target_txt_len, padding='pre')"
      ],
      "execution_count": 38,
      "outputs": []
    },
    {
      "cell_type": "code",
      "metadata": {
        "colab": {
          "base_uri": "https://localhost:8080/"
        },
        "id": "LZG6oY66_6sf",
        "outputId": "ecfdfb95-4320-4dd8-bcd7-7f2103193f59"
      },
      "source": [
        "num_words_inputs = min(max_vocab_size, len(word2index_eng)+1)\n",
        "num_words_inputs"
      ],
      "execution_count": 40,
      "outputs": [
        {
          "output_type": "execute_result",
          "data": {
            "text/plain": [
              "365"
            ]
          },
          "metadata": {
            "tags": []
          },
          "execution_count": 40
        }
      ]
    },
    {
      "cell_type": "code",
      "metadata": {
        "id": "BiUeWUELA5Ei"
      },
      "source": [
        "embedding_matrix = np.zeros((num_words_inputs, embedding_dim))\n",
        "for word, idx in word2index_eng.items():\n",
        "    if idx < max_vocab_size:\n",
        "        embedding_vector = word_embeddings.get(word)\n",
        "        \n",
        "        if embedding_vector is not None:\n",
        "            embedding_matrix[idx] = embedding_vector"
      ],
      "execution_count": 41,
      "outputs": []
    },
    {
      "cell_type": "code",
      "metadata": {
        "colab": {
          "base_uri": "https://localhost:8080/"
        },
        "id": "F6QUxyPVDN_0",
        "outputId": "838bfe91-9076-40aa-bc7f-1e1dbe7aeb4a"
      },
      "source": [
        "print(f'Encoder Input Sequences shape: {encoder_inputs.shape}')\n",
        "print(f'Decoder Input Sequences shape: {decoder_inputs.shape}')\n",
        "print(f'Deocder Target Sequences shape: {decoder_targets.shape}')"
      ],
      "execution_count": 42,
      "outputs": [
        {
          "output_type": "stream",
          "text": [
            "Encoder Input Sequences shape: (2000, 11)\n",
            "Decoder Input Sequences shape: (2000, 37)\n",
            "Deocder Target Sequences shape: (2000, 37)\n"
          ],
          "name": "stdout"
        }
      ]
    },
    {
      "cell_type": "code",
      "metadata": {
        "id": "BxdTxT0RBILm",
        "colab": {
          "base_uri": "https://localhost:8080/"
        },
        "outputId": "e864eb35-32e2-496c-c0fe-aa0f5c812d9c"
      },
      "source": [
        "one_hot_targets = np.zeros((len(decoder_targets), max_target_txt_len, num_words_fre))\n",
        "for i, target_sequence in enumerate(decoder_targets):\n",
        "  for j, token_id in enumerate(target_sequence):\n",
        "      if token_id > 0:\n",
        "        one_hot_targets[i, j, token_id] = 1\n",
        "\n",
        "one_hot_targets.shape"
      ],
      "execution_count": 43,
      "outputs": [
        {
          "output_type": "execute_result",
          "data": {
            "text/plain": [
              "(2000, 37, 1347)"
            ]
          },
          "metadata": {
            "tags": []
          },
          "execution_count": 43
        }
      ]
    },
    {
      "cell_type": "code",
      "metadata": {
        "id": "91HHpVmVDA23"
      },
      "source": [
        "embedding_layer = tf.keras.layers.Embedding(input_dim=num_words_eng, output_dim=embedding_dim, weights=[embedding_matrix] ,input_length=max_input_txt_len)\n",
        "\n",
        "input_ = tf.keras.Input(shape=(max_input_txt_len,))\n",
        "x = embedding_layer(input_)\n",
        "\n",
        "encoder_lstm = tf.keras.layers.LSTM(latent_dim, return_state=True)\n",
        "encoder_output, encoder_h, encoder_c = encoder_lstm(x)\n",
        "\n",
        "encoder_states = [encoder_h, encoder_c]\n",
        "\n",
        "decoder_input_ = tf.keras.Input(shape=[max_target_txt_len,])\n",
        "decoder_embedding = tf.keras.layers.Embedding(input_dim=num_words_fre, output_dim=embedding_dim)\n",
        "decoder_x = decoder_embedding(decoder_input_)\n",
        "\n",
        "decoder_lstm = tf.keras.layers.LSTM(latent_dim, return_state=True, return_sequences=True)\n",
        "decoder_lstm_output, _, _ = decoder_lstm(decoder_x, initial_state=encoder_states)\n",
        "\n",
        "dense = tf.keras.layers.Dense(units=num_words_fre, activation='softmax')\n",
        "output_ = dense(decoder_lstm_output)\n",
        "\n",
        "model = tf.keras.models.Model(inputs=[input_, decoder_input_], outputs=output_)"
      ],
      "execution_count": 44,
      "outputs": []
    },
    {
      "cell_type": "code",
      "metadata": {
        "id": "vNZpOi2u6Le1",
        "colab": {
          "base_uri": "https://localhost:8080/"
        },
        "outputId": "93796dba-fec8-45bb-eee1-19add3b3f95f"
      },
      "source": [
        "model.compile(optimizer='rmsprop', loss='categorical_crossentropy', metrics=['accuracy'])\n",
        "history = model.fit(x=[encoder_inputs, decoder_inputs], y=one_hot_targets, batch_size=batch_size, epochs=epochs, validation_split=validation_split)"
      ],
      "execution_count": 45,
      "outputs": [
        {
          "output_type": "stream",
          "text": [
            "Epoch 1/100\n",
            "25/25 [==============================] - 12s 385ms/step - loss: 0.4568 - accuracy: 0.0259 - val_loss: 0.4444 - val_accuracy: 0.0270\n",
            "Epoch 2/100\n",
            "25/25 [==============================] - 9s 354ms/step - loss: 0.4274 - accuracy: 0.0270 - val_loss: 0.4415 - val_accuracy: 0.0270\n",
            "Epoch 3/100\n",
            "25/25 [==============================] - 9s 354ms/step - loss: 0.4248 - accuracy: 0.0270 - val_loss: 0.4399 - val_accuracy: 0.0270\n",
            "Epoch 4/100\n",
            "25/25 [==============================] - 9s 358ms/step - loss: 0.4226 - accuracy: 0.0270 - val_loss: 0.4381 - val_accuracy: 0.0270\n",
            "Epoch 5/100\n",
            "25/25 [==============================] - 9s 357ms/step - loss: 0.4208 - accuracy: 0.0270 - val_loss: 0.4371 - val_accuracy: 0.0270\n",
            "Epoch 6/100\n",
            "25/25 [==============================] - 9s 352ms/step - loss: 0.4193 - accuracy: 0.0270 - val_loss: 0.4355 - val_accuracy: 0.0270\n",
            "Epoch 7/100\n",
            "25/25 [==============================] - 9s 353ms/step - loss: 0.4181 - accuracy: 0.0270 - val_loss: 0.4346 - val_accuracy: 0.0270\n",
            "Epoch 8/100\n",
            "25/25 [==============================] - 9s 352ms/step - loss: 0.4172 - accuracy: 0.0270 - val_loss: 0.4334 - val_accuracy: 0.0270\n",
            "Epoch 9/100\n",
            "25/25 [==============================] - 9s 352ms/step - loss: 0.4161 - accuracy: 0.0270 - val_loss: 0.4318 - val_accuracy: 0.0270\n",
            "Epoch 10/100\n",
            "25/25 [==============================] - 9s 353ms/step - loss: 0.4153 - accuracy: 0.0270 - val_loss: 0.4314 - val_accuracy: 0.0270\n",
            "Epoch 11/100\n",
            "25/25 [==============================] - 9s 353ms/step - loss: 0.4146 - accuracy: 0.0270 - val_loss: 0.4310 - val_accuracy: 0.0270\n",
            "Epoch 12/100\n",
            "25/25 [==============================] - 9s 354ms/step - loss: 0.4140 - accuracy: 0.0270 - val_loss: 0.4297 - val_accuracy: 0.0270\n",
            "Epoch 13/100\n",
            "25/25 [==============================] - 9s 354ms/step - loss: 0.4134 - accuracy: 0.0270 - val_loss: 0.4293 - val_accuracy: 0.0270\n",
            "Epoch 14/100\n",
            "25/25 [==============================] - 9s 353ms/step - loss: 0.4127 - accuracy: 0.0270 - val_loss: 0.4295 - val_accuracy: 0.0270\n",
            "Epoch 15/100\n",
            "25/25 [==============================] - 9s 354ms/step - loss: 0.4123 - accuracy: 0.0270 - val_loss: 0.4285 - val_accuracy: 0.0270\n",
            "Epoch 16/100\n",
            "25/25 [==============================] - 9s 354ms/step - loss: 0.4117 - accuracy: 0.0270 - val_loss: 0.4281 - val_accuracy: 0.0270\n",
            "Epoch 17/100\n",
            "25/25 [==============================] - 9s 355ms/step - loss: 0.4114 - accuracy: 0.0270 - val_loss: 0.4277 - val_accuracy: 0.0270\n",
            "Epoch 18/100\n",
            "25/25 [==============================] - 9s 355ms/step - loss: 0.4111 - accuracy: 0.0270 - val_loss: 0.4270 - val_accuracy: 0.0270\n",
            "Epoch 19/100\n",
            "25/25 [==============================] - 9s 352ms/step - loss: 0.4107 - accuracy: 0.0270 - val_loss: 0.4269 - val_accuracy: 0.0270\n",
            "Epoch 20/100\n",
            "25/25 [==============================] - 9s 352ms/step - loss: 0.4104 - accuracy: 0.0270 - val_loss: 0.4265 - val_accuracy: 0.0270\n",
            "Epoch 21/100\n",
            "25/25 [==============================] - 9s 353ms/step - loss: 0.4101 - accuracy: 0.0270 - val_loss: 0.4264 - val_accuracy: 0.0270\n",
            "Epoch 22/100\n",
            "25/25 [==============================] - 9s 354ms/step - loss: 0.4099 - accuracy: 0.0270 - val_loss: 0.4261 - val_accuracy: 0.0270\n",
            "Epoch 23/100\n",
            "25/25 [==============================] - 9s 354ms/step - loss: 0.4096 - accuracy: 0.0270 - val_loss: 0.4259 - val_accuracy: 0.0270\n",
            "Epoch 24/100\n",
            "25/25 [==============================] - 9s 354ms/step - loss: 0.4094 - accuracy: 0.0270 - val_loss: 0.4261 - val_accuracy: 0.0270\n",
            "Epoch 25/100\n",
            "25/25 [==============================] - 9s 355ms/step - loss: 0.4093 - accuracy: 0.0270 - val_loss: 0.4256 - val_accuracy: 0.0270\n",
            "Epoch 26/100\n",
            "25/25 [==============================] - 9s 354ms/step - loss: 0.4090 - accuracy: 0.0270 - val_loss: 0.4255 - val_accuracy: 0.0270\n",
            "Epoch 27/100\n",
            "25/25 [==============================] - 9s 354ms/step - loss: 0.4087 - accuracy: 0.0270 - val_loss: 0.4252 - val_accuracy: 0.0270\n",
            "Epoch 28/100\n",
            "25/25 [==============================] - 9s 354ms/step - loss: 0.4086 - accuracy: 0.0270 - val_loss: 0.4249 - val_accuracy: 0.0270\n",
            "Epoch 29/100\n",
            "25/25 [==============================] - 9s 353ms/step - loss: 0.4085 - accuracy: 0.0270 - val_loss: 0.4247 - val_accuracy: 0.0270\n",
            "Epoch 30/100\n",
            "25/25 [==============================] - 9s 355ms/step - loss: 0.4084 - accuracy: 0.0270 - val_loss: 0.4247 - val_accuracy: 0.0270\n",
            "Epoch 31/100\n",
            "25/25 [==============================] - 9s 357ms/step - loss: 0.4082 - accuracy: 0.0270 - val_loss: 0.4245 - val_accuracy: 0.0270\n",
            "Epoch 32/100\n",
            "25/25 [==============================] - 9s 355ms/step - loss: 0.4081 - accuracy: 0.0270 - val_loss: 0.4247 - val_accuracy: 0.0270\n",
            "Epoch 33/100\n",
            "25/25 [==============================] - 9s 354ms/step - loss: 0.4080 - accuracy: 0.0270 - val_loss: 0.4243 - val_accuracy: 0.0270\n",
            "Epoch 34/100\n",
            "25/25 [==============================] - 9s 355ms/step - loss: 0.4079 - accuracy: 0.0270 - val_loss: 0.4241 - val_accuracy: 0.0270\n",
            "Epoch 35/100\n",
            "25/25 [==============================] - 9s 352ms/step - loss: 0.4079 - accuracy: 0.0270 - val_loss: 0.4247 - val_accuracy: 0.0270\n",
            "Epoch 36/100\n",
            "25/25 [==============================] - 9s 355ms/step - loss: 0.4078 - accuracy: 0.0270 - val_loss: 0.4245 - val_accuracy: 0.0270\n",
            "Epoch 37/100\n",
            "25/25 [==============================] - 9s 355ms/step - loss: 0.4077 - accuracy: 0.0270 - val_loss: 0.4241 - val_accuracy: 0.0270\n",
            "Epoch 38/100\n",
            "25/25 [==============================] - 9s 355ms/step - loss: 0.4076 - accuracy: 0.0270 - val_loss: 0.4243 - val_accuracy: 0.0270\n",
            "Epoch 39/100\n",
            "25/25 [==============================] - 9s 356ms/step - loss: 0.4076 - accuracy: 0.0270 - val_loss: 0.4241 - val_accuracy: 0.0270\n",
            "Epoch 40/100\n",
            "25/25 [==============================] - 9s 360ms/step - loss: 0.4075 - accuracy: 0.0270 - val_loss: 0.4239 - val_accuracy: 0.0270\n",
            "Epoch 41/100\n",
            "25/25 [==============================] - 9s 356ms/step - loss: 0.4074 - accuracy: 0.0270 - val_loss: 0.4240 - val_accuracy: 0.0270\n",
            "Epoch 42/100\n",
            "25/25 [==============================] - 9s 353ms/step - loss: 0.4074 - accuracy: 0.0270 - val_loss: 0.4238 - val_accuracy: 0.0270\n",
            "Epoch 43/100\n",
            "25/25 [==============================] - 9s 353ms/step - loss: 0.4075 - accuracy: 0.0270 - val_loss: 0.4242 - val_accuracy: 0.0270\n",
            "Epoch 44/100\n",
            "25/25 [==============================] - 9s 353ms/step - loss: 0.4075 - accuracy: 0.0270 - val_loss: 0.4236 - val_accuracy: 0.0270\n",
            "Epoch 45/100\n",
            "25/25 [==============================] - 9s 352ms/step - loss: 0.4074 - accuracy: 0.0270 - val_loss: 0.4237 - val_accuracy: 0.0270\n",
            "Epoch 46/100\n",
            "25/25 [==============================] - 9s 353ms/step - loss: 0.4074 - accuracy: 0.0270 - val_loss: 0.4242 - val_accuracy: 0.0270\n",
            "Epoch 47/100\n",
            "25/25 [==============================] - 9s 354ms/step - loss: 0.4074 - accuracy: 0.0270 - val_loss: 0.4237 - val_accuracy: 0.0270\n",
            "Epoch 48/100\n",
            "25/25 [==============================] - 9s 354ms/step - loss: 0.4075 - accuracy: 0.0270 - val_loss: 0.4236 - val_accuracy: 0.0270\n",
            "Epoch 49/100\n",
            "25/25 [==============================] - 9s 355ms/step - loss: 0.4074 - accuracy: 0.0270 - val_loss: 0.4240 - val_accuracy: 0.0270\n",
            "Epoch 50/100\n",
            "25/25 [==============================] - 9s 356ms/step - loss: 0.4075 - accuracy: 0.0270 - val_loss: 0.4240 - val_accuracy: 0.0270\n",
            "Epoch 51/100\n",
            "25/25 [==============================] - 9s 354ms/step - loss: 0.4074 - accuracy: 0.0270 - val_loss: 0.4240 - val_accuracy: 0.0270\n",
            "Epoch 52/100\n",
            "25/25 [==============================] - 9s 355ms/step - loss: 0.4076 - accuracy: 0.0270 - val_loss: 0.4238 - val_accuracy: 0.0270\n",
            "Epoch 53/100\n",
            "25/25 [==============================] - 9s 354ms/step - loss: 0.4075 - accuracy: 0.0270 - val_loss: 0.4240 - val_accuracy: 0.0270\n",
            "Epoch 54/100\n",
            "25/25 [==============================] - 9s 355ms/step - loss: 0.4076 - accuracy: 0.0270 - val_loss: 0.4240 - val_accuracy: 0.0270\n",
            "Epoch 55/100\n",
            "25/25 [==============================] - 9s 355ms/step - loss: 0.4076 - accuracy: 0.0270 - val_loss: 0.4239 - val_accuracy: 0.0270\n",
            "Epoch 56/100\n",
            "25/25 [==============================] - 9s 355ms/step - loss: 0.4077 - accuracy: 0.0270 - val_loss: 0.4240 - val_accuracy: 0.0270\n",
            "Epoch 57/100\n",
            "25/25 [==============================] - 9s 353ms/step - loss: 0.4076 - accuracy: 0.0270 - val_loss: 0.4237 - val_accuracy: 0.0270\n",
            "Epoch 58/100\n",
            "25/25 [==============================] - 9s 357ms/step - loss: 0.4077 - accuracy: 0.0270 - val_loss: 0.4237 - val_accuracy: 0.0270\n",
            "Epoch 59/100\n",
            "25/25 [==============================] - 9s 355ms/step - loss: 0.4077 - accuracy: 0.0270 - val_loss: 0.4239 - val_accuracy: 0.0270\n",
            "Epoch 60/100\n",
            "25/25 [==============================] - 9s 354ms/step - loss: 0.4078 - accuracy: 0.0270 - val_loss: 0.4242 - val_accuracy: 0.0270\n",
            "Epoch 61/100\n",
            "25/25 [==============================] - 9s 352ms/step - loss: 0.4079 - accuracy: 0.0270 - val_loss: 0.4240 - val_accuracy: 0.0270\n",
            "Epoch 62/100\n",
            "25/25 [==============================] - 9s 355ms/step - loss: 0.4079 - accuracy: 0.0270 - val_loss: 0.4241 - val_accuracy: 0.0270\n",
            "Epoch 63/100\n",
            "25/25 [==============================] - 9s 354ms/step - loss: 0.4079 - accuracy: 0.0270 - val_loss: 0.4243 - val_accuracy: 0.0270\n",
            "Epoch 64/100\n",
            "25/25 [==============================] - 9s 354ms/step - loss: 0.4080 - accuracy: 0.0270 - val_loss: 0.4245 - val_accuracy: 0.0270\n",
            "Epoch 65/100\n",
            "25/25 [==============================] - 9s 355ms/step - loss: 0.4080 - accuracy: 0.0270 - val_loss: 0.4241 - val_accuracy: 0.0270\n",
            "Epoch 66/100\n",
            "25/25 [==============================] - 9s 353ms/step - loss: 0.4080 - accuracy: 0.0270 - val_loss: 0.4247 - val_accuracy: 0.0270\n",
            "Epoch 67/100\n",
            "25/25 [==============================] - 9s 355ms/step - loss: 0.4082 - accuracy: 0.0270 - val_loss: 0.4248 - val_accuracy: 0.0270\n",
            "Epoch 68/100\n",
            "25/25 [==============================] - 9s 354ms/step - loss: 0.4082 - accuracy: 0.0270 - val_loss: 0.4246 - val_accuracy: 0.0270\n",
            "Epoch 69/100\n",
            "25/25 [==============================] - 9s 353ms/step - loss: 0.4083 - accuracy: 0.0270 - val_loss: 0.4244 - val_accuracy: 0.0270\n",
            "Epoch 70/100\n",
            "25/25 [==============================] - 9s 353ms/step - loss: 0.4083 - accuracy: 0.0270 - val_loss: 0.4245 - val_accuracy: 0.0270\n",
            "Epoch 71/100\n",
            "25/25 [==============================] - 9s 355ms/step - loss: 0.4084 - accuracy: 0.0270 - val_loss: 0.4246 - val_accuracy: 0.0270\n",
            "Epoch 72/100\n",
            "25/25 [==============================] - 9s 359ms/step - loss: 0.4084 - accuracy: 0.0270 - val_loss: 0.4247 - val_accuracy: 0.0270\n",
            "Epoch 73/100\n",
            "25/25 [==============================] - 9s 355ms/step - loss: 0.4085 - accuracy: 0.0270 - val_loss: 0.4248 - val_accuracy: 0.0270\n",
            "Epoch 74/100\n",
            "25/25 [==============================] - 9s 358ms/step - loss: 0.4085 - accuracy: 0.0270 - val_loss: 0.4251 - val_accuracy: 0.0270\n",
            "Epoch 75/100\n",
            "25/25 [==============================] - 9s 356ms/step - loss: 0.4085 - accuracy: 0.0270 - val_loss: 0.4250 - val_accuracy: 0.0270\n",
            "Epoch 76/100\n",
            "25/25 [==============================] - 9s 357ms/step - loss: 0.4086 - accuracy: 0.0270 - val_loss: 0.4248 - val_accuracy: 0.0270\n",
            "Epoch 77/100\n",
            "25/25 [==============================] - 9s 355ms/step - loss: 0.4087 - accuracy: 0.0270 - val_loss: 0.4249 - val_accuracy: 0.0270\n",
            "Epoch 78/100\n",
            "25/25 [==============================] - 9s 354ms/step - loss: 0.4088 - accuracy: 0.0270 - val_loss: 0.4252 - val_accuracy: 0.0270\n",
            "Epoch 79/100\n",
            "25/25 [==============================] - 9s 354ms/step - loss: 0.4088 - accuracy: 0.0270 - val_loss: 0.4251 - val_accuracy: 0.0270\n",
            "Epoch 80/100\n",
            "25/25 [==============================] - 9s 352ms/step - loss: 0.4089 - accuracy: 0.0270 - val_loss: 0.4251 - val_accuracy: 0.0270\n",
            "Epoch 81/100\n",
            "25/25 [==============================] - 9s 355ms/step - loss: 0.4090 - accuracy: 0.0270 - val_loss: 0.4252 - val_accuracy: 0.0270\n",
            "Epoch 82/100\n",
            "25/25 [==============================] - 9s 354ms/step - loss: 0.4091 - accuracy: 0.0270 - val_loss: 0.4252 - val_accuracy: 0.0270\n",
            "Epoch 83/100\n",
            "25/25 [==============================] - 9s 353ms/step - loss: 0.4091 - accuracy: 0.0270 - val_loss: 0.4254 - val_accuracy: 0.0270\n",
            "Epoch 84/100\n",
            "25/25 [==============================] - 9s 353ms/step - loss: 0.4092 - accuracy: 0.0270 - val_loss: 0.4257 - val_accuracy: 0.0270\n",
            "Epoch 85/100\n",
            "25/25 [==============================] - 9s 355ms/step - loss: 0.4093 - accuracy: 0.0270 - val_loss: 0.4257 - val_accuracy: 0.0270\n",
            "Epoch 86/100\n",
            "25/25 [==============================] - 9s 351ms/step - loss: 0.4093 - accuracy: 0.0270 - val_loss: 0.4254 - val_accuracy: 0.0270\n",
            "Epoch 87/100\n",
            "25/25 [==============================] - 9s 355ms/step - loss: 0.4094 - accuracy: 0.0270 - val_loss: 0.4255 - val_accuracy: 0.0270\n",
            "Epoch 88/100\n",
            "25/25 [==============================] - 9s 354ms/step - loss: 0.4094 - accuracy: 0.0270 - val_loss: 0.4257 - val_accuracy: 0.0270\n",
            "Epoch 89/100\n",
            "25/25 [==============================] - 9s 357ms/step - loss: 0.4095 - accuracy: 0.0270 - val_loss: 0.4258 - val_accuracy: 0.0270\n",
            "Epoch 90/100\n",
            "25/25 [==============================] - 9s 354ms/step - loss: 0.4096 - accuracy: 0.0270 - val_loss: 0.4258 - val_accuracy: 0.0270\n",
            "Epoch 91/100\n",
            "25/25 [==============================] - 9s 354ms/step - loss: 0.4097 - accuracy: 0.0270 - val_loss: 0.4259 - val_accuracy: 0.0270\n",
            "Epoch 92/100\n",
            "25/25 [==============================] - 9s 356ms/step - loss: 0.4098 - accuracy: 0.0270 - val_loss: 0.4255 - val_accuracy: 0.0270\n",
            "Epoch 93/100\n",
            "25/25 [==============================] - 9s 357ms/step - loss: 0.4099 - accuracy: 0.0270 - val_loss: 0.4261 - val_accuracy: 0.0270\n",
            "Epoch 94/100\n",
            "25/25 [==============================] - 9s 356ms/step - loss: 0.4100 - accuracy: 0.0270 - val_loss: 0.4263 - val_accuracy: 0.0270\n",
            "Epoch 95/100\n",
            "25/25 [==============================] - 9s 356ms/step - loss: 0.4100 - accuracy: 0.0270 - val_loss: 0.4263 - val_accuracy: 0.0270\n",
            "Epoch 96/100\n",
            "25/25 [==============================] - 9s 355ms/step - loss: 0.4101 - accuracy: 0.0270 - val_loss: 0.4266 - val_accuracy: 0.0270\n",
            "Epoch 97/100\n",
            "25/25 [==============================] - 9s 355ms/step - loss: 0.4101 - accuracy: 0.0270 - val_loss: 0.4264 - val_accuracy: 0.0270\n",
            "Epoch 98/100\n",
            "25/25 [==============================] - 9s 357ms/step - loss: 0.4102 - accuracy: 0.0270 - val_loss: 0.4263 - val_accuracy: 0.0270\n",
            "Epoch 99/100\n",
            "25/25 [==============================] - 9s 357ms/step - loss: 0.4103 - accuracy: 0.0270 - val_loss: 0.4265 - val_accuracy: 0.0270\n",
            "Epoch 100/100\n",
            "25/25 [==============================] - 9s 353ms/step - loss: 0.4104 - accuracy: 0.0270 - val_loss: 0.4268 - val_accuracy: 0.0270\n"
          ],
          "name": "stdout"
        }
      ]
    },
    {
      "cell_type": "code",
      "metadata": {
        "id": "7XrX9juN7ci9",
        "colab": {
          "base_uri": "https://localhost:8080/",
          "height": 265
        },
        "outputId": "de26e049-c6a6-4280-f84e-909802da355a"
      },
      "source": [
        "plt.plot(history.history['loss'])\n",
        "plt.plot(history.history['val_loss'])\n",
        "plt.show()"
      ],
      "execution_count": 46,
      "outputs": [
        {
          "output_type": "display_data",
          "data": {
            "image/png": "[encoded data removed]",
            "text/plain": [
              "<Figure size 432x288 with 1 Axes>"
            ]
          },
          "metadata": {
            "tags": [],
            "needs_background": "light"
          }
        }
      ]
    },
    {
      "cell_type": "code",
      "metadata": {
        "id": "oJcy7B5w7hXk",
        "colab": {
          "base_uri": "https://localhost:8080/",
          "height": 265
        },
        "outputId": "92fc3072-d9ca-40ef-edd4-efbd118a218a"
      },
      "source": [
        "plt.plot(history.history['accuracy'])\n",
        "plt.plot(history.history['val_accuracy'])\n",
        "plt.show()"
      ],
      "execution_count": 47,
      "outputs": [
        {
          "output_type": "display_data",
          "data": {
            "image/png": "[encoded data removed]",
            "text/plain": [
              "<Figure size 432x288 with 1 Axes>"
            ]
          },
          "metadata": {
            "tags": [],
            "needs_background": "light"
          }
        }
      ]
    },
    {
      "cell_type": "code",
      "metadata": {
        "id": "yYwN7R1cK4nz"
      },
      "source": [
        "encoder_context_model = tf.keras.Model(input_, encoder_states)\n",
        "\n",
        "context_h = tf.keras.Input(shape=(latent_dim,))\n",
        "context_c = tf.keras.Input(shape=(latent_dim,))\n",
        "context_vector = [context_h, context_c]\n",
        "\n",
        "decoder_input_single = tf.keras.Input(shape=(1,))\n",
        "decoder_single_x = decoder_embedding(decoder_input_single)\n",
        "\n",
        "decoder_single_output, single_h, single_c = decoder_lstm(decoder_single_x, initial_state=context_vector)\n",
        "decoder_states = [single_h, single_c]\n",
        "output_single = dense(decoder_single_output)\n",
        "\n",
        "predict_model = tf.keras.models.Model(inputs=[decoder_input_single]+context_vector, outputs=[output_single]+decoder_states)"
      ],
      "execution_count": 51,
      "outputs": []
    },
    {
      "cell_type": "code",
      "metadata": {
        "id": "OwXW-4X3MbHs"
      },
      "source": [
        "index2word_eng = {v:k for k,v in word2index_eng.items()}\n",
        "index2word_fre = {v:k for k,v in word2index_fre.items()}"
      ],
      "execution_count": 48,
      "outputs": []
    },
    {
      "cell_type": "code",
      "metadata": {
        "colab": {
          "base_uri": "https://localhost:8080/"
        },
        "id": "GIOYHwcgs8Qh",
        "outputId": "153dec95-3779-4eff-83f0-fbd83d647bfd"
      },
      "source": [
        "word2index_fre['<eos>']"
      ],
      "execution_count": 56,
      "outputs": [
        {
          "output_type": "execute_result",
          "data": {
            "text/plain": [
              "2"
            ]
          },
          "metadata": {
            "tags": []
          },
          "execution_count": 56
        }
      ]
    },
    {
      "cell_type": "code",
      "metadata": {
        "id": "bgxjrTDuMyFR"
      },
      "source": [
        "def decode_english_to_french(eng_seq):\n",
        "\n",
        "  final_seq = []\n",
        "  encoder_context_states = encoder_context_model.predict(eng_seq)\n",
        "  target_seq = np.array([[word2index_fre['<sos>']]])\n",
        "  eos = word2index_fre['<eos>']\n",
        "\n",
        "  for _ in range(max_target_txt_len):\n",
        "    decoder_o, h, c = predict_model.predict([target_seq]+encoder_context_states)\n",
        "\n",
        "    fre_word = np.argmax(decoder_o[0,0,:])\n",
        "    if fre_word == eos:\n",
        "      break\n",
        "    \n",
        "    if fre_word > 0:\n",
        "      final_seq.append(index2word_fre.get(fre_word))\n",
        "      \n",
        "    target_seq[0,0] = fre_word\n",
        "    encoder_context_states = [h, c]\n",
        "\n",
        "  return ' '.join(final_seq)"
      ],
      "execution_count": 64,
      "outputs": []
    },
    {
      "cell_type": "code",
      "metadata": {
        "id": "BfDmUUjKS8dk",
        "colab": {
          "base_uri": "https://localhost:8080/"
        },
        "outputId": "1a279f4f-57be-484f-ddf1-978d1e2fc8ce"
      },
      "source": [
        "while True:\n",
        "  # Do some test translations\n",
        "  i = np.random.choice(len(input_txts))\n",
        "  input_seq = encoder_inputs[i:i+1]\n",
        "  translation = decode_english_to_french(input_seq)\n",
        "  print('-')\n",
        "  print('Input:', input_txts[i])\n",
        "  print('Translation:', translation)\n",
        "\n",
        "  ans = input(\"Continue? [Y/n]\")\n",
        "  if ans and ans.lower().startswith('n'):\n",
        "    break"
      ],
      "execution_count": 65,
      "outputs": [
        {
          "output_type": "stream",
          "text": [
            "-\n",
            "Input: Be careful!\n",
            "Translation: <sos> <sos> <sos> <sos> <sos> <sos> <sos> <sos> <sos> <sos> <sos> <sos> <sos> <sos> <sos> <sos> <sos> <sos> <sos> <sos> <sos> <sos> <sos> <sos> <sos> <sos> <sos> <sos> <sos> <sos> <sos> <sos> <sos> <sos> <sos> <sos> <sos>\n",
            "Continue? [Y/n]n\n"
          ],
          "name": "stdout"
        }
      ]
    }
  ]
}