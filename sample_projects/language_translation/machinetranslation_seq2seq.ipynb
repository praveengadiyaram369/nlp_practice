{
  "nbformat": 4,
  "nbformat_minor": 0,
  "metadata": {
    "colab": {
      "name": "machinetranslation_seq2seq.ipynb",
      "provenance": [],
      "collapsed_sections": []
    },
    "kernelspec": {
      "name": "python3",
      "display_name": "Python 3"
    },
    "language_info": {
      "name": "python"
    },
    "accelerator": "GPU"
  },
  "cells": [
    {
      "cell_type": "code",
      "metadata": {
        "id": "f9ES9faYRvOx"
      },
      "source": [
        "!pip install -q kaggle"
      ],
      "execution_count": 1,
      "outputs": []
    },
    {
      "cell_type": "code",
      "metadata": {
        "id": "CTQfdbh2VHYa"
      },
      "source": [
        "! mkdir ~/.kaggle\n",
        "! cp kaggle.json ~/.kaggle/\n",
        "! chmod 600 ~/.kaggle/kaggle.json"
      ],
      "execution_count": 2,
      "outputs": []
    },
    {
      "cell_type": "code",
      "metadata": {
        "colab": {
          "base_uri": "https://localhost:8080/"
        },
        "id": "BeSwyridZ7O2",
        "outputId": "8165e43c-14bf-4abb-a20c-613ae2cd40c2"
      },
      "source": [
        "! kaggle datasets download -d danielwillgeorge/glove6b100dtxt\n",
        "! kaggle datasets download -d anindya2906/english-to-french"
      ],
      "execution_count": 3,
      "outputs": [
        {
          "output_type": "stream",
          "text": [
            "Downloading glove6b100dtxt.zip to /content\n",
            " 94% 123M/131M [00:01<00:00, 78.2MB/s] \n",
            "100% 131M/131M [00:01<00:00, 88.6MB/s]\n",
            "Downloading english-to-french.zip to /content\n",
            " 81% 5.00M/6.17M [00:00<00:00, 26.1MB/s]\n",
            "100% 6.17M/6.17M [00:00<00:00, 29.2MB/s]\n"
          ],
          "name": "stdout"
        }
      ]
    },
    {
      "cell_type": "code",
      "metadata": {
        "colab": {
          "base_uri": "https://localhost:8080/"
        },
        "id": "RA_0z67QaTo9",
        "outputId": "7eec312f-f513-42ff-f85b-2aa2e54b2adc"
      },
      "source": [
        "!unzip glove6b100dtxt.zip -d glove100\n",
        "!unzip english-to-french.zip -d eng2french"
      ],
      "execution_count": 4,
      "outputs": [
        {
          "output_type": "stream",
          "text": [
            "Archive:  glove6b100dtxt.zip\n",
            "  inflating: glove100/glove.6B.100d.txt  \n",
            "Archive:  english-to-french.zip\n",
            "  inflating: eng2french/_about.txt   \n",
            "  inflating: eng2french/fra-eng/_about.txt  \n",
            "  inflating: eng2french/fra-eng/fra.txt  \n",
            "  inflating: eng2french/fra.txt      \n"
          ],
          "name": "stdout"
        }
      ]
    },
    {
      "cell_type": "code",
      "metadata": {
        "id": "Rm069dVV1q6L"
      },
      "source": [
        "import os\n",
        "import sys\n",
        "import numpy as np\n",
        "import pandas as pd\n",
        "import matplotlib.pyplot as plt\n",
        "\n",
        "import tensorflow as tf"
      ],
      "execution_count": 5,
      "outputs": []
    },
    {
      "cell_type": "code",
      "metadata": {
        "id": "sxWonbZd12mO"
      },
      "source": [
        "max_seq_len = 100\n",
        "max_vocab_size = 20000\n",
        "epochs = 100\n",
        "batch_size = 64\n",
        "embedding_dim = 100\n",
        "validation_split = 0.2\n",
        "latent_dim = 256\n",
        "num_samples = 2500"
      ],
      "execution_count": 36,
      "outputs": []
    },
    {
      "cell_type": "code",
      "metadata": {
        "id": "m3I_wN8-_5tX"
      },
      "source": [
        "word_embeddings = {}\n",
        "with open(os.path.join('/content/glove100/glove.6B.100d.txt')) as f:\n",
        "    for line in f:\n",
        "        values = line.split()\n",
        "        word_key = values[0]\n",
        "        word_vector = np.array(values[1:], dtype='float32')\n",
        "        \n",
        "        word_embeddings[word_key] = word_vector"
      ],
      "execution_count": 37,
      "outputs": []
    },
    {
      "cell_type": "code",
      "metadata": {
        "id": "EF30tHVL2TAi"
      },
      "source": [
        "input_txts = []\n",
        "target_input_maptxts = []\n",
        "target_txts = []"
      ],
      "execution_count": 38,
      "outputs": []
    },
    {
      "cell_type": "code",
      "metadata": {
        "id": "RCtZJ1Ty3I4t"
      },
      "source": [
        "idx = 0\n",
        "special = u\"\\u202f\"\n",
        "for line in open('eng2french/fra-eng/fra.txt'):\n",
        "\n",
        "  eng, fre = line.strip().replace(special, ' ').split('\\t')\n",
        "  \n",
        "  input_txts.append(eng)\n",
        "  target_input_maptxts.append('<sos> '+fre)\n",
        "  target_txts.append(fre+' <eos>')\n",
        "\n",
        "  idx += 1\n",
        "  if idx == num_samples:\n",
        "    break"
      ],
      "execution_count": 39,
      "outputs": []
    },
    {
      "cell_type": "code",
      "metadata": {
        "id": "b6zFLQht5rKa"
      },
      "source": [
        "tokenizer_eng = tf.keras.preprocessing.text.Tokenizer(num_words=max_vocab_size)\n",
        "tokenizer_eng.fit_on_texts(input_txts)\n",
        "input_sequences = tokenizer_eng.texts_to_sequences(input_txts)"
      ],
      "execution_count": 40,
      "outputs": []
    },
    {
      "cell_type": "code",
      "metadata": {
        "id": "Bx1fhG9h4lE7",
        "colab": {
          "base_uri": "https://localhost:8080/"
        },
        "outputId": "7bb17a08-4f14-4be9-c7f3-569e49293b7a"
      },
      "source": [
        "word2index_eng = tokenizer_eng.word_index\n",
        "num_words_eng = len(word2index_eng)\n",
        "print(num_words_eng)"
      ],
      "execution_count": 41,
      "outputs": [
        {
          "output_type": "stream",
          "text": [
            "773\n"
          ],
          "name": "stdout"
        }
      ]
    },
    {
      "cell_type": "code",
      "metadata": {
        "colab": {
          "base_uri": "https://localhost:8080/"
        },
        "id": "JGfwa8QJ60Jw",
        "outputId": "9d20432a-94cf-47e0-d0e1-522c2b6b38b1"
      },
      "source": [
        "max_input_txt_len = max(len(s) for s in input_txts)\n",
        "max_input_txt_len"
      ],
      "execution_count": 42,
      "outputs": [
        {
          "output_type": "execute_result",
          "data": {
            "text/plain": [
              "12"
            ]
          },
          "metadata": {
            "tags": []
          },
          "execution_count": 42
        }
      ]
    },
    {
      "cell_type": "code",
      "metadata": {
        "id": "TafLJgkI51vZ"
      },
      "source": [
        "tokenizer_fre = tf.keras.preprocessing.text.Tokenizer(num_words=max_vocab_size, filters='')\n",
        "tokenizer_fre.fit_on_texts(target_input_maptxts+target_txts)\n",
        "target_sequences = tokenizer_fre.texts_to_sequences(target_txts)\n",
        "target_input_map_sequences = tokenizer_fre.texts_to_sequences(target_input_maptxts)"
      ],
      "execution_count": 43,
      "outputs": []
    },
    {
      "cell_type": "code",
      "metadata": {
        "colab": {
          "base_uri": "https://localhost:8080/"
        },
        "id": "VXuks7066QvS",
        "outputId": "c64e34d9-98b2-4150-d316-647d70f15253"
      },
      "source": [
        "max_target_txt_len = max(len(s) for s in target_txts)\n",
        "max_target_txt_len"
      ],
      "execution_count": 44,
      "outputs": [
        {
          "output_type": "execute_result",
          "data": {
            "text/plain": [
              "43"
            ]
          },
          "metadata": {
            "tags": []
          },
          "execution_count": 44
        }
      ]
    },
    {
      "cell_type": "code",
      "metadata": {
        "colab": {
          "base_uri": "https://localhost:8080/"
        },
        "id": "1Zksa8Rl76la",
        "outputId": "f30e20c2-ec41-4d6b-e29e-879e3d4218cf"
      },
      "source": [
        "word2index_fre = tokenizer_fre.word_index\n",
        "num_words_fre = len(word2index_fre)\n",
        "print(num_words_fre)"
      ],
      "execution_count": 45,
      "outputs": [
        {
          "output_type": "stream",
          "text": [
            "1881\n"
          ],
          "name": "stdout"
        }
      ]
    },
    {
      "cell_type": "code",
      "metadata": {
        "id": "lEELIRqWfdTL"
      },
      "source": [
        "num_words_fre = min(num_words_fre+1, max_vocab_size)\n",
        "num_words_eng = min(num_words_eng+1, max_vocab_size)"
      ],
      "execution_count": 46,
      "outputs": []
    },
    {
      "cell_type": "code",
      "metadata": {
        "id": "bt7JK8hY8vre"
      },
      "source": [
        "assert '<sos>' in word2index_fre\n",
        "assert '<eos>' in word2index_fre"
      ],
      "execution_count": 47,
      "outputs": []
    },
    {
      "cell_type": "code",
      "metadata": {
        "colab": {
          "base_uri": "https://localhost:8080/"
        },
        "id": "t6bg7XmXhyHF",
        "outputId": "3c75ffc5-ab3b-417e-8df2-a87ae4a6d57a"
      },
      "source": [
        "target_txts[:20]"
      ],
      "execution_count": 48,
      "outputs": [
        {
          "output_type": "execute_result",
          "data": {
            "text/plain": [
              "['Va ! <eos>',\n",
              " 'Cours ! <eos>',\n",
              " 'Courez ! <eos>',\n",
              " 'Au feu ! <eos>',\n",
              " \"À l'aide ! <eos>\",\n",
              " 'Saute. <eos>',\n",
              " 'Ça suffit ! <eos>',\n",
              " 'Stop ! <eos>',\n",
              " 'Arrête-toi ! <eos>',\n",
              " 'Attends ! <eos>',\n",
              " 'Attendez ! <eos>',\n",
              " 'Poursuis. <eos>',\n",
              " 'Continuez. <eos>',\n",
              " 'Poursuivez. <eos>',\n",
              " 'Je comprends. <eos>',\n",
              " \"J'essaye. <eos>\",\n",
              " \"J'ai gagné ! <eos>\",\n",
              " \"Je l'ai emporté ! <eos>\",\n",
              " 'Oh non ! <eos>',\n",
              " 'Attaque ! <eos>']"
            ]
          },
          "metadata": {
            "tags": []
          },
          "execution_count": 48
        }
      ]
    },
    {
      "cell_type": "code",
      "metadata": {
        "id": "2wI92fq19lbs"
      },
      "source": [
        "encoder_inputs = tf.keras.preprocessing.sequence.pad_sequences(input_sequences, maxlen=max_input_txt_len, padding='pre')\n",
        "decoder_inputs = tf.keras.preprocessing.sequence.pad_sequences(target_input_map_sequences, maxlen=max_target_txt_len, padding='post')\n",
        "decoder_targets = tf.keras.preprocessing.sequence.pad_sequences(target_sequences, maxlen=max_target_txt_len, padding='post')"
      ],
      "execution_count": 49,
      "outputs": []
    },
    {
      "cell_type": "code",
      "metadata": {
        "colab": {
          "base_uri": "https://localhost:8080/"
        },
        "id": "LZG6oY66_6sf",
        "outputId": "d0c0d9a8-37ba-49c5-ad60-458b0cb10647"
      },
      "source": [
        "num_words_inputs = min(max_vocab_size, len(word2index_eng)+1)\n",
        "num_words_inputs"
      ],
      "execution_count": 50,
      "outputs": [
        {
          "output_type": "execute_result",
          "data": {
            "text/plain": [
              "774"
            ]
          },
          "metadata": {
            "tags": []
          },
          "execution_count": 50
        }
      ]
    },
    {
      "cell_type": "code",
      "metadata": {
        "id": "BiUeWUELA5Ei"
      },
      "source": [
        "embedding_matrix = np.zeros((num_words_inputs, embedding_dim))\n",
        "for word, idx in word2index_eng.items():\n",
        "    if idx < max_vocab_size:\n",
        "        embedding_vector = word_embeddings.get(word)\n",
        "        \n",
        "        if embedding_vector is not None:\n",
        "            embedding_matrix[idx] = embedding_vector"
      ],
      "execution_count": 51,
      "outputs": []
    },
    {
      "cell_type": "code",
      "metadata": {
        "colab": {
          "base_uri": "https://localhost:8080/"
        },
        "id": "F6QUxyPVDN_0",
        "outputId": "3602dd2b-b498-41a0-f19e-30cb37d410ef"
      },
      "source": [
        "print(f'Encoder Input Sequences shape: {encoder_inputs.shape}')\n",
        "print(f'Decoder Input Sequences shape: {decoder_inputs.shape}')\n",
        "print(f'Deocder Target Sequences shape: {decoder_targets.shape}')"
      ],
      "execution_count": 52,
      "outputs": [
        {
          "output_type": "stream",
          "text": [
            "Encoder Input Sequences shape: (2500, 12)\n",
            "Decoder Input Sequences shape: (2500, 43)\n",
            "Deocder Target Sequences shape: (2500, 43)\n"
          ],
          "name": "stdout"
        }
      ]
    },
    {
      "cell_type": "code",
      "metadata": {
        "id": "BxdTxT0RBILm",
        "colab": {
          "base_uri": "https://localhost:8080/"
        },
        "outputId": "5cbae9f9-a8b1-4c90-d9fb-3753d296377c"
      },
      "source": [
        "one_hot_targets = np.zeros((len(decoder_targets), max_target_txt_len, num_words_fre))\n",
        "for i, target_sequence in enumerate(decoder_targets):\n",
        "  for j, token_id in enumerate(target_sequence):\n",
        "      if token_id > 0:\n",
        "        one_hot_targets[i, j, token_id] = 1\n",
        "\n",
        "one_hot_targets.shape"
      ],
      "execution_count": 53,
      "outputs": [
        {
          "output_type": "execute_result",
          "data": {
            "text/plain": [
              "(2500, 43, 1882)"
            ]
          },
          "metadata": {
            "tags": []
          },
          "execution_count": 53
        }
      ]
    },
    {
      "cell_type": "code",
      "metadata": {
        "id": "91HHpVmVDA23"
      },
      "source": [
        "embedding_layer = tf.keras.layers.Embedding(input_dim=num_words_eng, output_dim=embedding_dim, weights=[embedding_matrix] ,input_length=max_input_txt_len)\n",
        "\n",
        "input_ = tf.keras.Input(shape=(max_input_txt_len,))\n",
        "x = embedding_layer(input_)\n",
        "\n",
        "encoder_lstm = tf.keras.layers.LSTM(latent_dim, return_state=True)\n",
        "encoder_output, encoder_h, encoder_c = encoder_lstm(x)\n",
        "\n",
        "encoder_states = [encoder_h, encoder_c]\n",
        "\n",
        "decoder_input_ = tf.keras.Input(shape=[max_target_txt_len,])\n",
        "decoder_embedding = tf.keras.layers.Embedding(input_dim=num_words_fre, output_dim=embedding_dim)\n",
        "decoder_x = decoder_embedding(decoder_input_)\n",
        "\n",
        "decoder_lstm = tf.keras.layers.LSTM(latent_dim, return_state=True, return_sequences=True)\n",
        "decoder_lstm_output, _, _ = decoder_lstm(decoder_x, initial_state=encoder_states)\n",
        "\n",
        "dense = tf.keras.layers.Dense(units=num_words_fre, activation='softmax')\n",
        "output_ = dense(decoder_lstm_output)\n",
        "\n",
        "model = tf.keras.models.Model(inputs=[input_, decoder_input_], outputs=output_)"
      ],
      "execution_count": 54,
      "outputs": []
    },
    {
      "cell_type": "code",
      "metadata": {
        "id": "vNZpOi2u6Le1",
        "colab": {
          "base_uri": "https://localhost:8080/"
        },
        "outputId": "743efa05-deeb-4518-e2c9-2985b465962c"
      },
      "source": [
        "model.compile(optimizer='rmsprop', loss='categorical_crossentropy', metrics=['accuracy'])\n",
        "history = model.fit(x=[encoder_inputs, decoder_inputs], y=one_hot_targets, batch_size=batch_size, epochs=epochs, validation_split=validation_split)"
      ],
      "execution_count": 55,
      "outputs": [
        {
          "output_type": "stream",
          "text": [
            "Epoch 1/100\n",
            "32/32 [==============================] - 4s 53ms/step - loss: 0.5357 - accuracy: 0.0225 - val_loss: 0.5637 - val_accuracy: 0.0233\n",
            "Epoch 2/100\n",
            "32/32 [==============================] - 1s 30ms/step - loss: 0.5066 - accuracy: 0.0255 - val_loss: 0.5728 - val_accuracy: 0.0289\n",
            "Epoch 3/100\n",
            "32/32 [==============================] - 1s 31ms/step - loss: 0.5046 - accuracy: 0.0277 - val_loss: 0.5627 - val_accuracy: 0.0330\n",
            "Epoch 4/100\n",
            "32/32 [==============================] - 1s 30ms/step - loss: 0.5016 - accuracy: 0.0279 - val_loss: 0.5685 - val_accuracy: 0.0330\n",
            "Epoch 5/100\n",
            "32/32 [==============================] - 1s 30ms/step - loss: 0.4994 - accuracy: 0.0279 - val_loss: 0.5583 - val_accuracy: 0.0330\n",
            "Epoch 6/100\n",
            "32/32 [==============================] - 1s 30ms/step - loss: 0.4965 - accuracy: 0.0279 - val_loss: 0.5602 - val_accuracy: 0.0330\n",
            "Epoch 7/100\n",
            "32/32 [==============================] - 1s 30ms/step - loss: 0.4939 - accuracy: 0.0279 - val_loss: 0.5567 - val_accuracy: 0.0330\n",
            "Epoch 8/100\n",
            "32/32 [==============================] - 1s 30ms/step - loss: 0.4912 - accuracy: 0.0281 - val_loss: 0.5543 - val_accuracy: 0.0330\n",
            "Epoch 9/100\n",
            "32/32 [==============================] - 1s 30ms/step - loss: 0.4887 - accuracy: 0.0288 - val_loss: 0.5546 - val_accuracy: 0.0338\n",
            "Epoch 10/100\n",
            "32/32 [==============================] - 1s 30ms/step - loss: 0.4861 - accuracy: 0.0295 - val_loss: 0.5516 - val_accuracy: 0.0354\n",
            "Epoch 11/100\n",
            "32/32 [==============================] - 1s 30ms/step - loss: 0.4839 - accuracy: 0.0299 - val_loss: 0.5477 - val_accuracy: 0.0363\n",
            "Epoch 12/100\n",
            "32/32 [==============================] - 1s 30ms/step - loss: 0.4817 - accuracy: 0.0305 - val_loss: 0.5489 - val_accuracy: 0.0361\n",
            "Epoch 13/100\n",
            "32/32 [==============================] - 1s 31ms/step - loss: 0.4797 - accuracy: 0.0310 - val_loss: 0.5464 - val_accuracy: 0.0365\n",
            "Epoch 14/100\n",
            "32/32 [==============================] - 1s 30ms/step - loss: 0.4780 - accuracy: 0.0313 - val_loss: 0.5464 - val_accuracy: 0.0364\n",
            "Epoch 15/100\n",
            "32/32 [==============================] - 1s 30ms/step - loss: 0.4763 - accuracy: 0.0314 - val_loss: 0.5467 - val_accuracy: 0.0366\n",
            "Epoch 16/100\n",
            "32/32 [==============================] - 1s 30ms/step - loss: 0.4748 - accuracy: 0.0321 - val_loss: 0.5468 - val_accuracy: 0.0368\n",
            "Epoch 17/100\n",
            "32/32 [==============================] - 1s 31ms/step - loss: 0.4731 - accuracy: 0.0333 - val_loss: 0.5474 - val_accuracy: 0.0368\n",
            "Epoch 18/100\n",
            "32/32 [==============================] - 1s 32ms/step - loss: 0.4716 - accuracy: 0.0343 - val_loss: 0.5472 - val_accuracy: 0.0373\n",
            "Epoch 19/100\n",
            "32/32 [==============================] - 1s 31ms/step - loss: 0.4699 - accuracy: 0.0348 - val_loss: 0.5468 - val_accuracy: 0.0376\n",
            "Epoch 20/100\n",
            "32/32 [==============================] - 1s 30ms/step - loss: 0.4687 - accuracy: 0.0351 - val_loss: 0.5461 - val_accuracy: 0.0381\n",
            "Epoch 21/100\n",
            "32/32 [==============================] - 1s 31ms/step - loss: 0.4670 - accuracy: 0.0353 - val_loss: 0.5481 - val_accuracy: 0.0377\n",
            "Epoch 22/100\n",
            "32/32 [==============================] - 1s 30ms/step - loss: 0.4656 - accuracy: 0.0356 - val_loss: 0.5478 - val_accuracy: 0.0380\n",
            "Epoch 23/100\n",
            "32/32 [==============================] - 1s 30ms/step - loss: 0.4644 - accuracy: 0.0357 - val_loss: 0.5486 - val_accuracy: 0.0377\n",
            "Epoch 24/100\n",
            "32/32 [==============================] - 1s 30ms/step - loss: 0.4631 - accuracy: 0.0359 - val_loss: 0.5470 - val_accuracy: 0.0380\n",
            "Epoch 25/100\n",
            "32/32 [==============================] - 1s 30ms/step - loss: 0.4618 - accuracy: 0.0360 - val_loss: 0.5483 - val_accuracy: 0.0382\n",
            "Epoch 26/100\n",
            "32/32 [==============================] - 1s 30ms/step - loss: 0.4606 - accuracy: 0.0362 - val_loss: 0.5477 - val_accuracy: 0.0383\n",
            "Epoch 27/100\n",
            "32/32 [==============================] - 1s 30ms/step - loss: 0.4592 - accuracy: 0.0362 - val_loss: 0.5494 - val_accuracy: 0.0381\n",
            "Epoch 28/100\n",
            "32/32 [==============================] - 1s 30ms/step - loss: 0.4584 - accuracy: 0.0362 - val_loss: 0.5476 - val_accuracy: 0.0383\n",
            "Epoch 29/100\n",
            "32/32 [==============================] - 1s 30ms/step - loss: 0.4570 - accuracy: 0.0363 - val_loss: 0.5480 - val_accuracy: 0.0384\n",
            "Epoch 30/100\n",
            "32/32 [==============================] - 1s 31ms/step - loss: 0.4560 - accuracy: 0.0364 - val_loss: 0.5498 - val_accuracy: 0.0381\n",
            "Epoch 31/100\n",
            "32/32 [==============================] - 1s 30ms/step - loss: 0.4550 - accuracy: 0.0365 - val_loss: 0.5510 - val_accuracy: 0.0382\n",
            "Epoch 32/100\n",
            "32/32 [==============================] - 1s 31ms/step - loss: 0.4538 - accuracy: 0.0365 - val_loss: 0.5520 - val_accuracy: 0.0376\n",
            "Epoch 33/100\n",
            "32/32 [==============================] - 1s 30ms/step - loss: 0.4529 - accuracy: 0.0366 - val_loss: 0.5530 - val_accuracy: 0.0377\n",
            "Epoch 34/100\n",
            "32/32 [==============================] - 1s 31ms/step - loss: 0.4519 - accuracy: 0.0367 - val_loss: 0.5487 - val_accuracy: 0.0383\n",
            "Epoch 35/100\n",
            "32/32 [==============================] - 1s 31ms/step - loss: 0.4511 - accuracy: 0.0367 - val_loss: 0.5493 - val_accuracy: 0.0383\n",
            "Epoch 36/100\n",
            "32/32 [==============================] - 1s 31ms/step - loss: 0.4501 - accuracy: 0.0368 - val_loss: 0.5495 - val_accuracy: 0.0383\n",
            "Epoch 37/100\n",
            "32/32 [==============================] - 1s 30ms/step - loss: 0.4492 - accuracy: 0.0368 - val_loss: 0.5526 - val_accuracy: 0.0381\n",
            "Epoch 38/100\n",
            "32/32 [==============================] - 1s 30ms/step - loss: 0.4483 - accuracy: 0.0369 - val_loss: 0.5524 - val_accuracy: 0.0383\n",
            "Epoch 39/100\n",
            "32/32 [==============================] - 1s 31ms/step - loss: 0.4474 - accuracy: 0.0370 - val_loss: 0.5507 - val_accuracy: 0.0383\n",
            "Epoch 40/100\n",
            "32/32 [==============================] - 1s 31ms/step - loss: 0.4464 - accuracy: 0.0370 - val_loss: 0.5526 - val_accuracy: 0.0383\n",
            "Epoch 41/100\n",
            "32/32 [==============================] - 1s 31ms/step - loss: 0.4453 - accuracy: 0.0370 - val_loss: 0.5528 - val_accuracy: 0.0385\n",
            "Epoch 42/100\n",
            "32/32 [==============================] - 1s 31ms/step - loss: 0.4441 - accuracy: 0.0372 - val_loss: 0.5539 - val_accuracy: 0.0382\n",
            "Epoch 43/100\n",
            "32/32 [==============================] - 1s 31ms/step - loss: 0.4433 - accuracy: 0.0372 - val_loss: 0.5526 - val_accuracy: 0.0383\n",
            "Epoch 44/100\n",
            "32/32 [==============================] - 1s 31ms/step - loss: 0.4422 - accuracy: 0.0373 - val_loss: 0.5535 - val_accuracy: 0.0385\n",
            "Epoch 45/100\n",
            "32/32 [==============================] - 1s 30ms/step - loss: 0.4412 - accuracy: 0.0375 - val_loss: 0.5519 - val_accuracy: 0.0384\n",
            "Epoch 46/100\n",
            "32/32 [==============================] - 1s 31ms/step - loss: 0.4402 - accuracy: 0.0374 - val_loss: 0.5548 - val_accuracy: 0.0382\n",
            "Epoch 47/100\n",
            "32/32 [==============================] - 1s 30ms/step - loss: 0.4395 - accuracy: 0.0375 - val_loss: 0.5537 - val_accuracy: 0.0385\n",
            "Epoch 48/100\n",
            "32/32 [==============================] - 1s 30ms/step - loss: 0.4385 - accuracy: 0.0377 - val_loss: 0.5529 - val_accuracy: 0.0383\n",
            "Epoch 49/100\n",
            "32/32 [==============================] - 1s 30ms/step - loss: 0.4377 - accuracy: 0.0376 - val_loss: 0.5517 - val_accuracy: 0.0384\n",
            "Epoch 50/100\n",
            "32/32 [==============================] - 1s 31ms/step - loss: 0.4369 - accuracy: 0.0378 - val_loss: 0.5523 - val_accuracy: 0.0385\n",
            "Epoch 51/100\n",
            "32/32 [==============================] - 1s 30ms/step - loss: 0.4362 - accuracy: 0.0378 - val_loss: 0.5538 - val_accuracy: 0.0386\n",
            "Epoch 52/100\n",
            "32/32 [==============================] - 1s 30ms/step - loss: 0.4354 - accuracy: 0.0378 - val_loss: 0.5542 - val_accuracy: 0.0386\n",
            "Epoch 53/100\n",
            "32/32 [==============================] - 1s 30ms/step - loss: 0.4345 - accuracy: 0.0378 - val_loss: 0.5540 - val_accuracy: 0.0386\n",
            "Epoch 54/100\n",
            "32/32 [==============================] - 1s 30ms/step - loss: 0.4338 - accuracy: 0.0379 - val_loss: 0.5562 - val_accuracy: 0.0385\n",
            "Epoch 55/100\n",
            "32/32 [==============================] - 1s 31ms/step - loss: 0.4328 - accuracy: 0.0381 - val_loss: 0.5532 - val_accuracy: 0.0386\n",
            "Epoch 56/100\n",
            "32/32 [==============================] - 1s 31ms/step - loss: 0.4312 - accuracy: 0.0381 - val_loss: 0.5541 - val_accuracy: 0.0386\n",
            "Epoch 57/100\n",
            "32/32 [==============================] - 1s 31ms/step - loss: 0.4300 - accuracy: 0.0381 - val_loss: 0.5545 - val_accuracy: 0.0387\n",
            "Epoch 58/100\n",
            "32/32 [==============================] - 1s 30ms/step - loss: 0.4295 - accuracy: 0.0382 - val_loss: 0.5526 - val_accuracy: 0.0387\n",
            "Epoch 59/100\n",
            "32/32 [==============================] - 1s 30ms/step - loss: 0.4288 - accuracy: 0.0383 - val_loss: 0.5543 - val_accuracy: 0.0390\n",
            "Epoch 60/100\n",
            "32/32 [==============================] - 1s 31ms/step - loss: 0.4281 - accuracy: 0.0384 - val_loss: 0.5543 - val_accuracy: 0.0390\n",
            "Epoch 61/100\n",
            "32/32 [==============================] - 1s 31ms/step - loss: 0.4270 - accuracy: 0.0384 - val_loss: 0.5552 - val_accuracy: 0.0390\n",
            "Epoch 62/100\n",
            "32/32 [==============================] - 1s 30ms/step - loss: 0.4257 - accuracy: 0.0386 - val_loss: 0.5528 - val_accuracy: 0.0390\n",
            "Epoch 63/100\n",
            "32/32 [==============================] - 1s 31ms/step - loss: 0.4251 - accuracy: 0.0387 - val_loss: 0.5530 - val_accuracy: 0.0388\n",
            "Epoch 64/100\n",
            "32/32 [==============================] - 1s 31ms/step - loss: 0.4239 - accuracy: 0.0386 - val_loss: 0.5538 - val_accuracy: 0.0391\n",
            "Epoch 65/100\n",
            "32/32 [==============================] - 1s 31ms/step - loss: 0.4231 - accuracy: 0.0388 - val_loss: 0.5542 - val_accuracy: 0.0390\n",
            "Epoch 66/100\n",
            "32/32 [==============================] - 1s 30ms/step - loss: 0.4224 - accuracy: 0.0388 - val_loss: 0.5541 - val_accuracy: 0.0393\n",
            "Epoch 67/100\n",
            "32/32 [==============================] - 1s 30ms/step - loss: 0.4215 - accuracy: 0.0389 - val_loss: 0.5541 - val_accuracy: 0.0391\n",
            "Epoch 68/100\n",
            "32/32 [==============================] - 1s 31ms/step - loss: 0.4199 - accuracy: 0.0390 - val_loss: 0.5549 - val_accuracy: 0.0394\n",
            "Epoch 69/100\n",
            "32/32 [==============================] - 1s 31ms/step - loss: 0.4193 - accuracy: 0.0390 - val_loss: 0.5553 - val_accuracy: 0.0391\n",
            "Epoch 70/100\n",
            "32/32 [==============================] - 1s 31ms/step - loss: 0.4184 - accuracy: 0.0390 - val_loss: 0.5555 - val_accuracy: 0.0393\n",
            "Epoch 71/100\n",
            "32/32 [==============================] - 1s 30ms/step - loss: 0.4179 - accuracy: 0.0391 - val_loss: 0.5553 - val_accuracy: 0.0389\n",
            "Epoch 72/100\n",
            "32/32 [==============================] - 1s 31ms/step - loss: 0.4172 - accuracy: 0.0390 - val_loss: 0.5563 - val_accuracy: 0.0393\n",
            "Epoch 73/100\n",
            "32/32 [==============================] - 1s 31ms/step - loss: 0.4165 - accuracy: 0.0391 - val_loss: 0.5562 - val_accuracy: 0.0393\n",
            "Epoch 74/100\n",
            "32/32 [==============================] - 1s 31ms/step - loss: 0.4159 - accuracy: 0.0393 - val_loss: 0.5568 - val_accuracy: 0.0393\n",
            "Epoch 75/100\n",
            "32/32 [==============================] - 1s 30ms/step - loss: 0.4152 - accuracy: 0.0392 - val_loss: 0.5575 - val_accuracy: 0.0394\n",
            "Epoch 76/100\n",
            "32/32 [==============================] - 1s 31ms/step - loss: 0.4142 - accuracy: 0.0393 - val_loss: 0.5563 - val_accuracy: 0.0393\n",
            "Epoch 77/100\n",
            "32/32 [==============================] - 1s 31ms/step - loss: 0.4131 - accuracy: 0.0393 - val_loss: 0.5557 - val_accuracy: 0.0393\n",
            "Epoch 78/100\n",
            "32/32 [==============================] - 1s 31ms/step - loss: 0.4120 - accuracy: 0.0394 - val_loss: 0.5563 - val_accuracy: 0.0393\n",
            "Epoch 79/100\n",
            "32/32 [==============================] - 1s 31ms/step - loss: 0.4114 - accuracy: 0.0395 - val_loss: 0.5565 - val_accuracy: 0.0393\n",
            "Epoch 80/100\n",
            "32/32 [==============================] - 1s 31ms/step - loss: 0.4106 - accuracy: 0.0395 - val_loss: 0.5565 - val_accuracy: 0.0391\n",
            "Epoch 81/100\n",
            "32/32 [==============================] - 1s 31ms/step - loss: 0.4099 - accuracy: 0.0395 - val_loss: 0.5547 - val_accuracy: 0.0390\n",
            "Epoch 82/100\n",
            "32/32 [==============================] - 1s 30ms/step - loss: 0.4091 - accuracy: 0.0395 - val_loss: 0.5573 - val_accuracy: 0.0393\n",
            "Epoch 83/100\n",
            "32/32 [==============================] - 1s 31ms/step - loss: 0.4083 - accuracy: 0.0396 - val_loss: 0.5566 - val_accuracy: 0.0393\n",
            "Epoch 84/100\n",
            "32/32 [==============================] - 1s 31ms/step - loss: 0.4074 - accuracy: 0.0397 - val_loss: 0.5563 - val_accuracy: 0.0393\n",
            "Epoch 85/100\n",
            "32/32 [==============================] - 1s 31ms/step - loss: 0.4068 - accuracy: 0.0397 - val_loss: 0.5557 - val_accuracy: 0.0394\n",
            "Epoch 86/100\n",
            "32/32 [==============================] - 1s 31ms/step - loss: 0.4058 - accuracy: 0.0398 - val_loss: 0.5570 - val_accuracy: 0.0394\n",
            "Epoch 87/100\n",
            "32/32 [==============================] - 1s 31ms/step - loss: 0.4052 - accuracy: 0.0398 - val_loss: 0.5568 - val_accuracy: 0.0394\n",
            "Epoch 88/100\n",
            "32/32 [==============================] - 1s 30ms/step - loss: 0.4045 - accuracy: 0.0398 - val_loss: 0.5569 - val_accuracy: 0.0392\n",
            "Epoch 89/100\n",
            "32/32 [==============================] - 1s 30ms/step - loss: 0.4039 - accuracy: 0.0399 - val_loss: 0.5562 - val_accuracy: 0.0393\n",
            "Epoch 90/100\n",
            "32/32 [==============================] - 1s 32ms/step - loss: 0.4032 - accuracy: 0.0400 - val_loss: 0.5571 - val_accuracy: 0.0394\n",
            "Epoch 91/100\n",
            "32/32 [==============================] - 1s 31ms/step - loss: 0.4022 - accuracy: 0.0400 - val_loss: 0.5558 - val_accuracy: 0.0394\n",
            "Epoch 92/100\n",
            "32/32 [==============================] - 1s 31ms/step - loss: 0.4008 - accuracy: 0.0400 - val_loss: 0.5552 - val_accuracy: 0.0395\n",
            "Epoch 93/100\n",
            "32/32 [==============================] - 1s 30ms/step - loss: 0.3999 - accuracy: 0.0401 - val_loss: 0.5572 - val_accuracy: 0.0394\n",
            "Epoch 94/100\n",
            "32/32 [==============================] - 1s 31ms/step - loss: 0.3994 - accuracy: 0.0401 - val_loss: 0.5574 - val_accuracy: 0.0394\n",
            "Epoch 95/100\n",
            "32/32 [==============================] - 1s 30ms/step - loss: 0.3988 - accuracy: 0.0401 - val_loss: 0.5569 - val_accuracy: 0.0396\n",
            "Epoch 96/100\n",
            "32/32 [==============================] - 1s 31ms/step - loss: 0.3981 - accuracy: 0.0402 - val_loss: 0.5586 - val_accuracy: 0.0390\n",
            "Epoch 97/100\n",
            "32/32 [==============================] - 1s 31ms/step - loss: 0.3975 - accuracy: 0.0402 - val_loss: 0.5577 - val_accuracy: 0.0394\n",
            "Epoch 98/100\n",
            "32/32 [==============================] - 1s 30ms/step - loss: 0.3967 - accuracy: 0.0403 - val_loss: 0.5563 - val_accuracy: 0.0395\n",
            "Epoch 99/100\n",
            "32/32 [==============================] - 1s 30ms/step - loss: 0.3961 - accuracy: 0.0402 - val_loss: 0.5567 - val_accuracy: 0.0395\n",
            "Epoch 100/100\n",
            "32/32 [==============================] - 1s 30ms/step - loss: 0.3955 - accuracy: 0.0403 - val_loss: 0.5556 - val_accuracy: 0.0398\n"
          ],
          "name": "stdout"
        }
      ]
    },
    {
      "cell_type": "code",
      "metadata": {
        "id": "7XrX9juN7ci9",
        "colab": {
          "base_uri": "https://localhost:8080/",
          "height": 265
        },
        "outputId": "eb1be6c9-fe74-46ba-ee80-5d1b1199792b"
      },
      "source": [
        "plt.plot(history.history['loss'])\n",
        "plt.plot(history.history['val_loss'])\n",
        "plt.show()"
      ],
      "execution_count": 56,
      "outputs": [
        {
          "output_type": "display_data",
          "data": {
            "image/png": "[encoded data removed]",
            "text/plain": [
              "<Figure size 432x288 with 1 Axes>"
            ]
          },
          "metadata": {
            "tags": [],
            "needs_background": "light"
          }
        }
      ]
    },
    {
      "cell_type": "code",
      "metadata": {
        "id": "oJcy7B5w7hXk",
        "colab": {
          "base_uri": "https://localhost:8080/",
          "height": 265
        },
        "outputId": "25fcf522-e2a0-4638-eff7-c78fcb896bab"
      },
      "source": [
        "plt.plot(history.history['accuracy'])\n",
        "plt.plot(history.history['val_accuracy'])\n",
        "plt.show()"
      ],
      "execution_count": 57,
      "outputs": [
        {
          "output_type": "display_data",
          "data": {
            "image/png": "[encoded data removed]",
            "text/plain": [
              "<Figure size 432x288 with 1 Axes>"
            ]
          },
          "metadata": {
            "tags": [],
            "needs_background": "light"
          }
        }
      ]
    },
    {
      "cell_type": "code",
      "metadata": {
        "id": "yYwN7R1cK4nz"
      },
      "source": [
        "encoder_context_model = tf.keras.Model(input_, encoder_states)\n",
        "\n",
        "context_h = tf.keras.Input(shape=(latent_dim,))\n",
        "context_c = tf.keras.Input(shape=(latent_dim,))\n",
        "context_vector = [context_h, context_c]\n",
        "\n",
        "decoder_input_single = tf.keras.Input(shape=(1,))\n",
        "decoder_single_x = decoder_embedding(decoder_input_single)\n",
        "\n",
        "decoder_single_output, single_h, single_c = decoder_lstm(decoder_single_x, initial_state=context_vector)\n",
        "decoder_states = [single_h, single_c]\n",
        "output_single = dense(decoder_single_output)\n",
        "\n",
        "predict_model = tf.keras.models.Model(inputs=[decoder_input_single]+context_vector, outputs=[output_single]+decoder_states)"
      ],
      "execution_count": 58,
      "outputs": []
    },
    {
      "cell_type": "code",
      "metadata": {
        "id": "OwXW-4X3MbHs"
      },
      "source": [
        "index2word_eng = {v:k for k,v in word2index_eng.items()}\n",
        "index2word_fre = {v:k for k,v in word2index_fre.items()}"
      ],
      "execution_count": 59,
      "outputs": []
    },
    {
      "cell_type": "code",
      "metadata": {
        "colab": {
          "base_uri": "https://localhost:8080/"
        },
        "id": "GIOYHwcgs8Qh",
        "outputId": "9d744d48-6a35-4064-ae33-66901dfff96d"
      },
      "source": [
        "word2index_fre['<eos>']"
      ],
      "execution_count": 60,
      "outputs": [
        {
          "output_type": "execute_result",
          "data": {
            "text/plain": [
              "2"
            ]
          },
          "metadata": {
            "tags": []
          },
          "execution_count": 60
        }
      ]
    },
    {
      "cell_type": "code",
      "metadata": {
        "id": "bgxjrTDuMyFR"
      },
      "source": [
        "def decode_english_to_french(eng_seq):\n",
        "\n",
        "  final_seq = []\n",
        "  encoder_context_states = encoder_context_model.predict(eng_seq)\n",
        "  target_seq = np.array([[word2index_fre['<sos>']]])\n",
        "  eos = word2index_fre['<eos>']\n",
        "  print(eos)\n",
        "\n",
        "  for _ in range(max_target_txt_len):\n",
        "    decoder_o, h, c = predict_model.predict([target_seq]+encoder_context_states)\n",
        "\n",
        "    fre_word = np.argmax(decoder_o[0,0,:])\n",
        "    print(fre_word)\n",
        "    if fre_word == eos:\n",
        "      break\n",
        "    \n",
        "    if fre_word > 0:\n",
        "      final_seq.append(index2word_fre.get(fre_word))\n",
        "      \n",
        "    target_seq[0,0] = fre_word\n",
        "    encoder_context_states = [h, c]\n",
        "\n",
        "  return ' '.join(final_seq)"
      ],
      "execution_count": 61,
      "outputs": []
    },
    {
      "cell_type": "code",
      "metadata": {
        "id": "BfDmUUjKS8dk",
        "colab": {
          "base_uri": "https://localhost:8080/"
        },
        "outputId": "17ed0d44-4d07-4fe3-ac88-356b0faed571"
      },
      "source": [
        "while True:\n",
        "  # Do some test translations\n",
        "  i = np.random.choice(len(input_txts))\n",
        "  input_seq = encoder_inputs[i:i+1]\n",
        "  translation = decode_english_to_french(input_seq)\n",
        "  print('-')\n",
        "  print('Input:', input_txts[i])\n",
        "  print('Translation:', translation)\n",
        "\n",
        "  ans = input(\"Continue? [Y/n]\")\n",
        "  if ans and ans.lower().startswith('n'):\n",
        "    break"
      ],
      "execution_count": 62,
      "outputs": [
        {
          "output_type": "stream",
          "text": [
            "2\n",
            "3\n",
            "2\n",
            "-\n",
            "Input: I'll stop.\n",
            "Translation: je\n",
            "Continue? [Y/n]y\n",
            "2\n",
            "8\n",
            "2\n",
            "-\n",
            "Input: Pick a date.\n",
            "Translation: c'est\n",
            "Continue? [Y/n]y\n",
            "2\n",
            "3\n",
            "5\n",
            "2\n",
            "-\n",
            "Input: I'm frantic.\n",
            "Translation: je suis\n",
            "Continue? [Y/n]y\n",
            "2\n",
            "9\n",
            "2\n",
            "-\n",
            "Input: He squinted.\n",
            "Translation: il\n",
            "Continue? [Y/n]y\n",
            "2\n",
            "33\n",
            "2\n",
            "-\n",
            "Input: Get to bed.\n",
            "Translation: va\n",
            "Continue? [Y/n]y\n",
            "2\n",
            "9\n",
            "11\n",
            "2\n",
            "-\n",
            "Input: It's night.\n",
            "Translation: il est\n",
            "Continue? [Y/n]y\n",
            "2\n",
            "3\n",
            "5\n",
            "2\n",
            "-\n",
            "Input: I'm 17, too.\n",
            "Translation: je suis\n",
            "Continue? [Y/n]n\n"
          ],
          "name": "stdout"
        }
      ]
    }
  ]
}