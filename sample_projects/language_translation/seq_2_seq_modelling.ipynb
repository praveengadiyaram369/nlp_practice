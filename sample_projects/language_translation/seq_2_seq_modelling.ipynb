{
 "cells": [
  {
   "cell_type": "markdown",
   "id": "actual-turkey",
   "metadata": {},
   "source": [
    "https://keras.io/examples/nlp/lstm_seq2seq/"
   ]
  },
  {
   "cell_type": "code",
   "execution_count": 4,
   "id": "aggregate-capital",
   "metadata": {},
   "outputs": [],
   "source": [
    "import tensorflow as tf\n",
    "import numpy as np"
   ]
  },
  {
   "cell_type": "code",
   "execution_count": 5,
   "id": "developing-agent",
   "metadata": {},
   "outputs": [
    {
     "data": {
      "text/plain": [
       "'2.0.0'"
      ]
     },
     "execution_count": 5,
     "metadata": {},
     "output_type": "execute_result"
    }
   ],
   "source": [
    "tf.__version__"
   ]
  },
  {
   "cell_type": "code",
   "execution_count": 3,
   "id": "efficient-divide",
   "metadata": {},
   "outputs": [],
   "source": [
    "with open('fra-eng/fra.txt', 'r') as f:\n",
    "    text_data = f.read().split('\\n')\n",
    "    \n",
    "text_data = text_data[:1000]"
   ]
  },
  {
   "cell_type": "code",
   "execution_count": 4,
   "id": "stuffed-brighton",
   "metadata": {},
   "outputs": [],
   "source": [
    "english_sentences = []\n",
    "french_sentences = []\n",
    "english_characters = set()\n",
    "french_characters = set()\n",
    "\n",
    "for idx, val in enumerate(text_data):\n",
    "    eng_data, fre_data, _ = val.split('\\t')\n",
    "    english_sentences.append(eng_data)\n",
    "    for char in eng_data:\n",
    "        if char not in english_characters:\n",
    "            english_characters.add(char)\n",
    "    \n",
    "    fre_data = '\\t' + fre_data + '\\n'\n",
    "    french_sentences.append(fre_data)\n",
    "    for char in fre_data:\n",
    "        if char not in french_characters:\n",
    "            french_characters.add(char)"
   ]
  },
  {
   "cell_type": "code",
   "execution_count": 5,
   "id": "dedicated-projector",
   "metadata": {},
   "outputs": [],
   "source": [
    "encoder_char_len = len(english_characters)\n",
    "decoder_char_len = len(french_characters)\n",
    "\n",
    "encoder_chars = sorted(english_characters)\n",
    "decoder_chars = sorted(french_characters)\n",
    "\n",
    "max_encoder_sequence_len = max([len(seq) for seq in english_sentences])\n",
    "max_decoder_sequence_len = max([len(seq) for seq in french_sentences])"
   ]
  },
  {
   "cell_type": "code",
   "execution_count": 6,
   "id": "racial-literature",
   "metadata": {},
   "outputs": [],
   "source": [
    "input_encoder_data = np.zeros((len(english_sentences), max_encoder_sequence_len, encoder_char_len), dtype='float32')\n",
    "input_decoder_data = np.zeros((len(french_sentences), max_decoder_sequence_len, decoder_char_len), dtype='float32')\n",
    "target_decoder_data = np.zeros((len(french_sentences), max_decoder_sequence_len, decoder_char_len), dtype='float32')"
   ]
  },
  {
   "cell_type": "code",
   "execution_count": 7,
   "id": "circular-murder",
   "metadata": {},
   "outputs": [],
   "source": [
    "encoder_input_index = dict([(char, idx) for idx, char in enumerate(encoder_chars)])\n",
    "decoder_input_index = dict([(char, idx) for idx, char in enumerate(decoder_chars)])"
   ]
  },
  {
   "cell_type": "code",
   "execution_count": 8,
   "id": "moral-blast",
   "metadata": {},
   "outputs": [],
   "source": [
    "assert len(english_sentences) == len(french_sentences)"
   ]
  },
  {
   "cell_type": "code",
   "execution_count": 9,
   "id": "rural-junction",
   "metadata": {},
   "outputs": [],
   "source": [
    "sentence_break_space = ' '"
   ]
  },
  {
   "cell_type": "code",
   "execution_count": 10,
   "id": "breathing-borough",
   "metadata": {},
   "outputs": [],
   "source": [
    "for row, (encoder_data, decoder_data) in enumerate(zip(english_sentences, french_sentences)):\n",
    "    \n",
    "    for col, char in enumerate(encoder_data):\n",
    "        input_encoder_data[row, col, encoder_input_index[char]] = 1.0\n",
    "    input_encoder_data[row, col+1:, encoder_input_index[sentence_break_space]] = 0\n",
    "    \n",
    "    for col, char in enumerate(decoder_data):\n",
    "        input_decoder_data[row, col, decoder_input_index[char]] = 1.0\n",
    "        \n",
    "        if col > 0:\n",
    "            target_decoder_data[row, col-1, decoder_input_index[char]] = 1.0\n",
    "            \n",
    "    input_decoder_data[row, col+1:, decoder_input_index[sentence_break_space]] = 1.0\n",
    "    target_decoder_data[row, col:, decoder_input_index[sentence_break_space]] = 1.0"
   ]
  },
  {
   "cell_type": "code",
   "execution_count": 11,
   "id": "olympic-mailman",
   "metadata": {},
   "outputs": [
    {
     "name": "stdout",
     "output_type": "stream",
     "text": [
      "Model: \"model\"\n",
      "__________________________________________________________________________________________________\n",
      "Layer (type)                    Output Shape         Param #     Connected to                     \n",
      "==================================================================================================\n",
      "input_1 (InputLayer)            [(None, None, 58)]   0                                            \n",
      "__________________________________________________________________________________________________\n",
      "input_2 (InputLayer)            [(None, None, 74)]   0                                            \n",
      "__________________________________________________________________________________________________\n",
      "lstm (LSTM)                     [(None, 256), (None, 322560      input_1[0][0]                    \n",
      "__________________________________________________________________________________________________\n",
      "lstm_1 (LSTM)                   [(None, None, 256),  338944      input_2[0][0]                    \n",
      "                                                                 lstm[0][1]                       \n",
      "                                                                 lstm[0][2]                       \n",
      "__________________________________________________________________________________________________\n",
      "dense (Dense)                   (None, None, 74)     19018       lstm_1[0][0]                     \n",
      "==================================================================================================\n",
      "Total params: 680,522\n",
      "Trainable params: 680,522\n",
      "Non-trainable params: 0\n",
      "__________________________________________________________________________________________________\n"
     ]
    }
   ],
   "source": [
    "encoder_inputs = tf.keras.Input(shape=(None, encoder_char_len))\n",
    "encoder_lstm = tf.keras.layers.LSTM(256, return_state=True)\n",
    "encoder_outputs, state_h, state_c = encoder_lstm(encoder_inputs)\n",
    "encoder_states = [state_h, state_c]\n",
    "\n",
    "decoder_inputs = tf.keras.Input(shape=(None, decoder_char_len))\n",
    "decoder_lstm = tf.keras.layers.LSTM(256, return_state=True, return_sequences=True)\n",
    "decoder_outputs, _, _ = decoder_lstm(decoder_inputs, initial_state= encoder_states)\n",
    "\n",
    "decoder_dense = tf.keras.layers.Dense(decoder_char_len, activation='softmax')\n",
    "decoder_outputs = decoder_dense(decoder_outputs)\n",
    "\n",
    "model = tf.keras.Model([encoder_inputs, decoder_inputs], decoder_outputs)\n",
    "model.summary()"
   ]
  },
  {
   "cell_type": "code",
   "execution_count": null,
   "id": "afraid-underground",
   "metadata": {},
   "outputs": [
    {
     "name": "stdout",
     "output_type": "stream",
     "text": [
      "Train on 700 samples, validate on 300 samples\n",
      "Epoch 1/50\n"
     ]
    }
   ],
   "source": [
    "model.compile(optimizer='rmsprop', metrics=['accuracy'], loss='categorical_crossentropy')\n",
    "\n",
    "model.fit([input_encoder_data, input_decoder_data], target_decoder_data, batch_size=64, epochs=50, validation_split=0.3)\n",
    "\n",
    "model.save('seq2seq_lstm')"
   ]
  },
  {
   "cell_type": "code",
   "execution_count": null,
   "id": "massive-mortgage",
   "metadata": {},
   "outputs": [],
   "source": []
  }
 ],
 "metadata": {
  "kernelspec": {
   "display_name": "Python 3",
   "language": "python",
   "name": "python3"
  },
  "language_info": {
   "codemirror_mode": {
    "name": "ipython",
    "version": 3
   },
   "file_extension": ".py",
   "mimetype": "text/x-python",
   "name": "python",
   "nbconvert_exporter": "python",
   "pygments_lexer": "ipython3",
   "version": "3.7.6"
  }
 },
 "nbformat": 4,
 "nbformat_minor": 5
}
