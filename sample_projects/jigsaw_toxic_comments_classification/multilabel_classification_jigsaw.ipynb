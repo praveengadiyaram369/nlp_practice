{
 "cells": [
  {
   "cell_type": "code",
   "execution_count": 1,
   "id": "julian-certificate",
   "metadata": {
    "execution": {
     "iopub.execute_input": "2021-05-24T12:06:34.150380Z",
     "iopub.status.busy": "2021-05-24T12:06:34.149373Z",
     "iopub.status.idle": "2021-05-24T12:06:34.151372Z",
     "shell.execute_reply": "2021-05-24T12:06:34.150882Z",
     "shell.execute_reply.started": "2021-05-24T10:44:15.350750Z"
    },
    "papermill": {
     "duration": 0.034651,
     "end_time": "2021-05-24T12:06:34.151498",
     "exception": false,
     "start_time": "2021-05-24T12:06:34.116847",
     "status": "completed"
    },
    "tags": []
   },
   "outputs": [],
   "source": [
    "#no_preprocessing + conv1d -- 0.92716\n",
    "#preprocessing + conv1d -- 0.92029\n",
    "\n",
    "#no_preprocessing + LSTM -- 0.97592\n",
    "#preprocessing + LSTM -- \n",
    "\n",
    "#no_preprocessing + Bi-LSTM -- 0.97647\n",
    "#preprocessing + Bi-LSTM -- "
   ]
  },
  {
   "cell_type": "code",
   "execution_count": 2,
   "id": "upper-negotiation",
   "metadata": {
    "execution": {
     "iopub.execute_input": "2021-05-24T12:06:34.210507Z",
     "iopub.status.busy": "2021-05-24T12:06:34.209846Z",
     "iopub.status.idle": "2021-05-24T12:06:39.822175Z",
     "shell.execute_reply": "2021-05-24T12:06:39.821657Z",
     "shell.execute_reply.started": "2021-05-24T10:44:15.365272Z"
    },
    "papermill": {
     "duration": 5.645805,
     "end_time": "2021-05-24T12:06:39.822297",
     "exception": false,
     "start_time": "2021-05-24T12:06:34.176492",
     "status": "completed"
    },
    "tags": []
   },
   "outputs": [],
   "source": [
    "import os\n",
    "import sys\n",
    "import re\n",
    "import numpy as np\n",
    "import pandas as pd\n",
    "import matplotlib.pyplot as plt\n",
    "\n",
    "import nltk\n",
    "from nltk.stem import WordNetLemmatizer\n",
    "from nltk.corpus import stopwords\n",
    "\n",
    "import tensorflow as tf"
   ]
  },
  {
   "cell_type": "code",
   "execution_count": 3,
   "id": "lined-addiction",
   "metadata": {
    "execution": {
     "iopub.execute_input": "2021-05-24T12:06:39.877672Z",
     "iopub.status.busy": "2021-05-24T12:06:39.877040Z",
     "iopub.status.idle": "2021-05-24T12:06:39.891724Z",
     "shell.execute_reply": "2021-05-24T12:06:39.891218Z",
     "shell.execute_reply.started": "2021-05-24T10:44:21.881054Z"
    },
    "papermill": {
     "duration": 0.04387,
     "end_time": "2021-05-24T12:06:39.891835",
     "exception": false,
     "start_time": "2021-05-24T12:06:39.847965",
     "status": "completed"
    },
    "tags": []
   },
   "outputs": [],
   "source": [
    "lemmatizer = WordNetLemmatizer()\n",
    "stop_words = set(stopwords.words('english'))"
   ]
  },
  {
   "cell_type": "code",
   "execution_count": 4,
   "id": "complete-graduation",
   "metadata": {
    "execution": {
     "iopub.execute_input": "2021-05-24T12:06:39.946693Z",
     "iopub.status.busy": "2021-05-24T12:06:39.945996Z",
     "iopub.status.idle": "2021-05-24T12:06:39.948637Z",
     "shell.execute_reply": "2021-05-24T12:06:39.948098Z",
     "shell.execute_reply.started": "2021-05-24T10:44:21.902300Z"
    },
    "papermill": {
     "duration": 0.031956,
     "end_time": "2021-05-24T12:06:39.948742",
     "exception": false,
     "start_time": "2021-05-24T12:06:39.916786",
     "status": "completed"
    },
    "tags": []
   },
   "outputs": [],
   "source": [
    "def clean_text(text):\n",
    "    \n",
    "    data = re.sub('[^a-zA-Z]', ' ', text)\n",
    "    data = data.lower()\n",
    "    data = data.split()\n",
    "    data = [lemmatizer.lemmatize(word) for word in data if word not in stop_words]\n",
    "    \n",
    "    return ' '.join(data)"
   ]
  },
  {
   "cell_type": "code",
   "execution_count": 5,
   "id": "european-native",
   "metadata": {
    "execution": {
     "iopub.execute_input": "2021-05-24T12:06:40.002471Z",
     "iopub.status.busy": "2021-05-24T12:06:40.001750Z",
     "iopub.status.idle": "2021-05-24T12:06:40.003917Z",
     "shell.execute_reply": "2021-05-24T12:06:40.004343Z",
     "shell.execute_reply.started": "2021-05-24T10:44:21.912901Z"
    },
    "papermill": {
     "duration": 0.030745,
     "end_time": "2021-05-24T12:06:40.004477",
     "exception": false,
     "start_time": "2021-05-24T12:06:39.973732",
     "status": "completed"
    },
    "tags": []
   },
   "outputs": [],
   "source": [
    "max_seq_len = 100\n",
    "max_vocab_size = 20000\n",
    "embedding_dim = 100\n",
    "validation_split = 0.2\n",
    "batch_size = 64\n",
    "epochs = 50"
   ]
  },
  {
   "cell_type": "code",
   "execution_count": 6,
   "id": "bottom-cigarette",
   "metadata": {
    "execution": {
     "iopub.execute_input": "2021-05-24T12:06:40.060137Z",
     "iopub.status.busy": "2021-05-24T12:06:40.059559Z",
     "iopub.status.idle": "2021-05-24T12:06:54.839422Z",
     "shell.execute_reply": "2021-05-24T12:06:54.838896Z",
     "shell.execute_reply.started": "2021-05-24T10:44:21.922649Z"
    },
    "papermill": {
     "duration": 14.810112,
     "end_time": "2021-05-24T12:06:54.839563",
     "exception": false,
     "start_time": "2021-05-24T12:06:40.029451",
     "status": "completed"
    },
    "tags": []
   },
   "outputs": [],
   "source": [
    "word_embeddings = {}\n",
    "with open(os.path.join('../input/glove6b100dtxt/glove.6B.100d.txt')) as f:\n",
    "    for line in f:\n",
    "        values = line.split()\n",
    "        word_key = values[0]\n",
    "        word_vector = np.array(values[1:], dtype='float32')\n",
    "        \n",
    "        word_embeddings[word_key] = word_vector"
   ]
  },
  {
   "cell_type": "code",
   "execution_count": 7,
   "id": "comfortable-commonwealth",
   "metadata": {
    "execution": {
     "iopub.execute_input": "2021-05-24T12:06:54.895709Z",
     "iopub.status.busy": "2021-05-24T12:06:54.895010Z",
     "iopub.status.idle": "2021-05-24T12:06:54.899590Z",
     "shell.execute_reply": "2021-05-24T12:06:54.899166Z",
     "shell.execute_reply.started": "2021-05-24T10:44:37.341300Z"
    },
    "papermill": {
     "duration": 0.03471,
     "end_time": "2021-05-24T12:06:54.899695",
     "exception": false,
     "start_time": "2021-05-24T12:06:54.864985",
     "status": "completed"
    },
    "tags": []
   },
   "outputs": [
    {
     "data": {
      "text/plain": [
       "400000"
      ]
     },
     "execution_count": 7,
     "metadata": {},
     "output_type": "execute_result"
    }
   ],
   "source": [
    "len(word_embeddings)"
   ]
  },
  {
   "cell_type": "code",
   "execution_count": 8,
   "id": "possible-lighter",
   "metadata": {
    "execution": {
     "iopub.execute_input": "2021-05-24T12:06:54.954176Z",
     "iopub.status.busy": "2021-05-24T12:06:54.953681Z",
     "iopub.status.idle": "2021-05-24T12:06:56.260870Z",
     "shell.execute_reply": "2021-05-24T12:06:56.260452Z",
     "shell.execute_reply.started": "2021-05-24T10:44:37.350729Z"
    },
    "papermill": {
     "duration": 1.335591,
     "end_time": "2021-05-24T12:06:56.260999",
     "exception": false,
     "start_time": "2021-05-24T12:06:54.925408",
     "status": "completed"
    },
    "tags": []
   },
   "outputs": [
    {
     "data": {
      "text/html": [
       "<div>\n",
       "<style scoped>\n",
       "    .dataframe tbody tr th:only-of-type {\n",
       "        vertical-align: middle;\n",
       "    }\n",
       "\n",
       "    .dataframe tbody tr th {\n",
       "        vertical-align: top;\n",
       "    }\n",
       "\n",
       "    .dataframe thead th {\n",
       "        text-align: right;\n",
       "    }\n",
       "</style>\n",
       "<table border=\"1\" class=\"dataframe\">\n",
       "  <thead>\n",
       "    <tr style=\"text-align: right;\">\n",
       "      <th></th>\n",
       "      <th>id</th>\n",
       "      <th>comment_text</th>\n",
       "      <th>toxic</th>\n",
       "      <th>severe_toxic</th>\n",
       "      <th>obscene</th>\n",
       "      <th>threat</th>\n",
       "      <th>insult</th>\n",
       "      <th>identity_hate</th>\n",
       "    </tr>\n",
       "  </thead>\n",
       "  <tbody>\n",
       "    <tr>\n",
       "      <th>0</th>\n",
       "      <td>0000997932d777bf</td>\n",
       "      <td>Explanation\\nWhy the edits made under my usern...</td>\n",
       "      <td>0</td>\n",
       "      <td>0</td>\n",
       "      <td>0</td>\n",
       "      <td>0</td>\n",
       "      <td>0</td>\n",
       "      <td>0</td>\n",
       "    </tr>\n",
       "    <tr>\n",
       "      <th>1</th>\n",
       "      <td>000103f0d9cfb60f</td>\n",
       "      <td>D'aww! He matches this background colour I'm s...</td>\n",
       "      <td>0</td>\n",
       "      <td>0</td>\n",
       "      <td>0</td>\n",
       "      <td>0</td>\n",
       "      <td>0</td>\n",
       "      <td>0</td>\n",
       "    </tr>\n",
       "    <tr>\n",
       "      <th>2</th>\n",
       "      <td>000113f07ec002fd</td>\n",
       "      <td>Hey man, I'm really not trying to edit war. It...</td>\n",
       "      <td>0</td>\n",
       "      <td>0</td>\n",
       "      <td>0</td>\n",
       "      <td>0</td>\n",
       "      <td>0</td>\n",
       "      <td>0</td>\n",
       "    </tr>\n",
       "    <tr>\n",
       "      <th>3</th>\n",
       "      <td>0001b41b1c6bb37e</td>\n",
       "      <td>\"\\nMore\\nI can't make any real suggestions on ...</td>\n",
       "      <td>0</td>\n",
       "      <td>0</td>\n",
       "      <td>0</td>\n",
       "      <td>0</td>\n",
       "      <td>0</td>\n",
       "      <td>0</td>\n",
       "    </tr>\n",
       "    <tr>\n",
       "      <th>4</th>\n",
       "      <td>0001d958c54c6e35</td>\n",
       "      <td>You, sir, are my hero. Any chance you remember...</td>\n",
       "      <td>0</td>\n",
       "      <td>0</td>\n",
       "      <td>0</td>\n",
       "      <td>0</td>\n",
       "      <td>0</td>\n",
       "      <td>0</td>\n",
       "    </tr>\n",
       "    <tr>\n",
       "      <th>...</th>\n",
       "      <td>...</td>\n",
       "      <td>...</td>\n",
       "      <td>...</td>\n",
       "      <td>...</td>\n",
       "      <td>...</td>\n",
       "      <td>...</td>\n",
       "      <td>...</td>\n",
       "      <td>...</td>\n",
       "    </tr>\n",
       "    <tr>\n",
       "      <th>159566</th>\n",
       "      <td>ffe987279560d7ff</td>\n",
       "      <td>\":::::And for the second time of asking, when ...</td>\n",
       "      <td>0</td>\n",
       "      <td>0</td>\n",
       "      <td>0</td>\n",
       "      <td>0</td>\n",
       "      <td>0</td>\n",
       "      <td>0</td>\n",
       "    </tr>\n",
       "    <tr>\n",
       "      <th>159567</th>\n",
       "      <td>ffea4adeee384e90</td>\n",
       "      <td>You should be ashamed of yourself \\n\\nThat is ...</td>\n",
       "      <td>0</td>\n",
       "      <td>0</td>\n",
       "      <td>0</td>\n",
       "      <td>0</td>\n",
       "      <td>0</td>\n",
       "      <td>0</td>\n",
       "    </tr>\n",
       "    <tr>\n",
       "      <th>159568</th>\n",
       "      <td>ffee36eab5c267c9</td>\n",
       "      <td>Spitzer \\n\\nUmm, theres no actual article for ...</td>\n",
       "      <td>0</td>\n",
       "      <td>0</td>\n",
       "      <td>0</td>\n",
       "      <td>0</td>\n",
       "      <td>0</td>\n",
       "      <td>0</td>\n",
       "    </tr>\n",
       "    <tr>\n",
       "      <th>159569</th>\n",
       "      <td>fff125370e4aaaf3</td>\n",
       "      <td>And it looks like it was actually you who put ...</td>\n",
       "      <td>0</td>\n",
       "      <td>0</td>\n",
       "      <td>0</td>\n",
       "      <td>0</td>\n",
       "      <td>0</td>\n",
       "      <td>0</td>\n",
       "    </tr>\n",
       "    <tr>\n",
       "      <th>159570</th>\n",
       "      <td>fff46fc426af1f9a</td>\n",
       "      <td>\"\\nAnd ... I really don't think you understand...</td>\n",
       "      <td>0</td>\n",
       "      <td>0</td>\n",
       "      <td>0</td>\n",
       "      <td>0</td>\n",
       "      <td>0</td>\n",
       "      <td>0</td>\n",
       "    </tr>\n",
       "  </tbody>\n",
       "</table>\n",
       "<p>159571 rows × 8 columns</p>\n",
       "</div>"
      ],
      "text/plain": [
       "                      id                                       comment_text  \\\n",
       "0       0000997932d777bf  Explanation\\nWhy the edits made under my usern...   \n",
       "1       000103f0d9cfb60f  D'aww! He matches this background colour I'm s...   \n",
       "2       000113f07ec002fd  Hey man, I'm really not trying to edit war. It...   \n",
       "3       0001b41b1c6bb37e  \"\\nMore\\nI can't make any real suggestions on ...   \n",
       "4       0001d958c54c6e35  You, sir, are my hero. Any chance you remember...   \n",
       "...                  ...                                                ...   \n",
       "159566  ffe987279560d7ff  \":::::And for the second time of asking, when ...   \n",
       "159567  ffea4adeee384e90  You should be ashamed of yourself \\n\\nThat is ...   \n",
       "159568  ffee36eab5c267c9  Spitzer \\n\\nUmm, theres no actual article for ...   \n",
       "159569  fff125370e4aaaf3  And it looks like it was actually you who put ...   \n",
       "159570  fff46fc426af1f9a  \"\\nAnd ... I really don't think you understand...   \n",
       "\n",
       "        toxic  severe_toxic  obscene  threat  insult  identity_hate  \n",
       "0           0             0        0       0       0              0  \n",
       "1           0             0        0       0       0              0  \n",
       "2           0             0        0       0       0              0  \n",
       "3           0             0        0       0       0              0  \n",
       "4           0             0        0       0       0              0  \n",
       "...       ...           ...      ...     ...     ...            ...  \n",
       "159566      0             0        0       0       0              0  \n",
       "159567      0             0        0       0       0              0  \n",
       "159568      0             0        0       0       0              0  \n",
       "159569      0             0        0       0       0              0  \n",
       "159570      0             0        0       0       0              0  \n",
       "\n",
       "[159571 rows x 8 columns]"
      ]
     },
     "execution_count": 8,
     "metadata": {},
     "output_type": "execute_result"
    }
   ],
   "source": [
    "train_df = pd.read_csv('../input/jigsaw-toxic-comment-classification-challenge/train.csv.zip')\n",
    "train_df"
   ]
  },
  {
   "cell_type": "code",
   "execution_count": 9,
   "id": "variable-siemens",
   "metadata": {
    "execution": {
     "iopub.execute_input": "2021-05-24T12:06:56.335649Z",
     "iopub.status.busy": "2021-05-24T12:06:56.334898Z",
     "iopub.status.idle": "2021-05-24T12:07:32.644546Z",
     "shell.execute_reply": "2021-05-24T12:07:32.644059Z",
     "shell.execute_reply.started": "2021-05-24T10:44:39.082404Z"
    },
    "papermill": {
     "duration": 36.357475,
     "end_time": "2021-05-24T12:07:32.644679",
     "exception": false,
     "start_time": "2021-05-24T12:06:56.287204",
     "status": "completed"
    },
    "tags": []
   },
   "outputs": [],
   "source": [
    "documents = train_df.comment_text.fillna('DummyValue').values\n",
    "documents = [clean_text(doc) for doc in documents]\n",
    "documents = np.array(documents)\n",
    "targets = train_df[train_df.columns[2:]].values"
   ]
  },
  {
   "cell_type": "code",
   "execution_count": 10,
   "id": "immune-secretary",
   "metadata": {
    "execution": {
     "iopub.execute_input": "2021-05-24T12:07:32.744935Z",
     "iopub.status.busy": "2021-05-24T12:07:32.734728Z",
     "iopub.status.idle": "2021-05-24T12:07:34.575752Z",
     "shell.execute_reply": "2021-05-24T12:07:34.576286Z",
     "shell.execute_reply.started": "2021-05-24T10:44:39.140034Z"
    },
    "papermill": {
     "duration": 1.905829,
     "end_time": "2021-05-24T12:07:34.576520",
     "exception": false,
     "start_time": "2021-05-24T12:07:32.670691",
     "status": "completed"
    },
    "tags": []
   },
   "outputs": [
    {
     "name": "stdout",
     "output_type": "stream",
     "text": [
      "max document length: 5000\n",
      "min document length: 0\n",
      "Avg document length: 243.2702370731524\n"
     ]
    }
   ],
   "source": [
    "doc_len_list = [len(d) for d in documents]\n",
    "max_doc_len = max(doc_len_list)\n",
    "min_doc_len = min(doc_len_list)\n",
    "avg_doc_len = sum(doc_len_list)/len(documents)\n",
    "\n",
    "print(f'max document length: {max_doc_len}')\n",
    "print(f'min document length: {min_doc_len}')\n",
    "print(f'Avg document length: {avg_doc_len}')"
   ]
  },
  {
   "cell_type": "code",
   "execution_count": 11,
   "id": "spectacular-moldova",
   "metadata": {
    "execution": {
     "iopub.execute_input": "2021-05-24T12:07:34.636876Z",
     "iopub.status.busy": "2021-05-24T12:07:34.636031Z",
     "iopub.status.idle": "2021-05-24T12:07:35.596183Z",
     "shell.execute_reply": "2021-05-24T12:07:35.595770Z",
     "shell.execute_reply.started": "2021-05-24T10:44:39.215668Z"
    },
    "papermill": {
     "duration": 0.993014,
     "end_time": "2021-05-24T12:07:35.596301",
     "exception": false,
     "start_time": "2021-05-24T12:07:34.603287",
     "status": "completed"
    },
    "tags": []
   },
   "outputs": [
    {
     "data": {
      "text/plain": [
       "<function matplotlib.pyplot.show(close=None, block=None)>"
      ]
     },
     "execution_count": 11,
     "metadata": {},
     "output_type": "execute_result"
    },
    {
     "data": {
      "image/png": "[encoded data removed]",
      "text/plain": [
       "<Figure size 432x288 with 1 Axes>"
      ]
     },
     "metadata": {
      "needs_background": "light"
     },
     "output_type": "display_data"
    }
   ],
   "source": [
    "plt.hist(doc_len_list)\n",
    "plt.show"
   ]
  },
  {
   "cell_type": "code",
   "execution_count": 12,
   "id": "hired-governor",
   "metadata": {
    "execution": {
     "iopub.execute_input": "2021-05-24T12:07:35.699219Z",
     "iopub.status.busy": "2021-05-24T12:07:35.689049Z",
     "iopub.status.idle": "2021-05-24T12:07:49.579477Z",
     "shell.execute_reply": "2021-05-24T12:07:49.578543Z",
     "shell.execute_reply.started": "2021-05-24T10:44:40.497368Z"
    },
    "papermill": {
     "duration": 13.956333,
     "end_time": "2021-05-24T12:07:49.579623",
     "exception": false,
     "start_time": "2021-05-24T12:07:35.623290",
     "status": "completed"
    },
    "tags": []
   },
   "outputs": [],
   "source": [
    "tokenizer = tf.keras.preprocessing.text.Tokenizer(num_words=max_vocab_size)\n",
    "tokenizer.fit_on_texts(documents)\n",
    "sequences = tokenizer.texts_to_sequences(documents)"
   ]
  },
  {
   "cell_type": "code",
   "execution_count": 13,
   "id": "extraordinary-disabled",
   "metadata": {
    "execution": {
     "iopub.execute_input": "2021-05-24T12:07:49.638460Z",
     "iopub.status.busy": "2021-05-24T12:07:49.637654Z",
     "iopub.status.idle": "2021-05-24T12:07:49.640766Z",
     "shell.execute_reply": "2021-05-24T12:07:49.641141Z",
     "shell.execute_reply.started": "2021-05-24T10:44:59.441225Z"
    },
    "papermill": {
     "duration": 0.033983,
     "end_time": "2021-05-24T12:07:49.641266",
     "exception": false,
     "start_time": "2021-05-24T12:07:49.607283",
     "status": "completed"
    },
    "tags": []
   },
   "outputs": [
    {
     "data": {
      "text/plain": [
       "158697"
      ]
     },
     "execution_count": 13,
     "metadata": {},
     "output_type": "execute_result"
    }
   ],
   "source": [
    "word_index = tokenizer.word_index\n",
    "len(word_index)"
   ]
  },
  {
   "cell_type": "code",
   "execution_count": 14,
   "id": "associate-dimension",
   "metadata": {
    "execution": {
     "iopub.execute_input": "2021-05-24T12:07:49.712542Z",
     "iopub.status.busy": "2021-05-24T12:07:49.707341Z",
     "iopub.status.idle": "2021-05-24T12:07:51.168062Z",
     "shell.execute_reply": "2021-05-24T12:07:51.168491Z",
     "shell.execute_reply.started": "2021-05-24T10:44:59.452106Z"
    },
    "papermill": {
     "duration": 1.500505,
     "end_time": "2021-05-24T12:07:51.168642",
     "exception": false,
     "start_time": "2021-05-24T12:07:49.668137",
     "status": "completed"
    },
    "tags": []
   },
   "outputs": [
    {
     "data": {
      "text/plain": [
       "(159571, 100)"
      ]
     },
     "execution_count": 14,
     "metadata": {},
     "output_type": "execute_result"
    }
   ],
   "source": [
    "seq_data = tf.keras.preprocessing.sequence.pad_sequences(sequences, maxlen=max_seq_len)\n",
    "seq_data.shape"
   ]
  },
  {
   "cell_type": "code",
   "execution_count": 15,
   "id": "backed-diabetes",
   "metadata": {
    "execution": {
     "iopub.execute_input": "2021-05-24T12:07:51.229379Z",
     "iopub.status.busy": "2021-05-24T12:07:51.228526Z",
     "iopub.status.idle": "2021-05-24T12:07:51.233062Z",
     "shell.execute_reply": "2021-05-24T12:07:51.232564Z",
     "shell.execute_reply.started": "2021-05-24T10:45:01.549407Z"
    },
    "papermill": {
     "duration": 0.037269,
     "end_time": "2021-05-24T12:07:51.233373",
     "exception": false,
     "start_time": "2021-05-24T12:07:51.196104",
     "status": "completed"
    },
    "tags": []
   },
   "outputs": [
    {
     "data": {
      "text/plain": [
       "array([[    0,     0,     0, ...,     2,    69,  2934],\n",
       "       [    0,     0,     0, ...,     4,   813,   101],\n",
       "       [    0,     0,     0, ...,  2077,   600,   345],\n",
       "       ...,\n",
       "       [    0,     0,     0, ...,  2436, 11348,  3538],\n",
       "       [    0,     0,     0, ...,   227,    65,    48],\n",
       "       [    0,     0,     0, ...,   252,  1401,  1661]], dtype=int32)"
      ]
     },
     "execution_count": 15,
     "metadata": {},
     "output_type": "execute_result"
    }
   ],
   "source": [
    "seq_data"
   ]
  },
  {
   "cell_type": "code",
   "execution_count": 16,
   "id": "exposed-mobility",
   "metadata": {
    "execution": {
     "iopub.execute_input": "2021-05-24T12:07:51.293633Z",
     "iopub.status.busy": "2021-05-24T12:07:51.292940Z",
     "iopub.status.idle": "2021-05-24T12:07:51.295879Z",
     "shell.execute_reply": "2021-05-24T12:07:51.296236Z",
     "shell.execute_reply.started": "2021-05-24T10:45:01.565024Z"
    },
    "papermill": {
     "duration": 0.034827,
     "end_time": "2021-05-24T12:07:51.296370",
     "exception": false,
     "start_time": "2021-05-24T12:07:51.261543",
     "status": "completed"
    },
    "tags": []
   },
   "outputs": [
    {
     "data": {
      "text/plain": [
       "20000"
      ]
     },
     "execution_count": 16,
     "metadata": {},
     "output_type": "execute_result"
    }
   ],
   "source": [
    "num_words = min(max_vocab_size, len(word_index)+1)\n",
    "num_words"
   ]
  },
  {
   "cell_type": "code",
   "execution_count": 17,
   "id": "great-pilot",
   "metadata": {
    "execution": {
     "iopub.execute_input": "2021-05-24T12:07:51.356250Z",
     "iopub.status.busy": "2021-05-24T12:07:51.355546Z",
     "iopub.status.idle": "2021-05-24T12:07:51.424862Z",
     "shell.execute_reply": "2021-05-24T12:07:51.424433Z",
     "shell.execute_reply.started": "2021-05-24T10:45:01.574925Z"
    },
    "papermill": {
     "duration": 0.100993,
     "end_time": "2021-05-24T12:07:51.424983",
     "exception": false,
     "start_time": "2021-05-24T12:07:51.323990",
     "status": "completed"
    },
    "tags": []
   },
   "outputs": [],
   "source": [
    "embedding_matrix = np.zeros((num_words, embedding_dim))\n",
    "for word, idx in word_index.items():\n",
    "    if idx < max_vocab_size:\n",
    "        embedding_vector = word_embeddings.get(word)\n",
    "        \n",
    "        if embedding_vector is not None:\n",
    "            embedding_matrix[idx] = embedding_vector"
   ]
  },
  {
   "cell_type": "code",
   "execution_count": 18,
   "id": "tracked-copyright",
   "metadata": {
    "execution": {
     "iopub.execute_input": "2021-05-24T12:07:51.487345Z",
     "iopub.status.busy": "2021-05-24T12:07:51.486598Z",
     "iopub.status.idle": "2021-05-24T12:07:51.490037Z",
     "shell.execute_reply": "2021-05-24T12:07:51.489616Z",
     "shell.execute_reply.started": "2021-05-24T10:45:01.662579Z"
    },
    "papermill": {
     "duration": 0.035659,
     "end_time": "2021-05-24T12:07:51.490136",
     "exception": false,
     "start_time": "2021-05-24T12:07:51.454477",
     "status": "completed"
    },
    "tags": []
   },
   "outputs": [
    {
     "data": {
      "text/plain": [
       "array([[ 0.        ,  0.        ,  0.        , ...,  0.        ,\n",
       "         0.        ,  0.        ],\n",
       "       [-0.55660999, -0.11523   ,  0.32071999, ..., -1.15799999,\n",
       "         0.58295   ,  0.34836999],\n",
       "       [-0.92940003,  0.10925   , -0.021222  , ..., -0.92944002,\n",
       "         0.63875002,  0.38077   ],\n",
       "       ...,\n",
       "       [ 0.37322   ,  0.16511001,  0.17619   , ..., -0.12885   ,\n",
       "        -0.086522  ,  0.27818999],\n",
       "       [ 0.        ,  0.        ,  0.        , ...,  0.        ,\n",
       "         0.        ,  0.        ],\n",
       "       [-0.17038   , -0.49039   ,  0.12893   , ..., -0.1507    ,\n",
       "        -0.22002999,  0.61094999]])"
      ]
     },
     "execution_count": 18,
     "metadata": {},
     "output_type": "execute_result"
    }
   ],
   "source": [
    "embedding_matrix"
   ]
  },
  {
   "cell_type": "code",
   "execution_count": 19,
   "id": "painted-broad",
   "metadata": {
    "execution": {
     "iopub.execute_input": "2021-05-24T12:07:51.551505Z",
     "iopub.status.busy": "2021-05-24T12:07:51.550840Z",
     "iopub.status.idle": "2021-05-24T12:07:51.554147Z",
     "shell.execute_reply": "2021-05-24T12:07:51.554699Z",
     "shell.execute_reply.started": "2021-05-24T10:45:01.672873Z"
    },
    "papermill": {
     "duration": 0.036215,
     "end_time": "2021-05-24T12:07:51.554874",
     "exception": false,
     "start_time": "2021-05-24T12:07:51.518659",
     "status": "completed"
    },
    "tags": []
   },
   "outputs": [
    {
     "name": "stdout",
     "output_type": "stream",
     "text": [
      "shape of the seq_data: (159571, 100)\n",
      "shape of the targets: (159571, 6)\n",
      "shape of the embedding_matrix: (20000, 100)\n"
     ]
    }
   ],
   "source": [
    "print(f'shape of the seq_data: {seq_data.shape}')\n",
    "print(f'shape of the targets: {targets.shape}')\n",
    "print(f'shape of the embedding_matrix: {embedding_matrix.shape}')"
   ]
  },
  {
   "cell_type": "code",
   "execution_count": 20,
   "id": "genetic-course",
   "metadata": {
    "execution": {
     "iopub.execute_input": "2021-05-24T12:07:51.616788Z",
     "iopub.status.busy": "2021-05-24T12:07:51.616251Z",
     "iopub.status.idle": "2021-05-24T12:07:51.629587Z",
     "shell.execute_reply": "2021-05-24T12:07:51.629141Z",
     "shell.execute_reply.started": "2021-05-24T10:45:01.682171Z"
    },
    "papermill": {
     "duration": 0.045415,
     "end_time": "2021-05-24T12:07:51.629698",
     "exception": false,
     "start_time": "2021-05-24T12:07:51.584283",
     "status": "completed"
    },
    "tags": []
   },
   "outputs": [],
   "source": [
    "embedding_layer = tf.keras.layers.Embedding(input_dim=num_words, output_dim=embedding_dim, weights=[embedding_matrix], input_length=max_seq_len, trainable=False)"
   ]
  },
  {
   "cell_type": "code",
   "execution_count": 21,
   "id": "level-asian",
   "metadata": {
    "execution": {
     "iopub.execute_input": "2021-05-24T12:07:51.695516Z",
     "iopub.status.busy": "2021-05-24T12:07:51.694869Z",
     "iopub.status.idle": "2021-05-24T12:07:53.502973Z",
     "shell.execute_reply": "2021-05-24T12:07:53.502276Z",
     "shell.execute_reply.started": "2021-05-24T11:56:03.720420Z"
    },
    "papermill": {
     "duration": 1.845103,
     "end_time": "2021-05-24T12:07:53.503107",
     "exception": false,
     "start_time": "2021-05-24T12:07:51.658004",
     "status": "completed"
    },
    "tags": []
   },
   "outputs": [],
   "source": [
    "input_ = tf.keras.Input(shape=(max_seq_len,))\n",
    "x = embedding_layer(input_)"
   ]
  },
  {
   "cell_type": "code",
   "execution_count": 22,
   "id": "heated-summit",
   "metadata": {
    "execution": {
     "iopub.execute_input": "2021-05-24T12:07:53.565095Z",
     "iopub.status.busy": "2021-05-24T12:07:53.564582Z",
     "iopub.status.idle": "2021-05-24T12:07:53.570715Z",
     "shell.execute_reply": "2021-05-24T12:07:53.570259Z",
     "shell.execute_reply.started": "2021-05-24T10:45:03.552943Z"
    },
    "papermill": {
     "duration": 0.038999,
     "end_time": "2021-05-24T12:07:53.570829",
     "exception": false,
     "start_time": "2021-05-24T12:07:53.531830",
     "status": "completed"
    },
    "tags": []
   },
   "outputs": [
    {
     "data": {
      "text/plain": [
       "\"x = tf.keras.layers.Conv1D(128, 3, activation='relu')(x)\\nx = tf.keras.layers.MaxPooling1D(3)(x)\\nx = tf.keras.layers.Conv1D(128, 3, activation='relu')(x)\\nx = tf.keras.layers.MaxPooling1D(3)(x)\\nx = tf.keras.layers.Conv1D(128, 3, activation='relu')(x)\""
      ]
     },
     "execution_count": 22,
     "metadata": {},
     "output_type": "execute_result"
    }
   ],
   "source": [
    "##### Conv1D ##########\n",
    "'''x = tf.keras.layers.Conv1D(128, 3, activation='relu')(x)\n",
    "x = tf.keras.layers.MaxPooling1D(3)(x)\n",
    "x = tf.keras.layers.Conv1D(128, 3, activation='relu')(x)\n",
    "x = tf.keras.layers.MaxPooling1D(3)(x)\n",
    "x = tf.keras.layers.Conv1D(128, 3, activation='relu')(x)'''"
   ]
  },
  {
   "cell_type": "code",
   "execution_count": 23,
   "id": "occupational-mechanics",
   "metadata": {
    "execution": {
     "iopub.execute_input": "2021-05-24T12:07:53.631563Z",
     "iopub.status.busy": "2021-05-24T12:07:53.631045Z",
     "iopub.status.idle": "2021-05-24T12:07:53.634484Z",
     "shell.execute_reply": "2021-05-24T12:07:53.634846Z",
     "shell.execute_reply.started": "2021-05-24T10:45:03.562923Z"
    },
    "papermill": {
     "duration": 0.034998,
     "end_time": "2021-05-24T12:07:53.634967",
     "exception": false,
     "start_time": "2021-05-24T12:07:53.599969",
     "status": "completed"
    },
    "tags": []
   },
   "outputs": [],
   "source": [
    "##### LSTM ##########\n",
    "#x = tf.keras.layers.LSTM(50, return_sequences=True)(x)"
   ]
  },
  {
   "cell_type": "code",
   "execution_count": 24,
   "id": "gorgeous-watson",
   "metadata": {
    "execution": {
     "iopub.execute_input": "2021-05-24T12:07:53.712849Z",
     "iopub.status.busy": "2021-05-24T12:07:53.705618Z",
     "iopub.status.idle": "2021-05-24T12:07:54.586018Z",
     "shell.execute_reply": "2021-05-24T12:07:54.586471Z",
     "shell.execute_reply.started": "2021-05-24T11:56:11.543544Z"
    },
    "papermill": {
     "duration": 0.923107,
     "end_time": "2021-05-24T12:07:54.586638",
     "exception": false,
     "start_time": "2021-05-24T12:07:53.663531",
     "status": "completed"
    },
    "tags": []
   },
   "outputs": [],
   "source": [
    "##### Bi-LSTM ##########\n",
    "x = tf.keras.layers.Bidirectional(tf.keras.layers.LSTM(50, return_sequences=True))(x)"
   ]
  },
  {
   "cell_type": "code",
   "execution_count": 25,
   "id": "higher-bacteria",
   "metadata": {
    "execution": {
     "iopub.execute_input": "2021-05-24T12:07:54.654059Z",
     "iopub.status.busy": "2021-05-24T12:07:54.653415Z",
     "iopub.status.idle": "2021-05-24T12:07:54.681245Z",
     "shell.execute_reply": "2021-05-24T12:07:54.680856Z",
     "shell.execute_reply.started": "2021-05-24T11:56:14.923977Z"
    },
    "papermill": {
     "duration": 0.064416,
     "end_time": "2021-05-24T12:07:54.681365",
     "exception": false,
     "start_time": "2021-05-24T12:07:54.616949",
     "status": "completed"
    },
    "tags": []
   },
   "outputs": [],
   "source": [
    "x = tf.keras.layers.GlobalMaxPooling1D()(x)\n",
    "x = tf.keras.layers.Dense(128, activation='relu')(x)\n",
    "output_ = tf.keras.layers.Dense(6, activation='sigmoid')(x)\n",
    "model = tf.keras.Model(inputs=input_, outputs=output_)\n",
    "model.compile(loss='binary_crossentropy', optimizer='adam', metrics=['accuracy'])"
   ]
  },
  {
   "cell_type": "code",
   "execution_count": 26,
   "id": "composed-malaysia",
   "metadata": {
    "execution": {
     "iopub.execute_input": "2021-05-24T12:07:54.743163Z",
     "iopub.status.busy": "2021-05-24T12:07:54.742002Z",
     "iopub.status.idle": "2021-05-24T12:07:54.744276Z",
     "shell.execute_reply": "2021-05-24T12:07:54.744703Z",
     "shell.execute_reply.started": "2021-05-24T11:56:17.273721Z"
    },
    "papermill": {
     "duration": 0.034942,
     "end_time": "2021-05-24T12:07:54.744817",
     "exception": false,
     "start_time": "2021-05-24T12:07:54.709875",
     "status": "completed"
    },
    "tags": []
   },
   "outputs": [],
   "source": [
    "early_stopping = tf.keras.callbacks.EarlyStopping(\n",
    "    min_delta=0.001, \n",
    "    patience=5, \n",
    "    restore_best_weights=True,\n",
    ")"
   ]
  },
  {
   "cell_type": "code",
   "execution_count": 27,
   "id": "compatible-evanescence",
   "metadata": {
    "execution": {
     "iopub.execute_input": "2021-05-24T12:07:54.805746Z",
     "iopub.status.busy": "2021-05-24T12:07:54.805204Z",
     "iopub.status.idle": "2021-05-24T12:12:07.144278Z",
     "shell.execute_reply": "2021-05-24T12:12:07.144954Z",
     "shell.execute_reply.started": "2021-05-24T11:56:24.862692Z"
    },
    "papermill": {
     "duration": 252.37184,
     "end_time": "2021-05-24T12:12:07.145163",
     "exception": false,
     "start_time": "2021-05-24T12:07:54.773323",
     "status": "completed"
    },
    "tags": []
   },
   "outputs": [
    {
     "name": "stdout",
     "output_type": "stream",
     "text": [
      "Epoch 1/50\n",
      "1995/1995 [==============================] - 33s 14ms/step - loss: 0.0972 - accuracy: 0.9794 - val_loss: 0.0535 - val_accuracy: 0.9756\n",
      "Epoch 2/50\n",
      "1995/1995 [==============================] - 27s 14ms/step - loss: 0.0507 - accuracy: 0.9687 - val_loss: 0.0508 - val_accuracy: 0.9927\n",
      "Epoch 3/50\n",
      "1995/1995 [==============================] - 27s 14ms/step - loss: 0.0463 - accuracy: 0.9784 - val_loss: 0.0486 - val_accuracy: 0.9648\n",
      "Epoch 4/50\n",
      "1995/1995 [==============================] - 28s 14ms/step - loss: 0.0423 - accuracy: 0.9817 - val_loss: 0.0474 - val_accuracy: 0.9914\n",
      "Epoch 5/50\n",
      "1995/1995 [==============================] - 27s 14ms/step - loss: 0.0400 - accuracy: 0.9791 - val_loss: 0.0478 - val_accuracy: 0.9850\n",
      "Epoch 6/50\n",
      "1995/1995 [==============================] - 28s 14ms/step - loss: 0.0380 - accuracy: 0.9793 - val_loss: 0.0479 - val_accuracy: 0.9875\n",
      "Epoch 7/50\n",
      "1995/1995 [==============================] - 27s 14ms/step - loss: 0.0348 - accuracy: 0.9845 - val_loss: 0.0536 - val_accuracy: 0.9883\n",
      "Epoch 8/50\n",
      "1995/1995 [==============================] - 28s 14ms/step - loss: 0.0335 - accuracy: 0.9856 - val_loss: 0.0504 - val_accuracy: 0.9705\n",
      "Epoch 9/50\n",
      "1995/1995 [==============================] - 27s 14ms/step - loss: 0.0312 - accuracy: 0.9832 - val_loss: 0.0535 - val_accuracy: 0.9879\n"
     ]
    }
   ],
   "source": [
    "history = model.fit(seq_data, targets, batch_size=batch_size, epochs= epochs, validation_split=validation_split, callbacks=[early_stopping])"
   ]
  },
  {
   "cell_type": "code",
   "execution_count": 28,
   "id": "linear-format",
   "metadata": {
    "execution": {
     "iopub.execute_input": "2021-05-24T12:12:09.259622Z",
     "iopub.status.busy": "2021-05-24T12:12:09.258788Z",
     "iopub.status.idle": "2021-05-24T12:12:09.374471Z",
     "shell.execute_reply": "2021-05-24T12:12:09.374016Z",
     "shell.execute_reply.started": "2021-05-24T10:48:08.574674Z"
    },
    "papermill": {
     "duration": 1.093054,
     "end_time": "2021-05-24T12:12:09.374586",
     "exception": false,
     "start_time": "2021-05-24T12:12:08.281532",
     "status": "completed"
    },
    "tags": []
   },
   "outputs": [
    {
     "data": {
      "image/png": "[encoded data removed]",
      "text/plain": [
       "<Figure size 432x288 with 1 Axes>"
      ]
     },
     "metadata": {
      "needs_background": "light"
     },
     "output_type": "display_data"
    }
   ],
   "source": [
    "plt.plot(history.history['loss'])\n",
    "plt.plot(history.history['val_loss'])\n",
    "plt.show()"
   ]
  },
  {
   "cell_type": "code",
   "execution_count": 29,
   "id": "lovely-female",
   "metadata": {
    "execution": {
     "iopub.execute_input": "2021-05-24T12:12:11.360709Z",
     "iopub.status.busy": "2021-05-24T12:12:11.337080Z",
     "iopub.status.idle": "2021-05-24T12:12:11.437369Z",
     "shell.execute_reply": "2021-05-24T12:12:11.436889Z",
     "shell.execute_reply.started": "2021-05-24T10:48:08.706886Z"
    },
    "papermill": {
     "duration": 1.094756,
     "end_time": "2021-05-24T12:12:11.437506",
     "exception": false,
     "start_time": "2021-05-24T12:12:10.342750",
     "status": "completed"
    },
    "tags": []
   },
   "outputs": [
    {
     "data": {
      "image/png": "[encoded data removed]",
      "text/plain": [
       "<Figure size 432x288 with 1 Axes>"
      ]
     },
     "metadata": {
      "needs_background": "light"
     },
     "output_type": "display_data"
    }
   ],
   "source": [
    "plt.plot(history.history['accuracy'])\n",
    "plt.plot(history.history['val_accuracy'])\n",
    "plt.show()"
   ]
  },
  {
   "cell_type": "code",
   "execution_count": 30,
   "id": "together-winner",
   "metadata": {
    "execution": {
     "iopub.execute_input": "2021-05-24T12:12:13.413210Z",
     "iopub.status.busy": "2021-05-24T12:12:13.412658Z",
     "iopub.status.idle": "2021-05-24T12:12:46.826821Z",
     "shell.execute_reply": "2021-05-24T12:12:46.827245Z",
     "shell.execute_reply.started": "2021-05-24T10:48:08.845487Z"
    },
    "papermill": {
     "duration": 34.388507,
     "end_time": "2021-05-24T12:12:46.827431",
     "exception": false,
     "start_time": "2021-05-24T12:12:12.438924",
     "status": "completed"
    },
    "tags": []
   },
   "outputs": [
    {
     "data": {
      "text/html": [
       "<div>\n",
       "<style scoped>\n",
       "    .dataframe tbody tr th:only-of-type {\n",
       "        vertical-align: middle;\n",
       "    }\n",
       "\n",
       "    .dataframe tbody tr th {\n",
       "        vertical-align: top;\n",
       "    }\n",
       "\n",
       "    .dataframe thead th {\n",
       "        text-align: right;\n",
       "    }\n",
       "</style>\n",
       "<table border=\"1\" class=\"dataframe\">\n",
       "  <thead>\n",
       "    <tr style=\"text-align: right;\">\n",
       "      <th></th>\n",
       "      <th>id</th>\n",
       "      <th>comment_text</th>\n",
       "    </tr>\n",
       "  </thead>\n",
       "  <tbody>\n",
       "    <tr>\n",
       "      <th>0</th>\n",
       "      <td>00001cee341fdb12</td>\n",
       "      <td>Yo bitch Ja Rule is more succesful then you'll...</td>\n",
       "    </tr>\n",
       "    <tr>\n",
       "      <th>1</th>\n",
       "      <td>0000247867823ef7</td>\n",
       "      <td>== From RfC == \\n\\n The title is fine as it is...</td>\n",
       "    </tr>\n",
       "    <tr>\n",
       "      <th>2</th>\n",
       "      <td>00013b17ad220c46</td>\n",
       "      <td>\" \\n\\n == Sources == \\n\\n * Zawe Ashton on Lap...</td>\n",
       "    </tr>\n",
       "    <tr>\n",
       "      <th>3</th>\n",
       "      <td>00017563c3f7919a</td>\n",
       "      <td>:If you have a look back at the source, the in...</td>\n",
       "    </tr>\n",
       "    <tr>\n",
       "      <th>4</th>\n",
       "      <td>00017695ad8997eb</td>\n",
       "      <td>I don't anonymously edit articles at all.</td>\n",
       "    </tr>\n",
       "    <tr>\n",
       "      <th>...</th>\n",
       "      <td>...</td>\n",
       "      <td>...</td>\n",
       "    </tr>\n",
       "    <tr>\n",
       "      <th>153159</th>\n",
       "      <td>fffcd0960ee309b5</td>\n",
       "      <td>. \\n i totally agree, this stuff is nothing bu...</td>\n",
       "    </tr>\n",
       "    <tr>\n",
       "      <th>153160</th>\n",
       "      <td>fffd7a9a6eb32c16</td>\n",
       "      <td>== Throw from out field to home plate. == \\n\\n...</td>\n",
       "    </tr>\n",
       "    <tr>\n",
       "      <th>153161</th>\n",
       "      <td>fffda9e8d6fafa9e</td>\n",
       "      <td>\" \\n\\n == Okinotorishima categories == \\n\\n I ...</td>\n",
       "    </tr>\n",
       "    <tr>\n",
       "      <th>153162</th>\n",
       "      <td>fffe8f1340a79fc2</td>\n",
       "      <td>\" \\n\\n == \"\"One of the founding nations of the...</td>\n",
       "    </tr>\n",
       "    <tr>\n",
       "      <th>153163</th>\n",
       "      <td>ffffce3fb183ee80</td>\n",
       "      <td>\" \\n :::Stop already. Your bullshit is not wel...</td>\n",
       "    </tr>\n",
       "  </tbody>\n",
       "</table>\n",
       "<p>153164 rows × 2 columns</p>\n",
       "</div>"
      ],
      "text/plain": [
       "                      id                                       comment_text\n",
       "0       00001cee341fdb12  Yo bitch Ja Rule is more succesful then you'll...\n",
       "1       0000247867823ef7  == From RfC == \\n\\n The title is fine as it is...\n",
       "2       00013b17ad220c46  \" \\n\\n == Sources == \\n\\n * Zawe Ashton on Lap...\n",
       "3       00017563c3f7919a  :If you have a look back at the source, the in...\n",
       "4       00017695ad8997eb          I don't anonymously edit articles at all.\n",
       "...                  ...                                                ...\n",
       "153159  fffcd0960ee309b5  . \\n i totally agree, this stuff is nothing bu...\n",
       "153160  fffd7a9a6eb32c16  == Throw from out field to home plate. == \\n\\n...\n",
       "153161  fffda9e8d6fafa9e  \" \\n\\n == Okinotorishima categories == \\n\\n I ...\n",
       "153162  fffe8f1340a79fc2  \" \\n\\n == \"\"One of the founding nations of the...\n",
       "153163  ffffce3fb183ee80  \" \\n :::Stop already. Your bullshit is not wel...\n",
       "\n",
       "[153164 rows x 2 columns]"
      ]
     },
     "execution_count": 30,
     "metadata": {},
     "output_type": "execute_result"
    }
   ],
   "source": [
    "test_df = pd.read_csv('../input/jigsaw-toxic-comment-classification-challenge/test.csv.zip')\n",
    "test_data = test_df.comment_text.fillna('DummyValue').values\n",
    "test_data = [clean_text(doc) for doc in test_data]\n",
    "test_data = np.array(test_data)\n",
    "test_ids = test_df.id.values\n",
    "test_df"
   ]
  },
  {
   "cell_type": "code",
   "execution_count": 31,
   "id": "moved-sustainability",
   "metadata": {
    "execution": {
     "iopub.execute_input": "2021-05-24T12:12:48.761807Z",
     "iopub.status.busy": "2021-05-24T12:12:48.761241Z",
     "iopub.status.idle": "2021-05-24T12:12:48.975701Z",
     "shell.execute_reply": "2021-05-24T12:12:48.975224Z",
     "shell.execute_reply.started": "2021-05-24T10:48:10.842886Z"
    },
    "papermill": {
     "duration": 1.183482,
     "end_time": "2021-05-24T12:12:48.975823",
     "exception": false,
     "start_time": "2021-05-24T12:12:47.792341",
     "status": "completed"
    },
    "tags": []
   },
   "outputs": [
    {
     "data": {
      "text/html": [
       "<div>\n",
       "<style scoped>\n",
       "    .dataframe tbody tr th:only-of-type {\n",
       "        vertical-align: middle;\n",
       "    }\n",
       "\n",
       "    .dataframe tbody tr th {\n",
       "        vertical-align: top;\n",
       "    }\n",
       "\n",
       "    .dataframe thead th {\n",
       "        text-align: right;\n",
       "    }\n",
       "</style>\n",
       "<table border=\"1\" class=\"dataframe\">\n",
       "  <thead>\n",
       "    <tr style=\"text-align: right;\">\n",
       "      <th></th>\n",
       "      <th>id</th>\n",
       "      <th>toxic</th>\n",
       "      <th>severe_toxic</th>\n",
       "      <th>obscene</th>\n",
       "      <th>threat</th>\n",
       "      <th>insult</th>\n",
       "      <th>identity_hate</th>\n",
       "    </tr>\n",
       "  </thead>\n",
       "  <tbody>\n",
       "    <tr>\n",
       "      <th>0</th>\n",
       "      <td>00001cee341fdb12</td>\n",
       "      <td>-1</td>\n",
       "      <td>-1</td>\n",
       "      <td>-1</td>\n",
       "      <td>-1</td>\n",
       "      <td>-1</td>\n",
       "      <td>-1</td>\n",
       "    </tr>\n",
       "    <tr>\n",
       "      <th>1</th>\n",
       "      <td>0000247867823ef7</td>\n",
       "      <td>-1</td>\n",
       "      <td>-1</td>\n",
       "      <td>-1</td>\n",
       "      <td>-1</td>\n",
       "      <td>-1</td>\n",
       "      <td>-1</td>\n",
       "    </tr>\n",
       "    <tr>\n",
       "      <th>2</th>\n",
       "      <td>00013b17ad220c46</td>\n",
       "      <td>-1</td>\n",
       "      <td>-1</td>\n",
       "      <td>-1</td>\n",
       "      <td>-1</td>\n",
       "      <td>-1</td>\n",
       "      <td>-1</td>\n",
       "    </tr>\n",
       "    <tr>\n",
       "      <th>3</th>\n",
       "      <td>00017563c3f7919a</td>\n",
       "      <td>-1</td>\n",
       "      <td>-1</td>\n",
       "      <td>-1</td>\n",
       "      <td>-1</td>\n",
       "      <td>-1</td>\n",
       "      <td>-1</td>\n",
       "    </tr>\n",
       "    <tr>\n",
       "      <th>4</th>\n",
       "      <td>00017695ad8997eb</td>\n",
       "      <td>-1</td>\n",
       "      <td>-1</td>\n",
       "      <td>-1</td>\n",
       "      <td>-1</td>\n",
       "      <td>-1</td>\n",
       "      <td>-1</td>\n",
       "    </tr>\n",
       "    <tr>\n",
       "      <th>...</th>\n",
       "      <td>...</td>\n",
       "      <td>...</td>\n",
       "      <td>...</td>\n",
       "      <td>...</td>\n",
       "      <td>...</td>\n",
       "      <td>...</td>\n",
       "      <td>...</td>\n",
       "    </tr>\n",
       "    <tr>\n",
       "      <th>153159</th>\n",
       "      <td>fffcd0960ee309b5</td>\n",
       "      <td>-1</td>\n",
       "      <td>-1</td>\n",
       "      <td>-1</td>\n",
       "      <td>-1</td>\n",
       "      <td>-1</td>\n",
       "      <td>-1</td>\n",
       "    </tr>\n",
       "    <tr>\n",
       "      <th>153160</th>\n",
       "      <td>fffd7a9a6eb32c16</td>\n",
       "      <td>-1</td>\n",
       "      <td>-1</td>\n",
       "      <td>-1</td>\n",
       "      <td>-1</td>\n",
       "      <td>-1</td>\n",
       "      <td>-1</td>\n",
       "    </tr>\n",
       "    <tr>\n",
       "      <th>153161</th>\n",
       "      <td>fffda9e8d6fafa9e</td>\n",
       "      <td>-1</td>\n",
       "      <td>-1</td>\n",
       "      <td>-1</td>\n",
       "      <td>-1</td>\n",
       "      <td>-1</td>\n",
       "      <td>-1</td>\n",
       "    </tr>\n",
       "    <tr>\n",
       "      <th>153162</th>\n",
       "      <td>fffe8f1340a79fc2</td>\n",
       "      <td>-1</td>\n",
       "      <td>-1</td>\n",
       "      <td>-1</td>\n",
       "      <td>-1</td>\n",
       "      <td>-1</td>\n",
       "      <td>-1</td>\n",
       "    </tr>\n",
       "    <tr>\n",
       "      <th>153163</th>\n",
       "      <td>ffffce3fb183ee80</td>\n",
       "      <td>-1</td>\n",
       "      <td>-1</td>\n",
       "      <td>-1</td>\n",
       "      <td>-1</td>\n",
       "      <td>-1</td>\n",
       "      <td>-1</td>\n",
       "    </tr>\n",
       "  </tbody>\n",
       "</table>\n",
       "<p>153164 rows × 7 columns</p>\n",
       "</div>"
      ],
      "text/plain": [
       "                      id  toxic  severe_toxic  obscene  threat  insult  \\\n",
       "0       00001cee341fdb12     -1            -1       -1      -1      -1   \n",
       "1       0000247867823ef7     -1            -1       -1      -1      -1   \n",
       "2       00013b17ad220c46     -1            -1       -1      -1      -1   \n",
       "3       00017563c3f7919a     -1            -1       -1      -1      -1   \n",
       "4       00017695ad8997eb     -1            -1       -1      -1      -1   \n",
       "...                  ...    ...           ...      ...     ...     ...   \n",
       "153159  fffcd0960ee309b5     -1            -1       -1      -1      -1   \n",
       "153160  fffd7a9a6eb32c16     -1            -1       -1      -1      -1   \n",
       "153161  fffda9e8d6fafa9e     -1            -1       -1      -1      -1   \n",
       "153162  fffe8f1340a79fc2     -1            -1       -1      -1      -1   \n",
       "153163  ffffce3fb183ee80     -1            -1       -1      -1      -1   \n",
       "\n",
       "        identity_hate  \n",
       "0                  -1  \n",
       "1                  -1  \n",
       "2                  -1  \n",
       "3                  -1  \n",
       "4                  -1  \n",
       "...               ...  \n",
       "153159             -1  \n",
       "153160             -1  \n",
       "153161             -1  \n",
       "153162             -1  \n",
       "153163             -1  \n",
       "\n",
       "[153164 rows x 7 columns]"
      ]
     },
     "execution_count": 31,
     "metadata": {},
     "output_type": "execute_result"
    }
   ],
   "source": [
    "test_labels_df = pd.read_csv('../input/jigsaw-toxic-comment-classification-challenge/test_labels.csv.zip')\n",
    "test_labels_df"
   ]
  },
  {
   "cell_type": "code",
   "execution_count": 32,
   "id": "wicked-white",
   "metadata": {
    "execution": {
     "iopub.execute_input": "2021-05-24T12:12:51.009236Z",
     "iopub.status.busy": "2021-05-24T12:12:50.999353Z",
     "iopub.status.idle": "2021-05-24T12:13:19.010522Z",
     "shell.execute_reply": "2021-05-24T12:13:19.010957Z",
     "shell.execute_reply.started": "2021-05-24T10:48:11.069858Z"
    },
    "papermill": {
     "duration": 29.067564,
     "end_time": "2021-05-24T12:13:19.011114",
     "exception": false,
     "start_time": "2021-05-24T12:12:49.943550",
     "status": "completed"
    },
    "tags": []
   },
   "outputs": [
    {
     "data": {
      "text/plain": [
       "array([[9.8844713e-01, 2.8187656e-01, 9.2102915e-01, 9.4696507e-02,\n",
       "        8.8433087e-01, 5.6582361e-01],\n",
       "       [3.8934927e-03, 1.8517316e-05, 7.8147859e-04, 3.5354185e-06,\n",
       "        8.0510904e-04, 1.3341404e-04],\n",
       "       [1.6292097e-02, 1.8069784e-04, 2.2519769e-03, 2.0693464e-04,\n",
       "        5.0894567e-03, 9.0786541e-04],\n",
       "       ...,\n",
       "       [7.0239225e-04, 2.3729099e-06, 6.6310400e-05, 1.0978567e-05,\n",
       "        9.9011013e-05, 2.0508080e-05],\n",
       "       [5.5383286e-03, 3.0927797e-05, 3.9248378e-04, 3.5349945e-05,\n",
       "        7.2694424e-04, 4.7823088e-03],\n",
       "       [9.8571253e-01, 3.9278708e-02, 7.7541369e-01, 6.9189817e-03,\n",
       "        6.1382020e-01, 8.2404763e-03]], dtype=float32)"
      ]
     },
     "execution_count": 32,
     "metadata": {},
     "output_type": "execute_result"
    }
   ],
   "source": [
    "test_sequences = tokenizer.texts_to_sequences(test_data)\n",
    "test_seq_data = tf.keras.preprocessing.sequence.pad_sequences(test_sequences, maxlen=max_seq_len)\n",
    "preds = model.predict(test_seq_data)\n",
    "preds"
   ]
  },
  {
   "cell_type": "code",
   "execution_count": 33,
   "id": "backed-ticket",
   "metadata": {
    "execution": {
     "iopub.execute_input": "2021-05-24T12:13:20.951077Z",
     "iopub.status.busy": "2021-05-24T12:13:20.950554Z",
     "iopub.status.idle": "2021-05-24T12:13:20.956291Z",
     "shell.execute_reply": "2021-05-24T12:13:20.955881Z",
     "shell.execute_reply.started": "2021-05-24T10:48:34.295684Z"
    },
    "papermill": {
     "duration": 0.97777,
     "end_time": "2021-05-24T12:13:20.956434",
     "exception": false,
     "start_time": "2021-05-24T12:13:19.978664",
     "status": "completed"
    },
    "tags": []
   },
   "outputs": [
    {
     "data": {
      "text/plain": [
       "(153164, 6)"
      ]
     },
     "execution_count": 33,
     "metadata": {},
     "output_type": "execute_result"
    }
   ],
   "source": [
    "preds.shape"
   ]
  },
  {
   "cell_type": "code",
   "execution_count": 34,
   "id": "referenced-arlington",
   "metadata": {
    "execution": {
     "iopub.execute_input": "2021-05-24T12:13:22.902772Z",
     "iopub.status.busy": "2021-05-24T12:13:22.902188Z",
     "iopub.status.idle": "2021-05-24T12:13:22.907721Z",
     "shell.execute_reply": "2021-05-24T12:13:22.907278Z",
     "shell.execute_reply.started": "2021-05-24T10:48:34.305748Z"
    },
    "papermill": {
     "duration": 0.978313,
     "end_time": "2021-05-24T12:13:22.907829",
     "exception": false,
     "start_time": "2021-05-24T12:13:21.929516",
     "status": "completed"
    },
    "tags": []
   },
   "outputs": [
    {
     "data": {
      "text/plain": [
       "(153164,)"
      ]
     },
     "execution_count": 34,
     "metadata": {},
     "output_type": "execute_result"
    }
   ],
   "source": [
    "test_ids.shape"
   ]
  },
  {
   "cell_type": "code",
   "execution_count": 35,
   "id": "dramatic-albania",
   "metadata": {
    "execution": {
     "iopub.execute_input": "2021-05-24T12:13:25.127019Z",
     "iopub.status.busy": "2021-05-24T12:13:25.113712Z",
     "iopub.status.idle": "2021-05-24T12:13:25.132883Z",
     "shell.execute_reply": "2021-05-24T12:13:25.132446Z",
     "shell.execute_reply.started": "2021-05-24T10:48:34.315233Z"
    },
    "papermill": {
     "duration": 1.255143,
     "end_time": "2021-05-24T12:13:25.133016",
     "exception": false,
     "start_time": "2021-05-24T12:13:23.877873",
     "status": "completed"
    },
    "tags": []
   },
   "outputs": [
    {
     "data": {
      "text/html": [
       "<div>\n",
       "<style scoped>\n",
       "    .dataframe tbody tr th:only-of-type {\n",
       "        vertical-align: middle;\n",
       "    }\n",
       "\n",
       "    .dataframe tbody tr th {\n",
       "        vertical-align: top;\n",
       "    }\n",
       "\n",
       "    .dataframe thead th {\n",
       "        text-align: right;\n",
       "    }\n",
       "</style>\n",
       "<table border=\"1\" class=\"dataframe\">\n",
       "  <thead>\n",
       "    <tr style=\"text-align: right;\">\n",
       "      <th></th>\n",
       "      <th>toxic</th>\n",
       "      <th>severe_toxic</th>\n",
       "      <th>obscene</th>\n",
       "      <th>threat</th>\n",
       "      <th>insult</th>\n",
       "      <th>identity_hate</th>\n",
       "      <th>id</th>\n",
       "    </tr>\n",
       "  </thead>\n",
       "  <tbody>\n",
       "    <tr>\n",
       "      <th>0</th>\n",
       "      <td>0.988447</td>\n",
       "      <td>0.281877</td>\n",
       "      <td>0.921029</td>\n",
       "      <td>0.094697</td>\n",
       "      <td>0.884331</td>\n",
       "      <td>0.565824</td>\n",
       "      <td>00001cee341fdb12</td>\n",
       "    </tr>\n",
       "    <tr>\n",
       "      <th>1</th>\n",
       "      <td>0.003893</td>\n",
       "      <td>0.000019</td>\n",
       "      <td>0.000781</td>\n",
       "      <td>0.000004</td>\n",
       "      <td>0.000805</td>\n",
       "      <td>0.000133</td>\n",
       "      <td>0000247867823ef7</td>\n",
       "    </tr>\n",
       "    <tr>\n",
       "      <th>2</th>\n",
       "      <td>0.016292</td>\n",
       "      <td>0.000181</td>\n",
       "      <td>0.002252</td>\n",
       "      <td>0.000207</td>\n",
       "      <td>0.005089</td>\n",
       "      <td>0.000908</td>\n",
       "      <td>00013b17ad220c46</td>\n",
       "    </tr>\n",
       "    <tr>\n",
       "      <th>3</th>\n",
       "      <td>0.000332</td>\n",
       "      <td>0.000001</td>\n",
       "      <td>0.000063</td>\n",
       "      <td>0.000002</td>\n",
       "      <td>0.000060</td>\n",
       "      <td>0.000007</td>\n",
       "      <td>00017563c3f7919a</td>\n",
       "    </tr>\n",
       "    <tr>\n",
       "      <th>4</th>\n",
       "      <td>0.001547</td>\n",
       "      <td>0.000006</td>\n",
       "      <td>0.000184</td>\n",
       "      <td>0.000006</td>\n",
       "      <td>0.000207</td>\n",
       "      <td>0.000030</td>\n",
       "      <td>00017695ad8997eb</td>\n",
       "    </tr>\n",
       "    <tr>\n",
       "      <th>...</th>\n",
       "      <td>...</td>\n",
       "      <td>...</td>\n",
       "      <td>...</td>\n",
       "      <td>...</td>\n",
       "      <td>...</td>\n",
       "      <td>...</td>\n",
       "      <td>...</td>\n",
       "    </tr>\n",
       "    <tr>\n",
       "      <th>153159</th>\n",
       "      <td>0.672628</td>\n",
       "      <td>0.002623</td>\n",
       "      <td>0.106939</td>\n",
       "      <td>0.002219</td>\n",
       "      <td>0.066571</td>\n",
       "      <td>0.001092</td>\n",
       "      <td>fffcd0960ee309b5</td>\n",
       "    </tr>\n",
       "    <tr>\n",
       "      <th>153160</th>\n",
       "      <td>0.043315</td>\n",
       "      <td>0.000592</td>\n",
       "      <td>0.004649</td>\n",
       "      <td>0.018833</td>\n",
       "      <td>0.007361</td>\n",
       "      <td>0.002515</td>\n",
       "      <td>fffd7a9a6eb32c16</td>\n",
       "    </tr>\n",
       "    <tr>\n",
       "      <th>153161</th>\n",
       "      <td>0.000702</td>\n",
       "      <td>0.000002</td>\n",
       "      <td>0.000066</td>\n",
       "      <td>0.000011</td>\n",
       "      <td>0.000099</td>\n",
       "      <td>0.000021</td>\n",
       "      <td>fffda9e8d6fafa9e</td>\n",
       "    </tr>\n",
       "    <tr>\n",
       "      <th>153162</th>\n",
       "      <td>0.005538</td>\n",
       "      <td>0.000031</td>\n",
       "      <td>0.000392</td>\n",
       "      <td>0.000035</td>\n",
       "      <td>0.000727</td>\n",
       "      <td>0.004782</td>\n",
       "      <td>fffe8f1340a79fc2</td>\n",
       "    </tr>\n",
       "    <tr>\n",
       "      <th>153163</th>\n",
       "      <td>0.985713</td>\n",
       "      <td>0.039279</td>\n",
       "      <td>0.775414</td>\n",
       "      <td>0.006919</td>\n",
       "      <td>0.613820</td>\n",
       "      <td>0.008240</td>\n",
       "      <td>ffffce3fb183ee80</td>\n",
       "    </tr>\n",
       "  </tbody>\n",
       "</table>\n",
       "<p>153164 rows × 7 columns</p>\n",
       "</div>"
      ],
      "text/plain": [
       "           toxic  severe_toxic   obscene    threat    insult  identity_hate  \\\n",
       "0       0.988447      0.281877  0.921029  0.094697  0.884331       0.565824   \n",
       "1       0.003893      0.000019  0.000781  0.000004  0.000805       0.000133   \n",
       "2       0.016292      0.000181  0.002252  0.000207  0.005089       0.000908   \n",
       "3       0.000332      0.000001  0.000063  0.000002  0.000060       0.000007   \n",
       "4       0.001547      0.000006  0.000184  0.000006  0.000207       0.000030   \n",
       "...          ...           ...       ...       ...       ...            ...   \n",
       "153159  0.672628      0.002623  0.106939  0.002219  0.066571       0.001092   \n",
       "153160  0.043315      0.000592  0.004649  0.018833  0.007361       0.002515   \n",
       "153161  0.000702      0.000002  0.000066  0.000011  0.000099       0.000021   \n",
       "153162  0.005538      0.000031  0.000392  0.000035  0.000727       0.004782   \n",
       "153163  0.985713      0.039279  0.775414  0.006919  0.613820       0.008240   \n",
       "\n",
       "                      id  \n",
       "0       00001cee341fdb12  \n",
       "1       0000247867823ef7  \n",
       "2       00013b17ad220c46  \n",
       "3       00017563c3f7919a  \n",
       "4       00017695ad8997eb  \n",
       "...                  ...  \n",
       "153159  fffcd0960ee309b5  \n",
       "153160  fffd7a9a6eb32c16  \n",
       "153161  fffda9e8d6fafa9e  \n",
       "153162  fffe8f1340a79fc2  \n",
       "153163  ffffce3fb183ee80  \n",
       "\n",
       "[153164 rows x 7 columns]"
      ]
     },
     "execution_count": 35,
     "metadata": {},
     "output_type": "execute_result"
    }
   ],
   "source": [
    "test_ids = test_ids.reshape(-1, 1)\n",
    "sub_df = pd.DataFrame(preds, columns=train_df.columns[2:])\n",
    "sub_df['id'] = test_ids\n",
    "sub_df"
   ]
  },
  {
   "cell_type": "code",
   "execution_count": 36,
   "id": "loose-bryan",
   "metadata": {
    "execution": {
     "iopub.execute_input": "2021-05-24T12:13:27.137881Z",
     "iopub.status.busy": "2021-05-24T12:13:27.136987Z",
     "iopub.status.idle": "2021-05-24T12:13:27.140705Z",
     "shell.execute_reply": "2021-05-24T12:13:27.141097Z",
     "shell.execute_reply.started": "2021-05-24T10:48:34.340217Z"
    },
    "papermill": {
     "duration": 0.995399,
     "end_time": "2021-05-24T12:13:27.141227",
     "exception": false,
     "start_time": "2021-05-24T12:13:26.145828",
     "status": "completed"
    },
    "tags": []
   },
   "outputs": [
    {
     "data": {
      "text/html": [
       "<div>\n",
       "<style scoped>\n",
       "    .dataframe tbody tr th:only-of-type {\n",
       "        vertical-align: middle;\n",
       "    }\n",
       "\n",
       "    .dataframe tbody tr th {\n",
       "        vertical-align: top;\n",
       "    }\n",
       "\n",
       "    .dataframe thead th {\n",
       "        text-align: right;\n",
       "    }\n",
       "</style>\n",
       "<table border=\"1\" class=\"dataframe\">\n",
       "  <thead>\n",
       "    <tr style=\"text-align: right;\">\n",
       "      <th></th>\n",
       "      <th>id</th>\n",
       "      <th>toxic</th>\n",
       "      <th>severe_toxic</th>\n",
       "      <th>obscene</th>\n",
       "      <th>threat</th>\n",
       "      <th>insult</th>\n",
       "      <th>identity_hate</th>\n",
       "    </tr>\n",
       "  </thead>\n",
       "  <tbody>\n",
       "    <tr>\n",
       "      <th>0</th>\n",
       "      <td>00001cee341fdb12</td>\n",
       "      <td>0.988447</td>\n",
       "      <td>0.281877</td>\n",
       "      <td>0.921029</td>\n",
       "      <td>0.094697</td>\n",
       "      <td>0.884331</td>\n",
       "      <td>0.565824</td>\n",
       "    </tr>\n",
       "    <tr>\n",
       "      <th>1</th>\n",
       "      <td>0000247867823ef7</td>\n",
       "      <td>0.003893</td>\n",
       "      <td>0.000019</td>\n",
       "      <td>0.000781</td>\n",
       "      <td>0.000004</td>\n",
       "      <td>0.000805</td>\n",
       "      <td>0.000133</td>\n",
       "    </tr>\n",
       "    <tr>\n",
       "      <th>2</th>\n",
       "      <td>00013b17ad220c46</td>\n",
       "      <td>0.016292</td>\n",
       "      <td>0.000181</td>\n",
       "      <td>0.002252</td>\n",
       "      <td>0.000207</td>\n",
       "      <td>0.005089</td>\n",
       "      <td>0.000908</td>\n",
       "    </tr>\n",
       "    <tr>\n",
       "      <th>3</th>\n",
       "      <td>00017563c3f7919a</td>\n",
       "      <td>0.000332</td>\n",
       "      <td>0.000001</td>\n",
       "      <td>0.000063</td>\n",
       "      <td>0.000002</td>\n",
       "      <td>0.000060</td>\n",
       "      <td>0.000007</td>\n",
       "    </tr>\n",
       "    <tr>\n",
       "      <th>4</th>\n",
       "      <td>00017695ad8997eb</td>\n",
       "      <td>0.001547</td>\n",
       "      <td>0.000006</td>\n",
       "      <td>0.000184</td>\n",
       "      <td>0.000006</td>\n",
       "      <td>0.000207</td>\n",
       "      <td>0.000030</td>\n",
       "    </tr>\n",
       "    <tr>\n",
       "      <th>...</th>\n",
       "      <td>...</td>\n",
       "      <td>...</td>\n",
       "      <td>...</td>\n",
       "      <td>...</td>\n",
       "      <td>...</td>\n",
       "      <td>...</td>\n",
       "      <td>...</td>\n",
       "    </tr>\n",
       "    <tr>\n",
       "      <th>153159</th>\n",
       "      <td>fffcd0960ee309b5</td>\n",
       "      <td>0.672628</td>\n",
       "      <td>0.002623</td>\n",
       "      <td>0.106939</td>\n",
       "      <td>0.002219</td>\n",
       "      <td>0.066571</td>\n",
       "      <td>0.001092</td>\n",
       "    </tr>\n",
       "    <tr>\n",
       "      <th>153160</th>\n",
       "      <td>fffd7a9a6eb32c16</td>\n",
       "      <td>0.043315</td>\n",
       "      <td>0.000592</td>\n",
       "      <td>0.004649</td>\n",
       "      <td>0.018833</td>\n",
       "      <td>0.007361</td>\n",
       "      <td>0.002515</td>\n",
       "    </tr>\n",
       "    <tr>\n",
       "      <th>153161</th>\n",
       "      <td>fffda9e8d6fafa9e</td>\n",
       "      <td>0.000702</td>\n",
       "      <td>0.000002</td>\n",
       "      <td>0.000066</td>\n",
       "      <td>0.000011</td>\n",
       "      <td>0.000099</td>\n",
       "      <td>0.000021</td>\n",
       "    </tr>\n",
       "    <tr>\n",
       "      <th>153162</th>\n",
       "      <td>fffe8f1340a79fc2</td>\n",
       "      <td>0.005538</td>\n",
       "      <td>0.000031</td>\n",
       "      <td>0.000392</td>\n",
       "      <td>0.000035</td>\n",
       "      <td>0.000727</td>\n",
       "      <td>0.004782</td>\n",
       "    </tr>\n",
       "    <tr>\n",
       "      <th>153163</th>\n",
       "      <td>ffffce3fb183ee80</td>\n",
       "      <td>0.985713</td>\n",
       "      <td>0.039279</td>\n",
       "      <td>0.775414</td>\n",
       "      <td>0.006919</td>\n",
       "      <td>0.613820</td>\n",
       "      <td>0.008240</td>\n",
       "    </tr>\n",
       "  </tbody>\n",
       "</table>\n",
       "<p>153164 rows × 7 columns</p>\n",
       "</div>"
      ],
      "text/plain": [
       "                      id     toxic  severe_toxic   obscene    threat  \\\n",
       "0       00001cee341fdb12  0.988447      0.281877  0.921029  0.094697   \n",
       "1       0000247867823ef7  0.003893      0.000019  0.000781  0.000004   \n",
       "2       00013b17ad220c46  0.016292      0.000181  0.002252  0.000207   \n",
       "3       00017563c3f7919a  0.000332      0.000001  0.000063  0.000002   \n",
       "4       00017695ad8997eb  0.001547      0.000006  0.000184  0.000006   \n",
       "...                  ...       ...           ...       ...       ...   \n",
       "153159  fffcd0960ee309b5  0.672628      0.002623  0.106939  0.002219   \n",
       "153160  fffd7a9a6eb32c16  0.043315      0.000592  0.004649  0.018833   \n",
       "153161  fffda9e8d6fafa9e  0.000702      0.000002  0.000066  0.000011   \n",
       "153162  fffe8f1340a79fc2  0.005538      0.000031  0.000392  0.000035   \n",
       "153163  ffffce3fb183ee80  0.985713      0.039279  0.775414  0.006919   \n",
       "\n",
       "          insult  identity_hate  \n",
       "0       0.884331       0.565824  \n",
       "1       0.000805       0.000133  \n",
       "2       0.005089       0.000908  \n",
       "3       0.000060       0.000007  \n",
       "4       0.000207       0.000030  \n",
       "...          ...            ...  \n",
       "153159  0.066571       0.001092  \n",
       "153160  0.007361       0.002515  \n",
       "153161  0.000099       0.000021  \n",
       "153162  0.000727       0.004782  \n",
       "153163  0.613820       0.008240  \n",
       "\n",
       "[153164 rows x 7 columns]"
      ]
     },
     "execution_count": 36,
     "metadata": {},
     "output_type": "execute_result"
    }
   ],
   "source": [
    "cols = sub_df.columns.tolist()\n",
    "cols = cols[-1:] + cols[:-1]\n",
    "sub_df = sub_df[cols]\n",
    "sub_df"
   ]
  },
  {
   "cell_type": "code",
   "execution_count": 37,
   "id": "adequate-ecuador",
   "metadata": {
    "execution": {
     "iopub.execute_input": "2021-05-24T12:13:29.131671Z",
     "iopub.status.busy": "2021-05-24T12:13:29.130921Z",
     "iopub.status.idle": "2021-05-24T12:13:30.877114Z",
     "shell.execute_reply": "2021-05-24T12:13:30.876149Z",
     "shell.execute_reply.started": "2021-05-24T10:48:34.367362Z"
    },
    "papermill": {
     "duration": 2.722821,
     "end_time": "2021-05-24T12:13:30.877251",
     "exception": false,
     "start_time": "2021-05-24T12:13:28.154430",
     "status": "completed"
    },
    "tags": []
   },
   "outputs": [],
   "source": [
    "sub_df.to_csv('submissioin.csv', index=False, header=True)"
   ]
  },
  {
   "cell_type": "code",
   "execution_count": 38,
   "id": "hazardous-frost",
   "metadata": {
    "execution": {
     "iopub.execute_input": "2021-05-24T12:13:32.879136Z",
     "iopub.status.busy": "2021-05-24T12:13:32.878264Z",
     "iopub.status.idle": "2021-05-24T12:13:32.880864Z",
     "shell.execute_reply": "2021-05-24T12:13:32.880348Z",
     "shell.execute_reply.started": "2021-05-24T10:48:36.284399Z"
    },
    "papermill": {
     "duration": 1.001546,
     "end_time": "2021-05-24T12:13:32.880980",
     "exception": false,
     "start_time": "2021-05-24T12:13:31.879434",
     "status": "completed"
    },
    "tags": []
   },
   "outputs": [],
   "source": [
    "#from sklearn.metrics import roc_auc_score\n",
    "#aucs = []\n",
    "#for idx in range(6):\n",
    "#    aucs.append(roc_auc_score(targets[:,idx], preds[:, idx]))\n",
    "#print(np.mean(aucs))"
   ]
  }
 ],
 "metadata": {
  "kernelspec": {
   "display_name": "Python 3",
   "language": "python",
   "name": "python3"
  },
  "language_info": {
   "codemirror_mode": {
    "name": "ipython",
    "version": 3
   },
   "file_extension": ".py",
   "mimetype": "text/x-python",
   "name": "python",
   "nbconvert_exporter": "python",
   "pygments_lexer": "ipython3",
   "version": "3.7.10"
  },
  "papermill": {
   "default_parameters": {},
   "duration": 429.994446,
   "end_time": "2021-05-24T12:13:37.581242",
   "environment_variables": {},
   "exception": null,
   "input_path": "__notebook__.ipynb",
   "output_path": "__notebook__.ipynb",
   "parameters": {},
   "start_time": "2021-05-24T12:06:27.586796",
   "version": "2.3.3"
  }
 },
 "nbformat": 4,
 "nbformat_minor": 5
}
