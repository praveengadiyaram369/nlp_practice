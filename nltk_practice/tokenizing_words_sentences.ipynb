{
 "cells": [
  {
   "cell_type": "code",
   "execution_count": 14,
   "id": "efficient-market",
   "metadata": {},
   "outputs": [],
   "source": [
    "from nltk.tokenize import word_tokenize, sent_tokenize\n",
    "from nltk.corpus import stopwords\n",
    "from nltk.stem import PorterStemmer"
   ]
  },
  {
   "cell_type": "code",
   "execution_count": 4,
   "id": "motivated-swiss",
   "metadata": {},
   "outputs": [
    {
     "name": "stdout",
     "output_type": "stream",
     "text": [
      "The Natural Language Toolkit, or more commonly NLTK, is a suite of libraries and programs for symbolic and statistical natural language processing (NLP) for English written in the Python programming language.\n",
      "\n",
      "It was developed by Steven Bird and Edward Loper in the Department of Computer and Information Science at the University of Pennsylvania.\n",
      "\n",
      "[4] NLTK includes graphical demonstrations and sample data.\n",
      "\n",
      "It is accompanied by a book that explains the underlying concepts behind the language processing tasks supported by the toolkit,[5] plus a cookbook.\n",
      "\n",
      "[6]\n",
      "\n"
     ]
    }
   ],
   "source": [
    "sample_doc = \"The Natural Language Toolkit, or more commonly NLTK, is a suite of libraries and programs for symbolic and statistical natural language processing (NLP) for English written in the Python programming language. It was developed by Steven Bird and Edward Loper in the Department of Computer and Information Science at the University of Pennsylvania.[4] NLTK includes graphical demonstrations and sample data. It is accompanied by a book that explains the underlying concepts behind the language processing tasks supported by the toolkit,[5] plus a cookbook.[6]\"\n",
    "for sent in sent_tokenize(sample_doc):\n",
    "    print(sent+'\\n')"
   ]
  },
  {
   "cell_type": "code",
   "execution_count": 7,
   "id": "hungry-feedback",
   "metadata": {},
   "outputs": [
    {
     "name": "stdout",
     "output_type": "stream",
     "text": [
      "['The', 'Natural', 'Language', 'Toolkit', ',', 'or', 'more', 'commonly', 'NLTK', ',', 'is', 'a', 'suite', 'of', 'libraries', 'and', 'programs', 'for', 'symbolic', 'and', 'statistical', 'natural', 'language', 'processing', '(', 'NLP', ')', 'for', 'English', 'written', 'in', 'the', 'Python', 'programming', 'language', '.', 'It', 'was', 'developed', 'by', 'Steven', 'Bird', 'and', 'Edward', 'Loper', 'in', 'the', 'Department', 'of', 'Computer', 'and', 'Information', 'Science', 'at', 'the', 'University', 'of', 'Pennsylvania', '.', '[', '4', ']', 'NLTK', 'includes', 'graphical', 'demonstrations', 'and', 'sample', 'data', '.', 'It', 'is', 'accompanied', 'by', 'a', 'book', 'that', 'explains', 'the', 'underlying', 'concepts', 'behind', 'the', 'language', 'processing', 'tasks', 'supported', 'by', 'the', 'toolkit', ',', '[', '5', ']', 'plus', 'a', 'cookbook', '.', '[', '6', ']']\n"
     ]
    }
   ],
   "source": [
    "print(word_tokenize(sample_doc))"
   ]
  },
  {
   "cell_type": "code",
   "execution_count": 12,
   "id": "surprising-aggregate",
   "metadata": {},
   "outputs": [
    {
     "name": "stdout",
     "output_type": "stream",
     "text": [
      "The Natural Language Toolkit , commonly NLTK , suite libraries programs symbolic statistical natural language processing ( NLP ) English written Python programming language . It developed Steven Bird Edward Loper Department Computer Information Science University Pennsylvania . [ 4 ] NLTK includes graphical demonstrations sample data . It accompanied book explains underlying concepts behind language processing tasks supported toolkit , [ 5 ] plus cookbook . [ 6 ]\n"
     ]
    }
   ],
   "source": [
    "stopwords_en = set(stopwords.words())\n",
    "filtered_doc = [w for w in word_tokenize(sample_doc) if w not in stopwords_en]\n",
    "print(' '.join(filtered_doc))"
   ]
  },
  {
   "cell_type": "code",
   "execution_count": 15,
   "id": "several-merit",
   "metadata": {},
   "outputs": [
    {
     "name": "stdout",
     "output_type": "stream",
     "text": [
      "the natur languag toolkit , or more commonli nltk , is a suit of librari and program for symbol and statist natur languag process ( nlp ) for english written in the python program languag . It wa develop by steven bird and edward loper in the depart of comput and inform scienc at the univers of pennsylvania . [ 4 ] nltk includ graphic demonstr and sampl data . It is accompani by a book that explain the underli concept behind the languag process task support by the toolkit , [ 5 ] plu a cookbook . [ 6 ]\n"
     ]
    }
   ],
   "source": [
    "ps = PorterStemmer()\n",
    "stemmed_doc = [ps.stem(w) for w in word_tokenize(sample_doc)]\n",
    "print(' '.join(stemmed_doc))"
   ]
  }
 ],
 "metadata": {
  "kernelspec": {
   "display_name": "Python 3",
   "language": "python",
   "name": "python3"
  },
  "language_info": {
   "codemirror_mode": {
    "name": "ipython",
    "version": 3
   },
   "file_extension": ".py",
   "mimetype": "text/x-python",
   "name": "python",
   "nbconvert_exporter": "python",
   "pygments_lexer": "ipython3",
   "version": "3.7.6"
  }
 },
 "nbformat": 4,
 "nbformat_minor": 5
}
