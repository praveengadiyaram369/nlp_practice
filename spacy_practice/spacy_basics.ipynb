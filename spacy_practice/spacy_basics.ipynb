{
 "cells": [
  {
   "cell_type": "code",
   "execution_count": 1,
   "id": "placed-shareware",
   "metadata": {},
   "outputs": [],
   "source": [
    "import spacy"
   ]
  },
  {
   "cell_type": "code",
   "execution_count": 2,
   "id": "excessive-limitation",
   "metadata": {},
   "outputs": [
    {
     "data": {
      "text/plain": [
       "<spacy.lang.en.English at 0x7ffad8444ad0>"
      ]
     },
     "execution_count": 2,
     "metadata": {},
     "output_type": "execute_result"
    }
   ],
   "source": [
    "# _load english languagae model from spacy library\n",
    "nlp = spacy.load('en_core_web_sm')\n",
    "nlp"
   ]
  },
  {
   "cell_type": "code",
   "execution_count": 3,
   "id": "impossible-manual",
   "metadata": {},
   "outputs": [
    {
     "data": {
      "text/plain": [
       "With the fall of the Western Roman Empire, the city was conquered by the Franks and became a royal seat. After the division of Charlemagne's empire, it was included in the lands of his son Louis the Pious (814). In 837, it was assigned to Charles the Bald, and a few years later it was here that Carolingian heirs discussed what was to become the Treaty of Verdun (843), by which the city became part of Lotharingia under Lothair I. In 860 and 922, Koblenz was the scene of ecclesiastical synods. At the first synod, held in the Liebfrauenkirche, the reconciliation of Louis the German with his half-brother Charles the Bald took place. The city was sacked and destroyed by the Norsemen in 882. In the second, slavery was condemned, specifically it was decreed that any man that 'led away a Christian man and then sold him' should be considered guilty of homicide. In 925, it became part of the eastern German Kingdom, later the Holy Roman Empire."
      ]
     },
     "execution_count": 3,
     "metadata": {},
     "output_type": "execute_result"
    }
   ],
   "source": [
    "plain_txt = \"\"\"With the fall of the Western Roman Empire, the city was conquered by the Franks and became a royal seat. After the division of Charlemagne's empire, it was included in the lands of his son Louis the Pious (814). In 837, it was assigned to Charles the Bald, and a few years later it was here that Carolingian heirs discussed what was to become the Treaty of Verdun (843), by which the city became part of Lotharingia under Lothair I. In 860 and 922, Koblenz was the scene of ecclesiastical synods. At the first synod, held in the Liebfrauenkirche, the reconciliation of Louis the German with his half-brother Charles the Bald took place. The city was sacked and destroyed by the Norsemen in 882. In the second, slavery was condemned, specifically it was decreed that any man that 'led away a Christian man and then sold him' should be considered guilty of homicide. In 925, it became part of the eastern German Kingdom, later the Holy Roman Empire.\"\"\"\n",
    "sample_doc = nlp(plain_txt)\n",
    "sample_doc"
   ]
  }
 ],
 "metadata": {
  "kernelspec": {
   "display_name": "Python 3",
   "language": "python",
   "name": "python3"
  },
  "language_info": {
   "codemirror_mode": {
    "name": "ipython",
    "version": 3
   },
   "file_extension": ".py",
   "mimetype": "text/x-python",
   "name": "python",
   "nbconvert_exporter": "python",
   "pygments_lexer": "ipython3",
   "version": "3.7.6"
  }
 },
 "nbformat": 4,
 "nbformat_minor": 5
}
