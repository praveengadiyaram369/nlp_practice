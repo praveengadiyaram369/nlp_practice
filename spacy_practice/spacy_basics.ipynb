{
 "cells": [
  {
   "cell_type": "code",
   "execution_count": 1,
   "id": "placed-shareware",
   "metadata": {},
   "outputs": [],
   "source": [
    "import spacy\n",
    "from spacy.matcher import Matcher"
   ]
  },
  {
   "cell_type": "code",
   "execution_count": 2,
   "id": "excessive-limitation",
   "metadata": {},
   "outputs": [
    {
     "data": {
      "text/plain": [
       "<spacy.lang.en.English at 0x7f8b6e6b9d10>"
      ]
     },
     "execution_count": 2,
     "metadata": {},
     "output_type": "execute_result"
    }
   ],
   "source": [
    "# _load english language model from spacy library\n",
    "nlp = spacy.load('en_core_web_sm')\n",
    "nlp"
   ]
  },
  {
   "cell_type": "code",
   "execution_count": 3,
   "id": "impossible-manual",
   "metadata": {},
   "outputs": [
    {
     "name": "stdout",
     "output_type": "stream",
     "text": [
      "It  PRON  PRP\n",
      "is  AUX  VBZ\n",
      "a  DET  DT\n",
      "stick  NOUN  NN\n",
      ".  PUNCT  .\n",
      "With  ADP  IN\n",
      "the  DET  DT\n",
      "fall  NOUN  NN\n",
      "of  ADP  IN\n",
      "the  DET  DT\n",
      "Western  PROPN  NNP\n",
      "Roman  PROPN  NNP\n",
      "Empire  PROPN  NNP\n",
      ",  PUNCT  ,\n",
      "the  DET  DT\n",
      "city  NOUN  NN\n",
      "was  AUX  VBD\n",
      "conquered  VERB  VBN\n",
      "by  ADP  IN\n",
      "the  DET  DT\n"
     ]
    }
   ],
   "source": [
    "plain_txt = \"\"\"It is a stick. With the fall of the Western Roman Empire, the city was conquered by the Franks and became a royal seat. After the division of Charlemagne's empire, it was included in the lands of his son Louis the Pious (814). In 837, it was assigned to Charles the Bald, and a few years later it was here that Carolingian heirs discussed what was to become the Treaty of Verdun (843), by which the city became part of Lotharingia under Lothair I. In 860 and 922, Koblenz was the scene of ecclesiastical synods. At the first synod, held in the Liebfrauenkirche, the reconciliation of Louis the German with his half-brother Charles the Bald took place. The city was sacked and destroyed by the Norsemen in 882. In the second, slavery was condemned, specifically it was decreed that any man that 'led away a Christian man and then sold him' should be considered guilty of homicide. In 925, it became part of the eastern German Kingdom, later the Holy Roman Empire.\"\"\"\n",
    "sample_doc = nlp(plain_txt)  # _tokenization of text\n",
    "\n",
    "for token in sample_doc[:20]:\n",
    "    print(f'{token}  {token.pos_}  {token.tag_}') # _parts of speech tagging information"
   ]
  },
  {
   "cell_type": "code",
   "execution_count": 4,
   "id": "traditional-highlight",
   "metadata": {},
   "outputs": [
    {
     "name": "stdout",
     "output_type": "stream",
     "text": [
      "they  they\n",
      "are  be\n",
      "running  run\n",
      "around  around\n",
      "the  the\n",
      "bushes  bush\n"
     ]
    }
   ],
   "source": [
    "text_2 = 'they are running around the bushes'\n",
    "doc_2 = nlp(text_2)\n",
    "\n",
    "for token in doc_2:\n",
    "    print(f'{token}  {token.lemma_}')"
   ]
  },
  {
   "cell_type": "code",
   "execution_count": 5,
   "id": "severe-bahrain",
   "metadata": {},
   "outputs": [
    {
     "data": {
      "text/plain": [
       "[('tok2vec', <spacy.pipeline.tok2vec.Tok2Vec at 0x7f8b6e723b90>),\n",
       " ('tagger', <spacy.pipeline.tagger.Tagger at 0x7f8b6e736230>),\n",
       " ('parser', <spacy.pipeline.dep_parser.DependencyParser at 0x7f8b6e6968a0>),\n",
       " ('attribute_ruler',\n",
       "  <spacy.pipeline.attributeruler.AttributeRuler at 0x7f8b6e753f50>),\n",
       " ('lemmatizer',\n",
       "  <spacy.lang.en.lemmatizer.EnglishLemmatizer at 0x7f8b48600550>),\n",
       " ('ner', <spacy.pipeline.ner.EntityRecognizer at 0x7f8b6e696980>)]"
      ]
     },
     "execution_count": 5,
     "metadata": {},
     "output_type": "execute_result"
    }
   ],
   "source": [
    "nlp.pipeline"
   ]
  },
  {
   "cell_type": "code",
   "execution_count": 12,
   "id": "arctic-astrology",
   "metadata": {},
   "outputs": [
    {
     "data": {
      "text/plain": [
       "[it was, it became]"
      ]
     },
     "execution_count": 12,
     "metadata": {},
     "output_type": "execute_result"
    }
   ],
   "source": [
    "matcher = Matcher(vocab=nlp.vocab)\n",
    "\n",
    "# _match the words which are pronouns and verbs\n",
    "match_pattern = [{'POS':'PRON'}, {'POS':'VERB'}]\n",
    "\n",
    "matcher.add('pronoun+verb', patterns=[match_pattern])\n",
    "\n",
    "matcher_out = matcher(sample_doc, as_spans=True)\n",
    "matcher_out"
   ]
  },
  {
   "cell_type": "code",
   "execution_count": 13,
   "id": "recent-network",
   "metadata": {},
   "outputs": [
    {
     "data": {
      "text/plain": [
       "[it was, it became]"
      ]
     },
     "execution_count": 13,
     "metadata": {},
     "output_type": "execute_result"
    }
   ],
   "source": [
    "pattern_2 = [{'POS':'PRON'}, {'POS':'PRON', 'OP':'+'}, {'POS':'VERB'}]\n",
    "matcher.add('pronoun+aux+verb', patterns=[pattern_2])\n",
    "\n",
    "matcher_out = matcher(sample_doc, as_spans=True)\n",
    "matcher_out"
   ]
  }
 ],
 "metadata": {
  "kernelspec": {
   "display_name": "Python 3",
   "language": "python",
   "name": "python3"
  },
  "language_info": {
   "codemirror_mode": {
    "name": "ipython",
    "version": 3
   },
   "file_extension": ".py",
   "mimetype": "text/x-python",
   "name": "python",
   "nbconvert_exporter": "python",
   "pygments_lexer": "ipython3",
   "version": "3.7.6"
  }
 },
 "nbformat": 4,
 "nbformat_minor": 5
}
