{
  "nbformat": 4,
  "nbformat_minor": 0,
  "metadata": {
    "colab": {
      "name": "python_map_reduce.ipynb",
      "provenance": []
    },
    "kernelspec": {
      "name": "python3",
      "display_name": "Python 3"
    }
  },
  "cells": [
    {
      "cell_type": "markdown",
      "metadata": {
        "id": "VLuNanYbGy7c"
      },
      "source": [
        "<a href=\"https://colab.research.google.com/drive/1fhLq0A1uh_zifLMZ4gtvaTeXFYyoOZP_?usp=sharing\" target=\"_parent\"><img src=\"https://colab.research.google.com/assets/colab-badge.svg\" alt=\"Open In Colab\"/></a>"
      ]
    },
    {
      "cell_type": "code",
      "metadata": {
        "id": "98g8zeB0Eepi",
        "colab": {
          "base_uri": "https://localhost:8080/"
        },
        "outputId": "0c70d215-a3b4-44b4-ea0f-d0f3f3a608ed"
      },
      "source": [
        "try:\n",
        "    from google.colab import drive\n",
        "    drive.mount('/content/drive', force_remount=True)\n",
        "    COLAB = True\n",
        "    print(\"Note: using Google CoLab\")\n",
        "    %tensorflow_version 2.x\n",
        "except:\n",
        "    print(\"Note: not using Google CoLab\")\n",
        "    COLAB = False"
      ],
      "execution_count": 1,
      "outputs": [
        {
          "output_type": "stream",
          "text": [
            "Mounted at /content/drive\n",
            "Note: using Google CoLab\n"
          ],
          "name": "stdout"
        }
      ]
    },
    {
      "cell_type": "code",
      "metadata": {
        "id": "1EScC2HBUhVT"
      },
      "source": [
        "num_list = [1, 2, 3, 4, 5]"
      ],
      "execution_count": 2,
      "outputs": []
    },
    {
      "cell_type": "markdown",
      "metadata": {
        "id": "ZZ5DNK9CVR6W"
      },
      "source": [
        "# Map function\n",
        "1.   map function of python is used to apply a function to all values of a particular iterable such as list and returns a map object\n",
        "2.   map object is also iterable\n",
        "3.   syntax -> map(method_name, list_iterable)\n",
        "4.   map always creates a list with same size as original\n"
      ]
    },
    {
      "cell_type": "code",
      "metadata": {
        "id": "oojFfj0vMerP"
      },
      "source": [
        "def add_one(val):\n",
        "  return val+1"
      ],
      "execution_count": 3,
      "outputs": []
    },
    {
      "cell_type": "code",
      "metadata": {
        "colab": {
          "base_uri": "https://localhost:8080/"
        },
        "id": "xHRfSNSeMj1_",
        "outputId": "1e7b8596-ac52-4476-aedc-cb30ea7d29a2"
      },
      "source": [
        "map_add_one = map(add_one, num_list)\n",
        "print(map_add_one)\n",
        "for val in map_add_one:\n",
        "  print(val)"
      ],
      "execution_count": 4,
      "outputs": [
        {
          "output_type": "stream",
          "text": [
            "<map object at 0x7f6e3fb26588>\n",
            "2\n",
            "3\n",
            "4\n",
            "5\n",
            "6\n"
          ],
          "name": "stdout"
        }
      ]
    },
    {
      "cell_type": "markdown",
      "metadata": {
        "id": "BAIogu79Vwh8"
      },
      "source": [
        "# Filter function\n",
        "1.   filter function of python is almost similar to map but the resulting list/ouput might be having the size less than the original.\n",
        "2.   it also applies the function on all values, but the resulting ouput list is dependent on the boolean return of the method specified.\n",
        "3.   syntax -> filter(method_name, list_iterable)"
      ]
    },
    {
      "cell_type": "code",
      "metadata": {
        "id": "_yNwM5rPOxvv"
      },
      "source": [
        "def drop_odd_num(val):\n",
        "  return val%2 == 0"
      ],
      "execution_count": 5,
      "outputs": []
    },
    {
      "cell_type": "code",
      "metadata": {
        "colab": {
          "base_uri": "https://localhost:8080/"
        },
        "id": "7bU8J8ZpPEqX",
        "outputId": "1b8fd6f3-9e26-4475-956e-cdabf0e3c5fa"
      },
      "source": [
        "filter_drop_odd = filter(drop_odd_num, num_list)\n",
        "for val in filter_drop_odd:\n",
        "  print(val)"
      ],
      "execution_count": 6,
      "outputs": [
        {
          "output_type": "stream",
          "text": [
            "2\n",
            "4\n"
          ],
          "name": "stdout"
        }
      ]
    },
    {
      "cell_type": "markdown",
      "metadata": {
        "id": "Hc5fqIblWEBS"
      },
      "source": [
        "# Lambda function\n",
        "1.   lambda funciton of python helps us to write a unnamed function for smaller tasks\n",
        "2.   lambda(var: var_func, list_iterable)\n"
      ]
    },
    {
      "cell_type": "code",
      "metadata": {
        "colab": {
          "base_uri": "https://localhost:8080/"
        },
        "id": "HRKitjljRDkI",
        "outputId": "2c50ea79-a063-49da-be31-69d12191615d"
      },
      "source": [
        "filter_drop_even = filter(lambda x:x%2 == 1, num_list)\n",
        "for val in filter_drop_even:\n",
        "  print(val)"
      ],
      "execution_count": 7,
      "outputs": [
        {
          "output_type": "stream",
          "text": [
            "1\n",
            "3\n",
            "5\n"
          ],
          "name": "stdout"
        }
      ]
    },
    {
      "cell_type": "markdown",
      "metadata": {
        "id": "ed078yhYWVPN"
      },
      "source": [
        "# Reduce function\n",
        "1.   reduce funciton of python helps us to accumulate the data of any form\n",
        "2.   all of the above functions are list-in-list-out, but the function reduce is list-in-value-out\n",
        "3.   syntax -> reduce(lambda x,y: operation_on_x_and_y, list_iterable)\n",
        "4.   there are two values in lambda where the first one is accumulator and the second one is the value to be added to the accumulator"
      ]
    },
    {
      "cell_type": "code",
      "metadata": {
        "colab": {
          "base_uri": "https://localhost:8080/"
        },
        "id": "bzfUzwjxUF5E",
        "outputId": "b4890e52-c7ba-42b8-e74c-410d38b37ec4"
      },
      "source": [
        "from functools import reduce\n",
        "\n",
        "reduce_sum = reduce(lambda x,y: x+y, num_list)\n",
        "print(reduce_sum)"
      ],
      "execution_count": 8,
      "outputs": [
        {
          "output_type": "stream",
          "text": [
            "15\n"
          ],
          "name": "stdout"
        }
      ]
    }
  ]
}